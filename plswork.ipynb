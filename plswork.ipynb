{
 "cells": [
  {
   "cell_type": "code",
   "execution_count": 7,
   "metadata": {},
   "outputs": [
    {
     "name": "stdout",
     "output_type": "stream",
     "text": [
      "Collecting autorejectNote: you may need to restart the kernel to use updated packages.\n",
      "\n",
      "  Downloading autoreject-0.4.3-py3-none-any.whl.metadata (6.3 kB)\n",
      "Requirement already satisfied: numpy>=1.20.2 in d:\\coding\\tms-research\\.conda\\lib\\site-packages (from autoreject) (1.26.4)\n",
      "Requirement already satisfied: scipy>=1.6.3 in d:\\coding\\tms-research\\.conda\\lib\\site-packages (from autoreject) (1.12.0)\n",
      "Requirement already satisfied: mne>=1.0 in d:\\coding\\tms-research\\.conda\\lib\\site-packages (from mne[hdf5]>=1.0->autoreject) (1.6.1)\n",
      "Requirement already satisfied: scikit-learn>=0.24.2 in d:\\coding\\tms-research\\.conda\\lib\\site-packages (from autoreject) (1.4.1.post1)\n",
      "Requirement already satisfied: joblib in d:\\coding\\tms-research\\.conda\\lib\\site-packages (from autoreject) (1.3.2)\n",
      "Requirement already satisfied: matplotlib>=3.4.0 in d:\\coding\\tms-research\\.conda\\lib\\site-packages (from autoreject) (3.8.3)\n",
      "Requirement already satisfied: contourpy>=1.0.1 in d:\\coding\\tms-research\\.conda\\lib\\site-packages (from matplotlib>=3.4.0->autoreject) (1.2.0)\n",
      "Requirement already satisfied: cycler>=0.10 in d:\\coding\\tms-research\\.conda\\lib\\site-packages (from matplotlib>=3.4.0->autoreject) (0.12.1)\n",
      "Requirement already satisfied: fonttools>=4.22.0 in d:\\coding\\tms-research\\.conda\\lib\\site-packages (from matplotlib>=3.4.0->autoreject) (4.50.0)\n",
      "Requirement already satisfied: kiwisolver>=1.3.1 in d:\\coding\\tms-research\\.conda\\lib\\site-packages (from matplotlib>=3.4.0->autoreject) (1.4.5)\n",
      "Requirement already satisfied: packaging>=20.0 in d:\\coding\\tms-research\\.conda\\lib\\site-packages (from matplotlib>=3.4.0->autoreject) (24.0)\n",
      "Requirement already satisfied: pillow>=8 in d:\\coding\\tms-research\\.conda\\lib\\site-packages (from matplotlib>=3.4.0->autoreject) (10.2.0)\n",
      "Requirement already satisfied: pyparsing>=2.3.1 in d:\\coding\\tms-research\\.conda\\lib\\site-packages (from matplotlib>=3.4.0->autoreject) (3.1.2)\n",
      "Requirement already satisfied: python-dateutil>=2.7 in d:\\coding\\tms-research\\.conda\\lib\\site-packages (from matplotlib>=3.4.0->autoreject) (2.9.0)\n",
      "Requirement already satisfied: tqdm in d:\\coding\\tms-research\\.conda\\lib\\site-packages (from mne>=1.0->mne[hdf5]>=1.0->autoreject) (4.66.2)\n",
      "Requirement already satisfied: pooch>=1.5 in d:\\coding\\tms-research\\.conda\\lib\\site-packages (from mne>=1.0->mne[hdf5]>=1.0->autoreject) (1.8.1)\n",
      "Requirement already satisfied: decorator in d:\\coding\\tms-research\\.conda\\lib\\site-packages (from mne>=1.0->mne[hdf5]>=1.0->autoreject) (5.1.1)\n",
      "Requirement already satisfied: jinja2 in d:\\coding\\tms-research\\.conda\\lib\\site-packages (from mne>=1.0->mne[hdf5]>=1.0->autoreject) (3.1.3)\n",
      "Requirement already satisfied: lazy-loader>=0.3 in d:\\coding\\tms-research\\.conda\\lib\\site-packages (from mne>=1.0->mne[hdf5]>=1.0->autoreject) (0.3)\n",
      "Collecting h5io (from mne[hdf5]>=1.0->autoreject)\n",
      "  Downloading h5io-0.2.2-py3-none-any.whl.metadata (4.2 kB)\n",
      "Collecting pymatreader (from mne[hdf5]>=1.0->autoreject)\n",
      "  Downloading pymatreader-0.0.32-py3-none-any.whl.metadata (1.4 kB)\n",
      "Requirement already satisfied: threadpoolctl>=2.0.0 in d:\\coding\\tms-research\\.conda\\lib\\site-packages (from scikit-learn>=0.24.2->autoreject) (3.4.0)\n",
      "Requirement already satisfied: platformdirs>=2.5.0 in d:\\coding\\tms-research\\.conda\\lib\\site-packages (from pooch>=1.5->mne>=1.0->mne[hdf5]>=1.0->autoreject) (4.2.0)\n",
      "Requirement already satisfied: requests>=2.19.0 in d:\\coding\\tms-research\\.conda\\lib\\site-packages (from pooch>=1.5->mne>=1.0->mne[hdf5]>=1.0->autoreject) (2.31.0)\n",
      "Requirement already satisfied: six>=1.5 in d:\\coding\\tms-research\\.conda\\lib\\site-packages (from python-dateutil>=2.7->matplotlib>=3.4.0->autoreject) (1.16.0)\n",
      "Collecting h5py (from h5io->mne[hdf5]>=1.0->autoreject)\n",
      "  Downloading h5py-3.10.0-cp311-cp311-win_amd64.whl.metadata (2.5 kB)\n",
      "Requirement already satisfied: MarkupSafe>=2.0 in d:\\coding\\tms-research\\.conda\\lib\\site-packages (from jinja2->mne>=1.0->mne[hdf5]>=1.0->autoreject) (2.1.5)\n",
      "Collecting xmltodict (from pymatreader->mne[hdf5]>=1.0->autoreject)\n",
      "  Downloading xmltodict-0.13.0-py2.py3-none-any.whl.metadata (7.7 kB)\n",
      "Requirement already satisfied: colorama in d:\\coding\\tms-research\\.conda\\lib\\site-packages (from tqdm->mne>=1.0->mne[hdf5]>=1.0->autoreject) (0.4.6)\n",
      "Requirement already satisfied: charset-normalizer<4,>=2 in d:\\coding\\tms-research\\.conda\\lib\\site-packages (from requests>=2.19.0->pooch>=1.5->mne>=1.0->mne[hdf5]>=1.0->autoreject) (3.3.2)\n",
      "Requirement already satisfied: idna<4,>=2.5 in d:\\coding\\tms-research\\.conda\\lib\\site-packages (from requests>=2.19.0->pooch>=1.5->mne>=1.0->mne[hdf5]>=1.0->autoreject) (3.6)\n",
      "Requirement already satisfied: urllib3<3,>=1.21.1 in d:\\coding\\tms-research\\.conda\\lib\\site-packages (from requests>=2.19.0->pooch>=1.5->mne>=1.0->mne[hdf5]>=1.0->autoreject) (2.2.1)\n",
      "Requirement already satisfied: certifi>=2017.4.17 in d:\\coding\\tms-research\\.conda\\lib\\site-packages (from requests>=2.19.0->pooch>=1.5->mne>=1.0->mne[hdf5]>=1.0->autoreject) (2024.2.2)\n",
      "Downloading autoreject-0.4.3-py3-none-any.whl (29 kB)\n",
      "Downloading h5io-0.2.2-py3-none-any.whl (17 kB)\n",
      "Downloading pymatreader-0.0.32-py3-none-any.whl (9.0 kB)\n",
      "Downloading h5py-3.10.0-cp311-cp311-win_amd64.whl (2.7 MB)\n",
      "   ---------------------------------------- 0.0/2.7 MB ? eta -:--:--\n",
      "   --- ------------------------------------ 0.2/2.7 MB 4.8 MB/s eta 0:00:01\n",
      "   --- ------------------------------------ 0.2/2.7 MB 4.8 MB/s eta 0:00:01\n",
      "   ----- ---------------------------------- 0.4/2.7 MB 2.7 MB/s eta 0:00:01\n",
      "   ------- -------------------------------- 0.5/2.7 MB 2.3 MB/s eta 0:00:01\n",
      "   -------- ------------------------------- 0.6/2.7 MB 2.2 MB/s eta 0:00:01\n",
      "   --------- ------------------------------ 0.7/2.7 MB 2.2 MB/s eta 0:00:01\n",
      "   ----------- ---------------------------- 0.7/2.7 MB 2.1 MB/s eta 0:00:01\n",
      "   ------------ --------------------------- 0.8/2.7 MB 2.1 MB/s eta 0:00:01\n",
      "   ------------- -------------------------- 0.9/2.7 MB 2.1 MB/s eta 0:00:01\n",
      "   -------------- ------------------------- 1.0/2.7 MB 2.1 MB/s eta 0:00:01\n",
      "   ---------------- ----------------------- 1.1/2.7 MB 2.1 MB/s eta 0:00:01\n",
      "   ------------------ --------------------- 1.2/2.7 MB 2.1 MB/s eta 0:00:01\n",
      "   -------------------- ------------------- 1.4/2.7 MB 2.1 MB/s eta 0:00:01\n",
      "   ---------------------- ----------------- 1.5/2.7 MB 2.2 MB/s eta 0:00:01\n",
      "   ------------------------ --------------- 1.6/2.7 MB 2.2 MB/s eta 0:00:01\n",
      "   -------------------------- ------------- 1.8/2.7 MB 2.3 MB/s eta 0:00:01\n",
      "   ---------------------------- ----------- 1.9/2.7 MB 2.4 MB/s eta 0:00:01\n",
      "   ------------------------------ --------- 2.1/2.7 MB 2.4 MB/s eta 0:00:01\n",
      "   --------------------------------- ------ 2.2/2.7 MB 2.4 MB/s eta 0:00:01\n",
      "   ------------------------------------ --- 2.4/2.7 MB 2.5 MB/s eta 0:00:01\n",
      "   -------------------------------------- - 2.6/2.7 MB 2.5 MB/s eta 0:00:01\n",
      "   ---------------------------------------- 2.7/2.7 MB 2.5 MB/s eta 0:00:00\n",
      "Downloading xmltodict-0.13.0-py2.py3-none-any.whl (10.0 kB)\n",
      "Installing collected packages: xmltodict, h5py, pymatreader, h5io, autoreject\n",
      "Successfully installed autoreject-0.4.3 h5io-0.2.2 h5py-3.10.0 pymatreader-0.0.32 xmltodict-0.13.0\n"
     ]
    }
   ],
   "source": [
    "%pip install autoreject"
   ]
  },
  {
   "cell_type": "code",
   "execution_count": 23,
   "metadata": {},
   "outputs": [],
   "source": [
    "# Imports\n",
    "import os\n",
    "import pandas as pd\n",
    "from ipywidgets import *\n",
    "import numpy as np\n",
    "import mne\n",
    "from mne.preprocessing import ICA\n",
    "\n",
    "# import torch\n",
    "from mne_icalabel import label_components\n",
    "\n",
    "import matplotlib.pyplot as plt\n",
    "from mne.preprocessing import ICA\n",
    "import scipy\n",
    "from autoreject import AutoReject, get_rejection_threshold\n",
    "\n",
    "import preprocessing\n",
    "import utils\n",
    "\n",
    "# Specify graph rendering method\n",
    "# %matplotlib widget\n",
    "plt.switch_backend(\"TkAgg\")\n",
    "\n",
    "TMS_EVENT_ID = \"Stimulus/S  1\""
   ]
  },
  {
   "cell_type": "code",
   "execution_count": 24,
   "metadata": {},
   "outputs": [
    {
     "name": "stdout",
     "output_type": "stream",
     "text": [
      "Extracting parameters from ./dataset\\TMS-EEG-H_02_S1b_spTEP_pre.vhdr...\n",
      "Setting channel info structure...\n",
      "Reading 0 ... 2696199  =      0.000 ...   539.240 secs...\n"
     ]
    }
   ],
   "source": [
    "# Currently for 1 patient, will be generalized into a pipeline for all patients\n",
    "\n",
    "DATASET_PATH = \"./dataset\"\n",
    "FILENAME_TEMPLATE = \"TMS-EEG-H_02_S1b_{}_{}.vhdr\"\n",
    "\n",
    "# rsEEG_pre_raw = mne.io.read_raw_brainvision(os.path.join(DATASET_PATH, FILENAME_TEMPLATE.format(\"rsEEG\", \"pre\")), preload=True)\n",
    "spTEP_pre_raw = mne.io.read_raw_brainvision(\n",
    "    os.path.join(DATASET_PATH, FILENAME_TEMPLATE.format(\"spTEP\", \"pre\")), preload=True\n",
    ")\n",
    "spTEP_pre_raw.drop_channels([\"HEOG\", \"VEOG\"])\n",
    "\n",
    "clone = spTEP_pre_raw.copy()\n",
    "\n",
    "# rsEEG_post_raw = mne.io.read_raw_brainvision(os.path.join(DATASET_PATH, FILENAME_TEMPLATE.format(\"rsEEG\", \"post\")), preload=True)\n",
    "# spTEP_post_raw = mne.io.read_raw_brainvision(os.path.join(DATASET_PATH, FILENAME_TEMPLATE.format(\"spTEP\", \"post\")), preload=True)\n",
    "# spTEP_post_raw.drop_channels(['HEOG', 'VEOG'])"
   ]
  },
  {
   "cell_type": "code",
   "execution_count": 3,
   "metadata": {},
   "outputs": [
    {
     "name": "stdout",
     "output_type": "stream",
     "text": [
      "Used Annotations descriptions: ['New Segment/', 'Stimulus/S  1']\n",
      "Not setting metadata\n",
      "151 matching events found\n",
      "No baseline correction applied\n",
      "0 projection items activated\n",
      "Using data from preloaded Raw for 151 events and 1026 original time points ...\n",
      "1 bad epochs dropped\n"
     ]
    }
   ],
   "source": [
    "utils.plot_average_response(spTEP_pre_raw, tmin=-0.005, tmax=0.2)"
   ]
  },
  {
   "cell_type": "markdown",
   "metadata": {},
   "source": [
    "# Pipeline (TESA)\n",
    "\n",
    "1. EOG\n",
    "2. Channel rejection (necessary?)\n",
    "3. Epoching\n",
    "4. Demeaning\n",
    "5. TMS-pulse interpolation\n",
    "6. Downsampling\n",
    "7. Trials rejection\n",
    "8. ICA - 1\n",
    "9. Bandpass & notch filters\n",
    "10. ICA - 2\n",
    "11. Bad-channels interpolation\n",
    "12. Rereferencing\n",
    "13. Baseline correction\n"
   ]
  },
  {
   "cell_type": "code",
   "execution_count": 8,
   "metadata": {},
   "outputs": [
    {
     "name": "stdout",
     "output_type": "stream",
     "text": [
      "Used Annotations descriptions: ['New Segment/', 'Stimulus/S  1']\n",
      "Not setting metadata\n",
      "151 matching events found\n",
      "No baseline correction applied\n",
      "0 projection items activated\n",
      "Using data from preloaded Raw for 151 events and 1026 original time points ...\n"
     ]
    },
    {
     "name": "stdout",
     "output_type": "stream",
     "text": [
      "1 bad epochs dropped\n"
     ]
    }
   ],
   "source": [
    "utils.plot_average_response(clone, tmin=-0.005, tmax=0.2)"
   ]
  },
  {
   "cell_type": "code",
   "execution_count": 25,
   "metadata": {},
   "outputs": [],
   "source": [
    "preprocessing.remove_EOG(clone)"
   ]
  },
  {
   "cell_type": "code",
   "execution_count": 26,
   "metadata": {},
   "outputs": [
    {
     "name": "stdout",
     "output_type": "stream",
     "text": [
      "Used Annotations descriptions: ['New Segment/', 'Stimulus/S  1']\n"
     ]
    }
   ],
   "source": [
    "# Epoching\n",
    "events, event_dict = mne.events_from_annotations(clone)\n",
    "\n",
    "tms_event_id = event_dict[TMS_EVENT_ID]\n",
    "\n",
    "epochs = mne.Epochs(\n",
    "    clone,\n",
    "    events,\n",
    "    event_id=event_dict[TMS_EVENT_ID],\n",
    "    tmin=-1,\n",
    "    tmax=1,\n",
    "    baseline=(None, 0),\n",
    "    reject=None,\n",
    "    verbose=False,\n",
    "    detrend=0,\n",
    "    preload=True,\n",
    ")"
   ]
  },
  {
   "cell_type": "code",
   "execution_count": 27,
   "metadata": {},
   "outputs": [
    {
     "name": "stdout",
     "output_type": "stream",
     "text": [
      "Applying baseline correction (mode: mean)\n"
     ]
    }
   ],
   "source": [
    "epochs = epochs.apply_baseline((None, None))"
   ]
  },
  {
   "cell_type": "code",
   "execution_count": 28,
   "metadata": {},
   "outputs": [
    {
     "name": "stdout",
     "output_type": "stream",
     "text": [
      "Setting channel interpolation method to {'eeg': 'spline'}.\n"
     ]
    },
    {
     "name": "stderr",
     "output_type": "stream",
     "text": [
      "C:\\Users\\Tomas\\AppData\\Local\\Temp\\ipykernel_11184\\3460290801.py:23: RuntimeWarning: No bad channels to interpolate. Doing nothing...\n",
      "  epochs.interpolate_bads(reset_bads=True, mode='spline')\n"
     ]
    },
    {
     "data": {
      "text/html": [
       "<table class=\"table table-hover table-striped table-sm table-responsive small\">\n",
       "    <tr>\n",
       "        <th>Number of events</th>\n",
       "        <td>150</td>\n",
       "    </tr>\n",
       "    <tr>\n",
       "        <th>Events</th>\n",
       "        \n",
       "        <td>1: 150</td>\n",
       "        \n",
       "    </tr>\n",
       "    <tr>\n",
       "        <th>Time range</th>\n",
       "        <td>-1.000 – 1.000 s</td>\n",
       "    </tr>\n",
       "    <tr>\n",
       "        <th>Baseline</th>\n",
       "        <td>-1.000 – 1.000 s</td>\n",
       "    </tr>\n",
       "</table>"
      ],
      "text/plain": [
       "<Epochs |  150 events (all good), -1 – 1 s, baseline -1 – 1 s, ~709.7 MB, data loaded,\n",
       " '1': 150>"
      ]
     },
     "execution_count": 28,
     "metadata": {},
     "output_type": "execute_result"
    }
   ],
   "source": [
    "tms_window_start = -0.002  # 2ms before\n",
    "tms_window_end = 0.005     # 5ms after\n",
    "\n",
    "# Convert time window to samples\n",
    "sfreq = epochs.info['sfreq']\n",
    "samples_window_start = int(tms_window_start * sfreq)\n",
    "samples_window_end = int(tms_window_end * sfreq)\n",
    "\n",
    "# Iterate over each TMS event\n",
    "for tms_event in events:\n",
    "    if tms_event[2] == tms_event_id:  # Check if the event is a TMS pulse event\n",
    "        # Get the index of the event\n",
    "        event_index = tms_event[0]\n",
    "\n",
    "        # Determine the start and end samples of the time window around the TMS pulse\n",
    "        window_start = event_index + int(tms_window_start * sfreq)\n",
    "        window_end = event_index + int(tms_window_end * sfreq)\n",
    "\n",
    "        # Remove the data within the time window around the TMS pulse\n",
    "        epochs._data[:, :, window_start:window_end] = np.nan\n",
    "\n",
    "# Cubically interpolate the removed data\n",
    "epochs.interpolate_bads(reset_bads=True, mode='spline')"
   ]
  },
  {
   "cell_type": "code",
   "execution_count": 29,
   "metadata": {},
   "outputs": [
    {
     "name": "stdout",
     "output_type": "stream",
     "text": [
      "[]\n"
     ]
    }
   ],
   "source": [
    "print(epochs.info['bads'])  "
   ]
  },
  {
   "cell_type": "code",
   "execution_count": null,
   "metadata": {},
   "outputs": [],
   "source": []
  }
 ],
 "metadata": {
  "kernelspec": {
   "display_name": "Python 3",
   "language": "python",
   "name": "python3"
  },
  "language_info": {
   "codemirror_mode": {
    "name": "ipython",
    "version": 3
   },
   "file_extension": ".py",
   "mimetype": "text/x-python",
   "name": "python",
   "nbconvert_exporter": "python",
   "pygments_lexer": "ipython3",
   "version": "3.11.8"
  }
 },
 "nbformat": 4,
 "nbformat_minor": 2
}
