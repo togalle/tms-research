{
 "cells": [
  {
   "cell_type": "code",
   "execution_count": 1,
   "metadata": {},
   "outputs": [],
   "source": [
    "import cleaning"
   ]
  },
  {
   "cell_type": "code",
   "execution_count": 2,
   "metadata": {},
   "outputs": [
    {
     "name": "stdout",
     "output_type": "stream",
     "text": [
      "TMS-EEG-H_02_S1b_spTEP_post.vhdr\n",
      "TMS-EEG-H_02_S1b_spTEP_post\n",
      "./dataset-cleaned/TMS-EEG-H_02_S1b_spTEP_post-epo.fif\n",
      "TMS-EEG-H_02_S1b_rsEEG_pre.vhdr\n",
      "TMS-EEG-H_02_S1b_rsEEG_pre\n",
      "./dataset-cleaned/TMS-EEG-H_02_S1b_rsEEG_pre-epo.fif\n",
      "TMS-EEG-H_02_S1b_spTEP_pre.vhdr\n",
      "TMS-EEG-H_02_S1b_spTEP_pre\n",
      "./dataset-cleaned/TMS-EEG-H_02_S1b_spTEP_pre-epo.fif\n",
      "TMS-EEG-H_02_S1b_rsEEG_post.vhdr\n",
      "TMS-EEG-H_02_S1b_rsEEG_post\n",
      "./dataset-cleaned/TMS-EEG-H_02_S1b_rsEEG_post-epo.fif\n"
     ]
    },
    {
     "name": "stderr",
     "output_type": "stream",
     "text": [
      "100%|██████████| 4/4 [00:00<00:00, 33288.13it/s]\n"
     ]
    }
   ],
   "source": [
    "cleaning.process_folder(\"./dataset/\", \"./dataset-cleaned/\")"
   ]
  },
  {
   "cell_type": "code",
   "execution_count": null,
   "metadata": {},
   "outputs": [],
   "source": []
  }
 ],
 "metadata": {
  "kernelspec": {
   "display_name": "tms",
   "language": "python",
   "name": "python3"
  },
  "language_info": {
   "codemirror_mode": {
    "name": "ipython",
    "version": 3
   },
   "file_extension": ".py",
   "mimetype": "text/x-python",
   "name": "python",
   "nbconvert_exporter": "python",
   "pygments_lexer": "ipython3",
   "version": "3.12.0"
  }
 },
 "nbformat": 4,
 "nbformat_minor": 2
}
