{
 "cells": [
  {
   "cell_type": "code",
   "execution_count": null,
   "metadata": {},
   "outputs": [],
   "source": [
    "%pip install mne-icalabel"
   ]
  },
  {
   "cell_type": "code",
   "execution_count": 1,
   "metadata": {},
   "outputs": [],
   "source": [
    "# Imports\n",
    "import os\n",
    "from ipywidgets import *\n",
    "import numpy as np\n",
    "import mne\n",
    "from mne.preprocessing import ICA\n",
    "from mne_icalabel import label_components\n",
    "import matplotlib.pyplot as plt\n",
    "from scipy.interpolate import interp1d\n",
    "\n",
    "import utils\n",
    "\n",
    "# Specify graph rendering method\n",
    "# %matplotlib widget\n",
    "plt.switch_backend(\"TkAgg\")"
   ]
  },
  {
   "cell_type": "code",
   "execution_count": 2,
   "metadata": {},
   "outputs": [
    {
     "name": "stdout",
     "output_type": "stream",
     "text": [
      "Extracting parameters from ./dataset/TMS-EEG-H_02_S1b_spTEP_pre.vhdr...\n",
      "Setting channel info structure...\n",
      "Reading 0 ... 2696199  =      0.000 ...   539.240 secs...\n",
      "Used Annotations descriptions: ['New Segment/', 'Stimulus/S  1']\n",
      "Extracting parameters from ./dataset/TMS-EEG-H_02_S1b_rsEEG_pre.vhdr...\n",
      "Setting channel info structure...\n",
      "Reading 0 ... 3984899  =      0.000 ...   796.980 secs...\n"
     ]
    }
   ],
   "source": [
    "DATASET_PATH = \"./dataset\"\n",
    "FILENAME_TEMPLATE = \"TMS-EEG-H_02_S1b_{}_{}.vhdr\"\n",
    "\n",
    "spTEP_pre_raw = mne.io.read_raw_brainvision(\n",
    "    os.path.join(DATASET_PATH, FILENAME_TEMPLATE.format(\"spTEP\", \"pre\")), preload=True\n",
    ")\n",
    "sampling_rate = spTEP_pre_raw.info[\"sfreq\"]\n",
    "events, event_dict = mne.events_from_annotations(spTEP_pre_raw)\n",
    "tms_indices = [event[0] for event in events if event[2] == 1]\n",
    "\n",
    "rsEEG_pre_raw = mne.io.read_raw_brainvision(\n",
    "    os.path.join(DATASET_PATH, FILENAME_TEMPLATE.format(\"rsEEG\", \"pre\")), preload=True\n",
    ")"
   ]
  },
  {
   "cell_type": "code",
   "execution_count": 3,
   "metadata": {},
   "outputs": [],
   "source": [
    "# Plotting utilities\n",
    "def plot_single_response(eeg_data, channel=\"Pz\", tmin=-0.005, tmax=0.01):\n",
    "    events, event_dict = mne.events_from_annotations(eeg_data)\n",
    "    event_id = event_dict[\"Stimulus/S  1\"]\n",
    "    epochs = mne.Epochs(\n",
    "        eeg_data,\n",
    "        events,\n",
    "        event_id=event_id,\n",
    "        tmin=tmin,\n",
    "        tmax=tmax,\n",
    "        baseline=None,\n",
    "        preload=True,\n",
    "        picks=channel,\n",
    "    )\n",
    "\n",
    "    epochs.plot(picks=channel, n_epochs=1, show=True, scalings={\"eeg\": 50e-4})\n",
    "\n",
    "\n",
    "def plot_average_epoch(epochs, start=-0.05, end=0.25):\n",
    "    data = epochs.get_data()\n",
    "    mean_responses = np.mean(data, axis=0)\n",
    "    time_points = np.linspace(-1, 1, data.shape[2])\n",
    "    selected_indices = np.where((time_points >= start) & (time_points <= end))\n",
    "    for i, mean_response in enumerate(mean_responses):\n",
    "        selected_data = mean_response[selected_indices]\n",
    "        selected_time_points = time_points[selected_indices]\n",
    "        plt.plot(selected_time_points, selected_data, label=f\"Channel {i+1}\")\n",
    "    plt.xlabel(\"Time points\")\n",
    "    plt.ylabel(\"Mean response\")\n",
    "    plt.show()\n",
    "\n",
    "\n",
    "def plot_response(eeg):\n",
    "    utils.plot_average_response(eeg, tmin=-0.05, tmax=0.25)  # Check full response\n",
    "    utils.plot_single_response(\n",
    "        eeg, channel=\"Pz\", tmin=-0.05, tmax=0.05\n",
    "    )  # Check for TMS pulse"
   ]
  },
  {
   "cell_type": "markdown",
   "metadata": {},
   "source": [
    "# Cleaning - spTEP\n",
    "\n",
    "The paper of Bertazzoli et al. (2021) compares 4 pipelines: ARTIST, TMSEEG, TESA and SOUND-SSP-SIR, all of which work decently well in varying degrees. There are common steps, but TESA will be the one that will be most closely followed. The current steps are as follows:\n",
    "\n",
    "1. Remove EOG\n",
    "2. Remove TMS pulse\n",
    "3. Downsample\n",
    "4. **ICA - 1**\n",
    "5. Bandpass - Notch filters\n",
    "6. **ICA - 2**\n",
    "7. Rereference\n",
    "\n",
    "Currently, there is no demeaning or bad channel rejection present as in TESA. Demeaning is done before the TMS-pulse interpolation, and baseline correction should be done as last step after rereferencing.\n"
   ]
  },
  {
   "cell_type": "code",
   "execution_count": null,
   "metadata": {},
   "outputs": [],
   "source": [
    "plot_response(spTEP_pre_raw)"
   ]
  },
  {
   "cell_type": "markdown",
   "metadata": {},
   "source": [
    "![](img/raw-average.png)\n",
    "![](img/single-pulse-raw.JPG)\n",
    "\n",
    "The figure above already shows 2 major artifacts that cleaning will have the biggest impact on: TMS-pulse interpolation and demeaning/baseline correction. The major TMS-pulse artifact falls closely within the range of 2ms before until 5ms after the pulse.\n"
   ]
  },
  {
   "cell_type": "code",
   "execution_count": null,
   "metadata": {},
   "outputs": [],
   "source": [
    "spTEP_copy = spTEP_pre_raw.copy()"
   ]
  },
  {
   "cell_type": "markdown",
   "metadata": {},
   "source": [
    "## EOG removal\n"
   ]
  },
  {
   "cell_type": "code",
   "execution_count": 7,
   "metadata": {},
   "outputs": [],
   "source": [
    "def remove_EOG(eeg_data):\n",
    "    eeg_data.drop_channels([\"HEOG\", \"VEOG\"])"
   ]
  },
  {
   "cell_type": "code",
   "execution_count": null,
   "metadata": {},
   "outputs": [],
   "source": [
    "remove_EOG(spTEP_copy)"
   ]
  },
  {
   "cell_type": "markdown",
   "metadata": {},
   "source": [
    "## TMS pulse removal\n"
   ]
  },
  {
   "cell_type": "code",
   "execution_count": null,
   "metadata": {},
   "outputs": [],
   "source": [
    "def calculate_range_indices(tms_index, start, end, sampling_rate):\n",
    "    \"\"\"\n",
    "    start and end are positive in seconds\n",
    "    sampling rate in Hz\n",
    "    \"\"\"\n",
    "    samples_before = int(start * sampling_rate)\n",
    "    samples_after = int(end * sampling_rate)\n",
    "\n",
    "    start_index = max(0, tms_index - samples_before)\n",
    "    end_index = tms_index + samples_after\n",
    "\n",
    "    return start_index, end_index"
   ]
  },
  {
   "cell_type": "code",
   "execution_count": null,
   "metadata": {},
   "outputs": [],
   "source": [
    "def interpolate_TMS_pulse(eeg_data_raw, tms_indices, start, end, sampling_rate):\n",
    "    eeg_data = eeg_data_raw.get_data()\n",
    "    num_electrodes = eeg_data.shape[0]\n",
    "    for tms_index in tms_indices:\n",
    "        start_index, end_index = calculate_range_indices(\n",
    "            tms_index, start, end, sampling_rate\n",
    "        )\n",
    "        for i in range(num_electrodes):\n",
    "            x = [start_index - 2, start_index - 1, end_index + 1, end_index + 2]\n",
    "            y = [\n",
    "                eeg_data[i, start_index - 2],\n",
    "                eeg_data[i, start_index - 1],\n",
    "                eeg_data[i, end_index + 1],\n",
    "                eeg_data[i, end_index + 2],\n",
    "            ]\n",
    "            x_new = np.arange(start_index, end_index + 1)\n",
    "\n",
    "            interp_func = interp1d(x, y, kind=\"cubic\")\n",
    "            eeg_data[i, start_index : end_index + 1] = interp_func(x_new)\n",
    "\n",
    "    eeg_data_raw._data = eeg_data"
   ]
  },
  {
   "cell_type": "code",
   "execution_count": null,
   "metadata": {},
   "outputs": [],
   "source": [
    "interpolate_TMS_pulse(\n",
    "    spTEP_copy, tms_indices, 0.005, 0.01, sampling_rate\n",
    ")  # 2ms before, 5ms after"
   ]
  },
  {
   "cell_type": "code",
   "execution_count": null,
   "metadata": {},
   "outputs": [],
   "source": [
    "plot_response(spTEP_copy)"
   ]
  },
  {
   "cell_type": "markdown",
   "metadata": {},
   "source": [
    "![](img/interpolation-5-10/interpolated-average.png)\n",
    "![](img/interpolation-5-10/single-pulse-interpolated.JPG)\n"
   ]
  },
  {
   "cell_type": "markdown",
   "metadata": {},
   "source": [
    "This succesfully removed the TMS pulse artifact by using cubic interpolation based on the 2 values before and 2 values after the range that is to be interpolated.\n"
   ]
  },
  {
   "cell_type": "markdown",
   "metadata": {},
   "source": [
    "## Downsampling\n",
    "\n",
    "The original data was captured with a sampling frequency of 5000 Hz. 1000 Hz is chosen as the frequency to be downsampled to, as this means that, following Nyquists theorem, the highest frequency that will be accurately recorded is 500 Hz, which should be more than enough for further analysis, as the gamma band is often referred to as 30-100 Hz.\n"
   ]
  },
  {
   "cell_type": "code",
   "execution_count": 12,
   "metadata": {},
   "outputs": [],
   "source": [
    "def downsample(eeg_data, sample_rate=1000):\n",
    "    eeg_data.resample(sample_rate, npad=\"auto\")"
   ]
  },
  {
   "cell_type": "code",
   "execution_count": null,
   "metadata": {},
   "outputs": [],
   "source": [
    "downsample(spTEP_copy)"
   ]
  },
  {
   "cell_type": "code",
   "execution_count": null,
   "metadata": {},
   "outputs": [],
   "source": [
    "plot_response(spTEP_copy)"
   ]
  },
  {
   "cell_type": "markdown",
   "metadata": {},
   "source": [
    "![](img/interpolation-5-10/single-downsampled.JPG)\n"
   ]
  },
  {
   "cell_type": "markdown",
   "metadata": {},
   "source": [
    "## Epoching\n"
   ]
  },
  {
   "cell_type": "code",
   "execution_count": null,
   "metadata": {},
   "outputs": [],
   "source": [
    "def epoching(eeg_data):\n",
    "    events, event_dict = mne.events_from_annotations(eeg_data)\n",
    "    event_id = event_dict[\"Stimulus/S  1\"]\n",
    "    epochs = mne.Epochs(\n",
    "        eeg_data,\n",
    "        events,\n",
    "        event_id=event_id,\n",
    "        tmin=-1,\n",
    "        tmax=1,\n",
    "        baseline=None,\n",
    "        preload=True,\n",
    "    )\n",
    "    return epochs"
   ]
  },
  {
   "cell_type": "code",
   "execution_count": null,
   "metadata": {},
   "outputs": [],
   "source": [
    "epochs = epoching(spTEP_copy)"
   ]
  },
  {
   "cell_type": "code",
   "execution_count": null,
   "metadata": {},
   "outputs": [],
   "source": [
    "plot_average_epoch(epochs)"
   ]
  },
  {
   "cell_type": "markdown",
   "metadata": {},
   "source": [
    "![](img/interpolation-5-10/average_epoch.png)\n"
   ]
  },
  {
   "cell_type": "markdown",
   "metadata": {},
   "source": [
    "## Demeaning/detrending\n",
    "\n",
    "Demeaning is achieved by subtracting each value from each electrode with the average value of the corresponding electrode, essentially bringing the means from all electrodes to 0.\n",
    "\n",
    "> TODO: check if other way of demeaning on complete electrode is possible to move value near 0 or better yet on 0\n"
   ]
  },
  {
   "cell_type": "code",
   "execution_count": null,
   "metadata": {},
   "outputs": [],
   "source": [
    "def demean(eeg_data):\n",
    "    eeg_data.apply_function(lambda x: x - x.mean())"
   ]
  },
  {
   "cell_type": "code",
   "execution_count": null,
   "metadata": {},
   "outputs": [],
   "source": [
    "demean(spTEP_copy)"
   ]
  },
  {
   "cell_type": "code",
   "execution_count": null,
   "metadata": {},
   "outputs": [],
   "source": [
    "data = spTEP_copy.get_data()\n",
    "mean_values = np.mean(data, axis=1)\n",
    "total_mean = np.mean(mean_values)\n",
    "print(f\"Total mean: {total_mean}\")\n",
    "\n",
    "plot_response(spTEP_copy)"
   ]
  },
  {
   "cell_type": "code",
   "execution_count": null,
   "metadata": {},
   "outputs": [],
   "source": [
    "def demean_epochs(epochs):\n",
    "    data = epochs.get_data()\n",
    "    demeaned_data = data - np.mean(data, axis=2, keepdims=True)\n",
    "    demeaned_epochs = mne.EpochsArray(\n",
    "        demeaned_data, epochs.info, events=epochs.events, event_id=epochs.event_id\n",
    "    )\n",
    "    return demeaned_epochs"
   ]
  },
  {
   "cell_type": "code",
   "execution_count": null,
   "metadata": {},
   "outputs": [],
   "source": [
    "epochs = demean_epochs(epochs)"
   ]
  },
  {
   "cell_type": "code",
   "execution_count": null,
   "metadata": {},
   "outputs": [],
   "source": [
    "plot_average_epoch(epochs)"
   ]
  },
  {
   "cell_type": "markdown",
   "metadata": {},
   "source": [
    "Below are two graphs with demeaning applied to both the full electrode and to individual epochs. Clearly, there has to be some error in demeaning the full electrode, as those averages aren't close enough to 0. However, when printing the mean values of the electrodes they are indeed close to 0 (e.g. 1\\*e-20). For now, as the demeaned epochs are the desired result, the epochs will be used for further cleaning.\n",
    "\n",
    "![](img/interpolation-5-10/average-demean.png)\n",
    "![](img/interpolation-5-10/average_epoch_demeaned.png)\n"
   ]
  },
  {
   "cell_type": "markdown",
   "metadata": {},
   "source": [
    "## ICA - 1\n",
    "\n",
    "The first ICA filter is mainly to remove the primary large artifacts such as muscle and electrical charge. If demeaning were applied now, a graph as below is the result.\n",
    "\n",
    "This is implemented by first fitting ICA to the signal, and then applying the threshold formula used by the TESA software to each component to either keep or remove each ICA component.\n"
   ]
  },
  {
   "cell_type": "code",
   "execution_count": null,
   "metadata": {},
   "outputs": [],
   "source": [
    "def ICA_1(epoch_data, T=3.5, b1=0.011, b2=0.030, n_components=20):\n",
    "    ica = ICA(n_components=n_components, random_state=97)\n",
    "    ica.fit(epoch_data)\n",
    "\n",
    "    # Credits to Arne Callaert for the following code\n",
    "    sources = ica.get_sources(epoch_data)\n",
    "    averaged_sources = sources.get_data().mean(axis=0)\n",
    "    times = sources.times\n",
    "    sfreq = sources.info[\"sfreq\"]\n",
    "    indices = np.where((times >= (b1 / 1000)) & (times <= (b2 / 1000)))\n",
    "    print(\"indices:\", indices)\n",
    "    components_to_remove = []\n",
    "\n",
    "    for i, component in enumerate(averaged_sources):\n",
    "        base = len(times) / 2\n",
    "        b1_index = int(base + (b1 * sfreq))\n",
    "        b2_index = int(base + (b2 * sfreq))\n",
    "        x = np.mean(np.abs(component[b1_index:b2_index]))\n",
    "        y = np.mean(np.abs(component))\n",
    "        if x / y > T:\n",
    "            print(\"FOUND:\", x / y)\n",
    "            components_to_remove.append(i)\n",
    "\n",
    "    ica.exclude = components_to_remove\n",
    "\n",
    "    epoch_data = ica.apply(epoch_data)"
   ]
  },
  {
   "cell_type": "code",
   "execution_count": null,
   "metadata": {},
   "outputs": [],
   "source": [
    "ICA_1(epochs)"
   ]
  },
  {
   "cell_type": "code",
   "execution_count": null,
   "metadata": {},
   "outputs": [],
   "source": [
    "plot_average_epoch(epochs)"
   ]
  },
  {
   "cell_type": "markdown",
   "metadata": {},
   "source": [
    "![](img/interpolation-5-10/average_epoch_ica_1.png)\n",
    "The graph below shows the result after applying the ICA filter. However, this looks like it results in muddier values than before. The goal was to filter out the initial peak values, residue from the TMS pulse, but these are still present.\n"
   ]
  },
  {
   "cell_type": "markdown",
   "metadata": {},
   "source": [
    "## Bandpass - Notch\n"
   ]
  },
  {
   "cell_type": "code",
   "execution_count": null,
   "metadata": {},
   "outputs": [],
   "source": [
    "def bandpass_notch(epoch_data, low_freq=1, high_freq=100, notch_freqs=[50]):\n",
    "    # Bandpass\n",
    "    epoch_data.filter(low_freq, high_freq)\n",
    "\n",
    "    # Notch (only directly available on raw object, not on epochs)\n",
    "    data = epoch_data.get_data()\n",
    "    notch_filtered = mne.filter.notch_filter(data, epochs.info[\"sfreq\"], notch_freqs)\n",
    "    filtered_epochs = mne.epochs.EpochsArray(\n",
    "        notch_filtered, epochs.info, events=epochs.events, tmin=epochs.tmin\n",
    "    )\n",
    "\n",
    "    return filtered_epochs"
   ]
  },
  {
   "cell_type": "code",
   "execution_count": null,
   "metadata": {},
   "outputs": [],
   "source": [
    "epochs = bandpass_notch(epochs)"
   ]
  },
  {
   "cell_type": "code",
   "execution_count": null,
   "metadata": {},
   "outputs": [],
   "source": [
    "plot_average_epoch(epochs)"
   ]
  },
  {
   "cell_type": "markdown",
   "metadata": {},
   "source": [
    "![](img/interpolation-5-10/average_epoch_filter.png)\n"
   ]
  },
  {
   "cell_type": "markdown",
   "metadata": {},
   "source": [
    "## Rereference\n"
   ]
  },
  {
   "cell_type": "code",
   "execution_count": null,
   "metadata": {},
   "outputs": [],
   "source": [
    "def rereference(epochs):\n",
    "    mne.set_eeg_reference(epochs, ref_channels=\"average\")"
   ]
  },
  {
   "cell_type": "code",
   "execution_count": null,
   "metadata": {},
   "outputs": [],
   "source": [
    "rereference(epochs)"
   ]
  },
  {
   "cell_type": "code",
   "execution_count": null,
   "metadata": {},
   "outputs": [],
   "source": [
    "plot_average_epoch(epochs)"
   ]
  },
  {
   "cell_type": "markdown",
   "metadata": {},
   "source": [
    "![](img/interpolation-5-10/average_epoch_rereference.png)\n"
   ]
  },
  {
   "cell_type": "markdown",
   "metadata": {},
   "source": [
    "## ICA - 2\n",
    "\n",
    "Li et al., (2022). MNE-ICALabel: Automatically annotating ICA components with ICLabel in Python. Journal of Open Source Software, 7(76), 4484, https://doi.org/10.21105/joss.04484\n"
   ]
  },
  {
   "cell_type": "code",
   "execution_count": null,
   "metadata": {},
   "outputs": [],
   "source": [
    "def ICA_2(epoch_data):\n",
    "    ica = mne.preprocessing.ICA(n_components=20, random_state=42)\n",
    "    ica.fit(epoch_data)\n",
    "    ic_labels = label_components(epoch_data, ica, method=\"iclabel\")\n",
    "\n",
    "    print(ic_labels[\"labels\"])\n",
    "\n",
    "    labels = ic_labels[\"labels\"]\n",
    "    exclude_idx = [\n",
    "        idx for idx, label in enumerate(labels) if label not in [\"brain\", \"other\"]\n",
    "    ]\n",
    "    print(f\"Excluding these {len(exclude_idx)} ICA components: {exclude_idx}\")\n",
    "\n",
    "    ica.apply(epoch_data, exclude=exclude_idx)"
   ]
  },
  {
   "cell_type": "code",
   "execution_count": null,
   "metadata": {},
   "outputs": [],
   "source": [
    "epochs_copy = epochs.copy()"
   ]
  },
  {
   "cell_type": "code",
   "execution_count": null,
   "metadata": {},
   "outputs": [],
   "source": [
    "ICA_2(epochs_copy)"
   ]
  },
  {
   "cell_type": "code",
   "execution_count": null,
   "metadata": {},
   "outputs": [],
   "source": [
    "plot_average_epoch(epochs_copy)"
   ]
  },
  {
   "cell_type": "markdown",
   "metadata": {},
   "source": [
    "![ica 2 result](img/interpolation-5-10/average_epoch_ica_2.png)\n"
   ]
  },
  {
   "cell_type": "markdown",
   "metadata": {},
   "source": [
    "## Baseline correction\n"
   ]
  },
  {
   "cell_type": "code",
   "execution_count": null,
   "metadata": {},
   "outputs": [],
   "source": [
    "def baseline(epoch_data):\n",
    "    epoch_data.apply_baseline((None, None))"
   ]
  },
  {
   "cell_type": "code",
   "execution_count": null,
   "metadata": {},
   "outputs": [],
   "source": [
    "baseline(epochs_copy)"
   ]
  },
  {
   "cell_type": "code",
   "execution_count": null,
   "metadata": {},
   "outputs": [],
   "source": [
    "plot_average_epoch(epochs_copy)"
   ]
  },
  {
   "cell_type": "markdown",
   "metadata": {},
   "source": [
    "![](img/interpolation-5-10/average_epoch_baseline.png)\n"
   ]
  },
  {
   "cell_type": "code",
   "execution_count": null,
   "metadata": {},
   "outputs": [],
   "source": [
    "spTEP_pre_copy = spTEP_pre_raw.copy()\n",
    "remove_EOG(spTEP_pre_copy)\n",
    "\n",
    "spTEP_pre_copy.compute_psd().plot_topomap()"
   ]
  },
  {
   "cell_type": "code",
   "execution_count": null,
   "metadata": {},
   "outputs": [],
   "source": [
    "spTEP_pre_raw.plot_sensors(show_names=True)"
   ]
  },
  {
   "cell_type": "code",
   "execution_count": null,
   "metadata": {},
   "outputs": [],
   "source": [
    "def plot_full_average_epoch(epochs, electrodes=None, start=-0.05, end=0.25):\n",
    "    epochs = epochs.copy()\n",
    "    if electrodes is not None:\n",
    "        epochs.pick_channels(electrodes)\n",
    "    data = epochs.get_data()\n",
    "    mean_responses = np.mean(data, axis=(0, 1))\n",
    "    sem_responses = np.std(data, axis=(0, 1)) / np.sqrt(data.shape[0])\n",
    "    time_points = np.linspace(-1, 1, data.shape[2])\n",
    "    selected_indices = np.where((time_points >= start) & (time_points <= end))\n",
    "    selected_data = mean_responses[selected_indices]\n",
    "    selected_sem = sem_responses[selected_indices]\n",
    "    selected_time_points = time_points[selected_indices]\n",
    "    plt.plot(selected_time_points, selected_data, label=\"Average of all electrodes\")\n",
    "    plt.fill_between(\n",
    "        selected_time_points,\n",
    "        selected_data - selected_sem,\n",
    "        selected_data + selected_sem,\n",
    "        color=\"b\",\n",
    "        alpha=0.2,\n",
    "    )\n",
    "    plt.xlabel(\"Time points\")\n",
    "    plt.ylabel(\"Mean response\")\n",
    "    plt.legend()\n",
    "    plt.show()"
   ]
  },
  {
   "cell_type": "markdown",
   "metadata": {},
   "source": [
    "## Final result\n",
    "\n",
    "In these final plots, the total average is plotted with the error range.\n"
   ]
  },
  {
   "cell_type": "code",
   "execution_count": null,
   "metadata": {},
   "outputs": [],
   "source": [
    "# F, FC\n",
    "# 3, 5, 7\n",
    "\n",
    "plot_full_average_epoch(epochs_copy, end=0.3)\n",
    "plot_full_average_epoch(epochs_copy, ['F3', 'FC5', 'FC1'], end=0.3)"
   ]
  },
  {
   "cell_type": "markdown",
   "metadata": {},
   "source": [
    "![](img/interpolation-5-10/average_epoch_all_electrodes.png)\n",
    "![](img/interpolation-5-10/final-local.png)"
   ]
  },
  {
   "cell_type": "code",
   "execution_count": null,
   "metadata": {},
   "outputs": [],
   "source": [
    "# Save the epochs to a file\n",
    "epochs_copy.save(\"processed_epochs-epo.fif\")"
   ]
  },
  {
   "cell_type": "markdown",
   "metadata": {},
   "source": [
    "## TODO\n",
    "\n",
    "Current biggest things to find out:\n",
    "\n",
    "- is there a way to further improve the filtering that ICA 1 is supposed to achieve? (Filtering out the residue of the TMS pulse)\n",
    "- how can time ranges be plot on the scalp topography? like in the comparative paper"
   ]
  },
  {
   "cell_type": "markdown",
   "metadata": {},
   "source": [
    "# Cleaning - rsEEG\n",
    "\n",
    "Cleaning regular EEG data has similar steps to spTEP data, as it uses the same capturing techniques, but doesn't have to deal with TMS related artifacts and doesn't have the event data from TMS pulses. The most important filtering method used here is ICA filtering using the `mne_icalabel` library, paired with bandpass filtering, notch filtering and rereferencing.\n"
   ]
  },
  {
   "cell_type": "code",
   "execution_count": 46,
   "metadata": {},
   "outputs": [],
   "source": [
    "def calculate_avg_std(eeg_data_raw):\n",
    "    # Get the data\n",
    "    data = eeg_data_raw.get_data()\n",
    "\n",
    "    # Calculate the standard deviation\n",
    "    std = np.std(data, axis=1)\n",
    "\n",
    "    # Calculate the average standard deviation\n",
    "    avg_std = np.mean(std)\n",
    "\n",
    "    return avg_std"
   ]
  },
  {
   "cell_type": "code",
   "execution_count": 41,
   "metadata": {},
   "outputs": [],
   "source": [
    "def plot_raw_time_domain(eeg_data_raw, start=0, duration=1, channels=None):\n",
    "    # Get the data and times\n",
    "    eeg_copy = eeg_data_raw.copy()\n",
    "    if channels is not None:\n",
    "        eeg_copy.pick(channels)\n",
    "    data, times = eeg_copy[:, int(start*eeg_copy.info['sfreq']):int((start+duration)*eeg_copy.info['sfreq'])]\n",
    "\n",
    "    # Create a new figure\n",
    "    plt.figure()\n",
    "\n",
    "    # Plot each channel\n",
    "    for i in range(data.shape[0]):\n",
    "        plt.plot(times, data[i, :], label=eeg_copy.info['ch_names'][i])\n",
    "\n",
    "    # Add y label\n",
    "    plt.ylabel('Voltage (V)')\n",
    "\n",
    "    # Add legend\n",
    "    plt.legend()\n",
    "\n",
    "    # Show the plot\n",
    "    plt.show()"
   ]
  },
  {
   "cell_type": "code",
   "execution_count": 5,
   "metadata": {},
   "outputs": [],
   "source": [
    "rsEEG_copy = rsEEG_pre_raw.copy()"
   ]
  },
  {
   "cell_type": "code",
   "execution_count": 55,
   "metadata": {},
   "outputs": [
    {
     "name": "stdout",
     "output_type": "stream",
     "text": [
      "4.140313e-04\n"
     ]
    }
   ],
   "source": [
    "print(\"{:.6e}\".format(calculate_avg_std(rsEEG_pre_raw)))\n",
    "plot_raw_time_domain(rsEEG_pre_raw)"
   ]
  },
  {
   "cell_type": "markdown",
   "metadata": {},
   "source": [
    "![raw rsEEG](img/rsEEG/rsEEG_raw.png)"
   ]
  },
  {
   "cell_type": "markdown",
   "metadata": {},
   "source": [
    "## Remove EOG\n"
   ]
  },
  {
   "cell_type": "markdown",
   "metadata": {},
   "source": [
    "## Downsampling\n"
   ]
  },
  {
   "cell_type": "markdown",
   "metadata": {},
   "source": [
    "## Demean\n"
   ]
  },
  {
   "cell_type": "code",
   "execution_count": 13,
   "metadata": {},
   "outputs": [],
   "source": [
    "def demean_brainvis(eeg_data_raw):\n",
    "    eeg_data_raw.apply_function(lambda x: x - np.mean(x))"
   ]
  },
  {
   "cell_type": "markdown",
   "metadata": {},
   "source": [
    "## Bandpass & notch\n"
   ]
  },
  {
   "cell_type": "code",
   "execution_count": 16,
   "metadata": {},
   "outputs": [],
   "source": [
    "def rsEEG_filters(eeg_data, l_freq=1, h_freq=100, notch_freqs=[50]):\n",
    "    eeg_data.filter(l_freq, h_freq)\n",
    "    eeg_data.notch_filter(notch_freqs)"
   ]
  },
  {
   "cell_type": "markdown",
   "metadata": {},
   "source": [
    "## ICA\n"
   ]
  },
  {
   "cell_type": "code",
   "execution_count": 19,
   "metadata": {},
   "outputs": [],
   "source": [
    "def rsEEG_ICA(eeg_data):\n",
    "    ica = ICA(n_components=20, random_state=97)\n",
    "    ica.fit(eeg_data)\n",
    "    ic_labels = label_components(eeg_data, ica, method=\"iclabel\")\n",
    "    \n",
    "    labels = ic_labels[\"labels\"]\n",
    "    exclude_idx = [\n",
    "        idx for idx, label in enumerate(labels) if label not in [\"brain\", \"other\"]\n",
    "    ]\n",
    "    \n",
    "    print(f\"Excluding ICA components: {exclude_idx}\" \n",
    "    \n",
    "    ica.apply(eeg_data, exclude=exclude_idx)"
   ]
  },
  {
   "cell_type": "markdown",
   "metadata": {},
   "source": [
    "## Rereference\n"
   ]
  },
  {
   "cell_type": "code",
   "execution_count": 22,
   "metadata": {},
   "outputs": [],
   "source": [
    "def rsEEG_rereference(eeg_data):\n",
    "    eeg_data.set_eeg_reference(ref_channels=\"average\")"
   ]
  },
  {
   "cell_type": "markdown",
   "metadata": {},
   "source": [
    "## Final"
   ]
  },
  {
   "cell_type": "markdown",
   "metadata": {},
   "source": [
    "DISCOVER-EEG:\n",
    "1. Line noise removal\n",
    "2. Bad channel rejection\n",
    "3. Rereference\n",
    "4. ICA\n",
    "5. Bad channel interpolation\n",
    "6. Bad time segments removal\n",
    "\n",
    "Own pipeline without TMS filtering:\n",
    "1. Remove EOG\n",
    "2. Downsample\n",
    "3. Demeaning\n",
    "4. Bandpass & notch\n",
    "5. ICA\n",
    "6. Rereference\n",
    "7. Baseline correction"
   ]
  },
  {
   "cell_type": "code",
   "execution_count": null,
   "metadata": {},
   "outputs": [],
   "source": [
    "def rsEEG_cleaning(eeg_data):\n",
    "    remove_EOG(eeg_data)\n",
    "    downsample(eeg_data)\n",
    "    demean_brainvis(eeg_data)\n",
    "    rsEEG_filters(eeg_data)\n",
    "    rsEEG_ICA(eeg_data)\n",
    "    rereference(eeg_data)"
   ]
  },
  {
   "cell_type": "markdown",
   "metadata": {},
   "source": [
    "![cleaned rsEEG](img/rsEEG/rsEEG_cleaned.png)"
   ]
  },
  {
   "cell_type": "code",
   "execution_count": 57,
   "metadata": {},
   "outputs": [
    {
     "name": "stdout",
     "output_type": "stream",
     "text": [
      "Writing /home/tomasgalle/UGent/thesis/tms-research/filtered/rsEEG_cleaned.fif\n"
     ]
    },
    {
     "name": "stderr",
     "output_type": "stream",
     "text": [
      "/tmp/ipykernel_1454481/284752700.py:1: RuntimeWarning: This filename (/home/tomasgalle/UGent/thesis/tms-research/filtered/rsEEG_cleaned.fif) does not conform to MNE naming conventions. All raw files should end with raw.fif, raw_sss.fif, raw_tsss.fif, _meg.fif, _eeg.fif, _ieeg.fif, raw.fif.gz, raw_sss.fif.gz, raw_tsss.fif.gz, _meg.fif.gz, _eeg.fif.gz or _ieeg.fif.gz\n",
      "  rsEEG_copy.save(os.path.join(\".\", \"filtered\", \"rsEEG_cleaned.fif\"))\n"
     ]
    },
    {
     "name": "stdout",
     "output_type": "stream",
     "text": [
      "Closing /home/tomasgalle/UGent/thesis/tms-research/filtered/rsEEG_cleaned.fif\n",
      "[done]\n"
     ]
    }
   ],
   "source": [
    "rsEEG_copy.save(os.path.join(\".\", \"filtered\", \"rsEEG_cleaned.fif\"))"
   ]
  },
  {
   "cell_type": "markdown",
   "metadata": {},
   "source": []
  }
 ],
 "metadata": {
  "kernelspec": {
   "display_name": "Python 3",
   "language": "python",
   "name": "python3"
  },
  "language_info": {
   "codemirror_mode": {
    "name": "ipython",
    "version": 3
   },
   "file_extension": ".py",
   "mimetype": "text/x-python",
   "name": "python",
   "nbconvert_exporter": "python",
   "pygments_lexer": "ipython3",
   "version": "3.12.0"
  }
 },
 "nbformat": 4,
 "nbformat_minor": 2
}
