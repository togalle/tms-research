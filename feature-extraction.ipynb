{
 "cells": [
  {
   "cell_type": "markdown",
   "metadata": {},
   "source": [
    "# Feature extraction"
   ]
  },
  {
   "cell_type": "code",
   "execution_count": 8,
   "metadata": {},
   "outputs": [],
   "source": [
    "import mne\n",
    "import numpy as np\n",
    "import matplotlib.pyplot as plt\n",
    "import os\n",
    "import re\n",
    "import pandas as pd\n",
    "import mne_features\n",
    "\n",
    "import utils\n",
    "logger = utils.get_logger()"
   ]
  },
  {
   "cell_type": "code",
   "execution_count": 4,
   "metadata": {},
   "outputs": [],
   "source": [
    "def load_fif_file(filename):\n",
    "    eeg_data = mne.read_epochs(filename)\n",
    "    return eeg_data"
   ]
  },
  {
   "cell_type": "code",
   "execution_count": 5,
   "metadata": {},
   "outputs": [
    {
     "name": "stdout",
     "output_type": "stream",
     "text": [
      "Reading /home/tomasgalle/UGent/thesis/tms-research/dataset-cleaned/TMS-EEG-H_02_S1b_rsEEG_post-epo.fif ...\n",
      "    Found the data of interest:\n",
      "        t =       0.00 ...    2000.00 ms\n",
      "        0 CTF compensation matrices available\n",
      "Not setting metadata\n",
      "296 matching events found\n",
      "No baseline correction applied\n",
      "0 projection items activated\n",
      "Reading /home/tomasgalle/UGent/thesis/tms-research/dataset-cleaned/TMS-EEG-H_02_S1b_spTEP_post-epo.fif ...\n",
      "    Found the data of interest:\n",
      "        t =       0.00 ...    2000.00 ms\n",
      "        0 CTF compensation matrices available\n",
      "Not setting metadata\n",
      "149 matching events found\n",
      "No baseline correction applied\n",
      "0 projection items activated\n",
      "<class 'mne.epochs.EpochsFIF'>\n"
     ]
    }
   ],
   "source": [
    "rsEEG = load_fif_file(\"dataset-cleaned/TMS-EEG-H_02_S1b_rsEEG_post-epo.fif\")\n",
    "spTEP = load_fif_file(\"dataset-cleaned/TMS-EEG-H_02_S1b_spTEP_post-epo.fif\")\n",
    "\n",
    "print(type(rsEEG))"
   ]
  },
  {
   "cell_type": "markdown",
   "metadata": {},
   "source": [
    "## Label file generator\n",
    "\n",
    "Create one file containing the labels for all files, as labels are file related and would just be duplicated in every line of the csv of the corresponding file. This save storage and keeps a structured overview and seperation of features and labels."
   ]
  },
  {
   "cell_type": "code",
   "execution_count": 12,
   "metadata": {},
   "outputs": [
    {
     "name": "stderr",
     "output_type": "stream",
     "text": [
      "\u001b[32m[2024-06-11 15:23:44,683] - INFO - ('02', 'S1b', 'rsEEG', 'post')\u001b[0m\n"
     ]
    },
    {
     "ename": "ValueError",
     "evalue": "invalid literal for int() with base 10: 'S1b'",
     "output_type": "error",
     "traceback": [
      "\u001b[0;31m---------------------------------------------------------------------------\u001b[0m",
      "\u001b[0;31mValueError\u001b[0m                                Traceback (most recent call last)",
      "Cell \u001b[0;32mIn[12], line 22\u001b[0m\n\u001b[1;32m     19\u001b[0m     df \u001b[38;5;241m=\u001b[39m pd\u001b[38;5;241m.\u001b[39mDataFrame(data, columns\u001b[38;5;241m=\u001b[39m[\u001b[38;5;124m'\u001b[39m\u001b[38;5;124mfilename\u001b[39m\u001b[38;5;124m'\u001b[39m, \u001b[38;5;124m'\u001b[39m\u001b[38;5;124mlabel\u001b[39m\u001b[38;5;124m'\u001b[39m, \u001b[38;5;124m'\u001b[39m\u001b[38;5;124mpatient_id\u001b[39m\u001b[38;5;124m'\u001b[39m, \u001b[38;5;124m'\u001b[39m\u001b[38;5;124meeg_type\u001b[39m\u001b[38;5;124m'\u001b[39m, \u001b[38;5;124m'\u001b[39m\u001b[38;5;124mpre_post\u001b[39m\u001b[38;5;124m'\u001b[39m])\n\u001b[1;32m     20\u001b[0m     df\u001b[38;5;241m.\u001b[39mto_csv(output_csv, index\u001b[38;5;241m=\u001b[39m\u001b[38;5;28;01mFalse\u001b[39;00m)\n\u001b[0;32m---> 22\u001b[0m \u001b[43mcreate_labels_csv\u001b[49m\u001b[43m(\u001b[49m\u001b[38;5;124;43m\"\u001b[39;49m\u001b[38;5;124;43mdataset-cleaned\u001b[39;49m\u001b[38;5;124;43m\"\u001b[39;49m\u001b[43m,\u001b[49m\u001b[43m \u001b[49m\u001b[38;5;124;43m\"\u001b[39;49m\u001b[38;5;124;43mRandomisatielijst.csv\u001b[39;49m\u001b[38;5;124;43m\"\u001b[39;49m\u001b[43m,\u001b[49m\u001b[43m \u001b[49m\u001b[38;5;124;43m\"\u001b[39;49m\u001b[38;5;124;43mlabels.csv\u001b[39;49m\u001b[38;5;124;43m\"\u001b[39;49m\u001b[43m)\u001b[49m\n",
      "Cell \u001b[0;32mIn[12], line 12\u001b[0m, in \u001b[0;36mcreate_labels_csv\u001b[0;34m(directory, metadata_csv, output_csv)\u001b[0m\n\u001b[1;32m     10\u001b[0m logger\u001b[38;5;241m.\u001b[39minfo(match\u001b[38;5;241m.\u001b[39mgroups())\n\u001b[1;32m     11\u001b[0m patient_id, session, eeg_type, pre_post \u001b[38;5;241m=\u001b[39m match\u001b[38;5;241m.\u001b[39mgroups()\n\u001b[0;32m---> 12\u001b[0m session \u001b[38;5;241m=\u001b[39m \u001b[38;5;28;43mint\u001b[39;49m\u001b[43m(\u001b[49m\u001b[43msession\u001b[49m\u001b[43m)\u001b[49m\n\u001b[1;32m     14\u001b[0m \u001b[38;5;66;03m# Get the label for the session from the metadata\u001b[39;00m\n\u001b[1;32m     15\u001b[0m label \u001b[38;5;241m=\u001b[39m labels[metadata\u001b[38;5;241m.\u001b[39mloc[\u001b[38;5;124mf\u001b[39m\u001b[38;5;124m'\u001b[39m\u001b[38;5;124mH\u001b[39m\u001b[38;5;132;01m{\u001b[39;00mpatient_id\u001b[38;5;132;01m:\u001b[39;00m\u001b[38;5;124m02d\u001b[39m\u001b[38;5;132;01m}\u001b[39;00m\u001b[38;5;124m'\u001b[39m][session]]\n",
      "\u001b[0;31mValueError\u001b[0m: invalid literal for int() with base 10: 'S1b'"
     ]
    }
   ],
   "source": [
    "def create_labels_csv(directory, metadata_csv, output_csv):\n",
    "    metadata = pd.read_csv(metadata_csv, index_col=0, header=None)\n",
    "\n",
    "    labels = {0: 'sham', 1: 'ctbs', 2: 'itbs'}\n",
    "    data = []\n",
    "\n",
    "    for filename in os.listdir(directory):\n",
    "        match = re.match(r'TMS-EEG-H_(\\d+)_(\\w+)_(rsEEG|spTEP)_(pre|post)-epo.fif', filename)\n",
    "        if match:\n",
    "            logger.info(match.groups())\n",
    "            patient_id, session, eeg_type, pre_post = match.groups()\n",
    "            # session = int(session)\n",
    "\n",
    "            # Get the label for the session from the metadata\n",
    "            label = labels[metadata.loc[f'H{patient_id:02d}'][session]]\n",
    "\n",
    "            data.append([filename, label, patient_id, eeg_type, pre_post])\n",
    "\n",
    "    df = pd.DataFrame(data, columns=['filename', 'label', 'patient_id', 'eeg_type', 'pre_post'])\n",
    "    df.to_csv(output_csv, index=False)\n",
    "    \n",
    "create_labels_csv(\"dataset-cleaned\", \"Randomisatielijst.csv\", \"labels.csv\")"
   ]
  },
  {
   "cell_type": "markdown",
   "metadata": {},
   "source": [
    "## Using `mne_features` library"
   ]
  },
  {
   "cell_type": "code",
   "execution_count": null,
   "metadata": {},
   "outputs": [],
   "source": [
    "# Open fif file\n",
    "def load_fif_file(filename):\n",
    "    eeg_data = mne.read_epochs(filename)\n",
    "    return eeg_data\n",
    "\n",
    "# Extract features from epochs file\n",
    "def get_features(epochs):\n",
    "    \"\"\"Extract features from epochs, returns a dictionary mapping feature names to values.\"\"\"\n",
    "    return {\"mean\": 2}\n",
    "\n",
    "# Save features to csv file\n",
    "def save_features(features, filename):\n",
    "    \"\"\"Save features to a csv file from a dataframe.\"\"\"\n",
    "    pd.DataFrame.to_csv()\n",
    "    pass"
   ]
  },
  {
   "cell_type": "code",
   "execution_count": 7,
   "metadata": {},
   "outputs": [
    {
     "name": "stderr",
     "output_type": "stream",
     "text": [
      "\u001b[32m[2024-06-11 14:36:03,050] - INFO - Extracting features from rsEEG data: ['ptp_amp', 'pow_freq_bands', 'zero_crossings', 'line_length', 'hjorth_mobility', 'hjorth_complexity', 'wavelet_coef_energy', 'spect_slope', 'spect_entropy']\u001b[0m\n"
     ]
    },
    {
     "name": "stdout",
     "output_type": "stream",
     "text": [
      "(296, 1302)\n"
     ]
    }
   ],
   "source": [
    "# mean is useless because of the rereferencing to the average\n",
    "selected_funcs = [\n",
    "    # \"variance\",\n",
    "    # \"std\",\n",
    "    \"ptp_amp\",\n",
    "    # \"skewness\",\n",
    "    # \"kurtosis\",\n",
    "    # \"rms\",\n",
    "    # \"hurst_exp\",\n",
    "    \"pow_freq_bands\",\n",
    "    \"zero_crossings\",\n",
    "    \"line_length\",\n",
    "    # \"app_entropy\",\n",
    "    \"hjorth_mobility\",\n",
    "    \"hjorth_complexity\",\n",
    "    \"wavelet_coef_energy\",\n",
    "    \"spect_slope\",\n",
    "    \"spect_entropy\",\n",
    "    ]\n",
    "\n",
    "logger.info(f\"Extracting features from rsEEG data: {selected_funcs}\")\n",
    "rsEEG_feat = mne_features.feature_extraction.extract_features(rsEEG.get_data(copy=True), sfreq=rsEEG.info[\"sfreq\"], selected_funcs=selected_funcs, n_jobs=2)\n",
    "\n",
    "print(rsEEG_feat.shape)\n",
    "\n",
    "# logger.info(\"Reshaping rsEEG features\")\n",
    "# num_epochs, num_features_times_channels = rsEEG_feat.shape\n",
    "# num_channels = len(rsEEG.ch_names)\n",
    "# num_features = len(selected_funcs)\n",
    "# rsEEG_feat_reshaped = rsEEG_feat.reshape(num_epochs, num_features, num_channels)\n",
    "# feature_dict = {} # Each entry has shape (num_epochs, num_channels)\n",
    "# for i, feature in enumerate(selected_funcs):\n",
    "#     feature_dict[feature] = rsEEG_feat_reshaped[:, i, :]"
   ]
  },
  {
   "cell_type": "code",
   "execution_count": 33,
   "metadata": {},
   "outputs": [
    {
     "name": "stdout",
     "output_type": "stream",
     "text": [
      "{'mean': array([[-1.33257980e-05, -1.22196947e-05, -1.12201125e-05, ...,\n",
      "         2.28906292e-05,  2.83082296e-05,  2.46540160e-05],\n",
      "       [ 4.68221682e-07, -2.98352692e-07, -1.75293345e-06, ...,\n",
      "         1.84813250e-05,  1.99884481e-05,  1.75306126e-05],\n",
      "       [ 1.12163156e-05,  1.92017116e-05,  1.28856847e-05, ...,\n",
      "        -4.43649305e-05, -4.15336375e-05, -4.88646255e-05],\n",
      "       ...,\n",
      "       [ 4.10698061e-07, -4.92459367e-06,  3.87440399e-07, ...,\n",
      "         1.18961250e-05,  1.19634643e-05,  2.07024968e-05],\n",
      "       [ 1.91989304e-05,  2.17594706e-05,  1.99962726e-05, ...,\n",
      "        -6.20678959e-05, -7.19881544e-05, -6.53507950e-05],\n",
      "       [-1.06956035e-05, -1.02976913e-05, -7.42197672e-06, ...,\n",
      "         1.22044028e-05,  4.75971276e-06,  3.95664747e-06]]), 'variance': array([[2.20752919e-10, 1.74038338e-10, 1.69562604e-10, ...,\n",
      "        9.47842457e-10, 1.25527175e-09, 8.97152983e-10],\n",
      "       [1.91725061e-10, 1.69678426e-10, 1.67965545e-10, ...,\n",
      "        1.33976689e-09, 1.82185938e-09, 1.40167146e-09],\n",
      "       [3.60546991e-11, 4.93062204e-11, 3.31911750e-11, ...,\n",
      "        1.26200744e-10, 1.00711311e-10, 1.29945510e-10],\n",
      "       ...,\n",
      "       [2.71750707e-11, 4.57525030e-11, 2.68696450e-11, ...,\n",
      "        1.48699858e-10, 1.37626127e-10, 2.11427401e-10],\n",
      "       [1.05182342e-10, 1.21052512e-10, 1.03235164e-10, ...,\n",
      "        9.23063213e-10, 1.24805385e-09, 9.45986300e-10],\n",
      "       [7.22975324e-11, 9.44641949e-11, 6.59932163e-11, ...,\n",
      "        3.64165928e-10, 3.16092394e-10, 3.59844393e-10]]), 'std': array([[1.48577562e-05, 1.31923591e-05, 1.30216206e-05, ...,\n",
      "        3.07870501e-05, 3.54298145e-05, 2.99525121e-05],\n",
      "       [1.38464819e-05, 1.30260672e-05, 1.29601522e-05, ...,\n",
      "        3.66028263e-05, 4.26832447e-05, 3.74389030e-05],\n",
      "       [6.00455653e-06, 7.02183882e-06, 5.76117826e-06, ...,\n",
      "        1.12339105e-05, 1.00355025e-05, 1.13993644e-05],\n",
      "       ...,\n",
      "       [5.21297139e-06, 6.76405966e-06, 5.18359383e-06, ...,\n",
      "        1.21942551e-05, 1.17314163e-05, 1.45405434e-05],\n",
      "       [1.02558443e-05, 1.10023866e-05, 1.01604706e-05, ...,\n",
      "        3.03819554e-05, 3.53278056e-05, 3.07568903e-05],\n",
      "       [8.50279557e-06, 9.71926926e-06, 8.12362088e-06, ...,\n",
      "        1.90831320e-05, 1.77789874e-05, 1.89695649e-05]]), 'ptp_amp': array([[8.14566483e-05, 8.26672094e-05, 7.37138962e-05, ...,\n",
      "        1.67857601e-04, 1.89914284e-04, 1.60787420e-04],\n",
      "       [7.64933266e-05, 7.60728835e-05, 7.10770673e-05, ...,\n",
      "        1.83596849e-04, 2.14193902e-04, 1.88416792e-04],\n",
      "       [3.38175478e-05, 4.03889959e-05, 3.34161764e-05, ...,\n",
      "        7.20504468e-05, 6.79953519e-05, 7.81842755e-05],\n",
      "       ...,\n",
      "       [4.06707022e-05, 4.83595832e-05, 3.96374362e-05, ...,\n",
      "        1.23084732e-04, 1.18451853e-04, 1.45251125e-04],\n",
      "       [5.33800903e-05, 6.60402857e-05, 5.30241232e-05, ...,\n",
      "        1.50483800e-04, 1.74951951e-04, 1.55274207e-04],\n",
      "       [5.34593291e-05, 6.30527538e-05, 5.05295211e-05, ...,\n",
      "        1.10013301e-04, 1.04645795e-04, 1.12928639e-04]]), 'skewness': array([[-1.24172448, -0.91261846, -1.19202835, ...,  2.31034956,\n",
      "         2.28033609,  2.24455829],\n",
      "       [-1.75909225, -1.51704973, -1.83193399, ...,  2.68858528,\n",
      "         2.66982885,  2.64881826],\n",
      "       [-0.14814002, -0.11506777, -0.17479479, ..., -0.2583246 ,\n",
      "        -0.40158483, -0.27736493],\n",
      "       ...,\n",
      "       [-0.14941004, -0.17728436, -0.22654128, ...,  0.93495762,\n",
      "         0.64558859,  0.83105974],\n",
      "       [-1.88955969, -1.32208638, -1.81382842, ...,  2.5930516 ,\n",
      "         2.6196516 ,  2.62321086],\n",
      "       [ 0.01839527,  0.0893476 ,  0.1064775 , ...,  0.68786162,\n",
      "         0.68804171,  0.79400217]]), 'kurtosis': array([[ 4.59031866,  4.10248076,  4.63034773, ...,  8.2349334 ,\n",
      "         7.97915675,  7.83109148],\n",
      "       [ 6.32169359,  5.7153168 ,  6.53062883, ...,  9.84629038,\n",
      "         9.71084345,  9.60353391],\n",
      "       [ 2.76689455,  2.79171917,  2.72268426, ...,  2.69762891,\n",
      "         2.8852089 ,  3.34466204],\n",
      "       ...,\n",
      "       [ 3.81781854,  2.98080007,  3.58349483, ..., 10.72669789,\n",
      "         9.44870305, 10.52057818],\n",
      "       [ 6.33362519,  4.91528956,  6.0521331 , ...,  9.05914264,\n",
      "         9.11010496,  9.14121069],\n",
      "       [ 2.92431358,  3.19382979,  3.15455288, ...,  3.33999207,\n",
      "         3.4010045 ,  3.79330822]]), 'rms': array([[1.99554376e-05, 1.79797747e-05, 1.71862966e-05, ...,\n",
      "        3.83581762e-05, 4.53431395e-05, 3.87882087e-05],\n",
      "       [1.38509378e-05, 1.30262290e-05, 1.30749524e-05, ...,\n",
      "        4.09958134e-05, 4.71220433e-05, 4.13315055e-05],\n",
      "       [1.27217301e-05, 2.04447379e-05, 1.41143706e-05, ...,\n",
      "        4.57644483e-05, 4.27282579e-05, 5.01760121e-05],\n",
      "       ...,\n",
      "       [5.22782583e-06, 8.36548033e-06, 5.19676120e-06, ...,\n",
      "        1.70335943e-05, 1.67535616e-05, 2.52965435e-05],\n",
      "       [2.17653096e-05, 2.43816853e-05, 2.24284304e-05, ...,\n",
      "        6.91015602e-05, 8.01855629e-05, 7.22235415e-05],\n",
      "       [1.36622595e-05, 1.41583697e-05, 1.10020896e-05, ...,\n",
      "        2.26479885e-05, 1.84007960e-05, 1.93731675e-05]]), 'zero_crossings': array([[ 74.,  93.,  72., ...,  32.,  32.,  29.],\n",
      "       [ 92., 130.,  96., ...,  29.,  23.,  33.],\n",
      "       [ 29.,   9.,  14., ...,   1.,   1.,   1.],\n",
      "       ...,\n",
      "       [133., 121., 123., ...,  27.,  28.,  28.],\n",
      "       [  4.,   6.,   4., ...,   2.,   2.,   2.],\n",
      "       [ 61.,  73.,  73., ...,  77.,  39.,  63.]]), 'line_length': array([[1.40133055e-06, 1.64881792e-06, 1.20096030e-06, ...,\n",
      "        8.69732640e-07, 8.82784499e-07, 7.91355268e-07],\n",
      "       [1.14892446e-06, 1.48138637e-06, 1.04430222e-06, ...,\n",
      "        6.70689646e-07, 7.17204900e-07, 6.92659335e-07],\n",
      "       [1.29370982e-06, 1.40358065e-06, 9.92561482e-07, ...,\n",
      "        6.17043064e-07, 5.54184951e-07, 5.75382041e-07],\n",
      "       ...,\n",
      "       [8.13825007e-07, 1.28955145e-06, 7.31107425e-07, ...,\n",
      "        9.96200586e-07, 1.00940179e-06, 1.48140231e-06],\n",
      "       [8.95765422e-07, 1.30407584e-06, 7.84735236e-07, ...,\n",
      "        9.10809762e-07, 9.78795057e-07, 8.38569270e-07],\n",
      "       [1.34859690e-06, 1.58177371e-06, 1.14908352e-06, ...,\n",
      "        1.42867895e-06, 1.07124527e-06, 1.53619613e-06]]), 'app_entropy': array([[0.47910047, 0.56982684, 0.46995051, ..., 0.13323622, 0.11424896,\n",
      "        0.11939777],\n",
      "       [0.43151687, 0.54024675, 0.4183415 , ..., 0.06796685, 0.05992221,\n",
      "        0.06725015],\n",
      "       [0.701996  , 0.67572562, 0.65638032, ..., 0.27056429, 0.26483298,\n",
      "        0.23806932],\n",
      "       ...,\n",
      "       [0.63588324, 0.66683062, 0.6107681 , ..., 0.41301755, 0.43064344,\n",
      "        0.50177505],\n",
      "       [0.44789305, 0.54573165, 0.40625751, ..., 0.1152894 , 0.10409187,\n",
      "        0.10246191],\n",
      "       [0.6425815 , 0.64589341, 0.60640264, ..., 0.39921692, 0.32312801,\n",
      "        0.42538445]])}\n"
     ]
    }
   ],
   "source": [
    "print(feature_dict)"
   ]
  },
  {
   "cell_type": "code",
   "execution_count": 34,
   "metadata": {},
   "outputs": [],
   "source": [
    "from sklearn.cluster import KMeans\n",
    "\n",
    "# Flatten the feature matrices for each feature into 1D arrays\n",
    "flattened_features = {feature: matrix.reshape(-1) for feature, matrix in feature_dict.items()}\n",
    "\n",
    "# Stack the flattened feature arrays horizontally\n",
    "X = np.column_stack(list(flattened_features.values()))\n",
    "\n",
    "# Apply K-means clustering\n",
    "kmeans = KMeans(n_clusters=3, random_state=0).fit(X)\n",
    "\n",
    "# The labels_ attribute contains the labels of each point\n",
    "labels = kmeans.labels_"
   ]
  },
  {
   "cell_type": "code",
   "execution_count": 35,
   "metadata": {},
   "outputs": [
    {
     "data": {
      "text/plain": [
       "array([0, 0, 0, ..., 0, 1, 0], dtype=int32)"
      ]
     },
     "execution_count": 35,
     "metadata": {},
     "output_type": "execute_result"
    }
   ],
   "source": [
    "labels"
   ]
  },
  {
   "cell_type": "code",
   "execution_count": null,
   "metadata": {},
   "outputs": [],
   "source": [
    "import matplotlib.pyplot as plt\n",
    " \n",
    "#filter rows of original data\n",
    "filtered_label0 = df[label == 0]\n",
    " \n",
    "#plotting the results\n",
    "plt.scatter(filtered_label0[:,0] , filtered_label0[:,1])\n",
    "plt.show()"
   ]
  },
  {
   "cell_type": "markdown",
   "metadata": {},
   "source": [
    "# Scrap\n",
    "## rsEEG"
   ]
  },
  {
   "cell_type": "markdown",
   "metadata": {},
   "source": [
    "## Statistical features\n",
    "- Mean\n",
    "- STD\n",
    "- Peak amplitude"
   ]
  },
  {
   "cell_type": "code",
   "execution_count": null,
   "metadata": {},
   "outputs": [],
   "source": [
    "def mean_dict(eeg_data):\n",
    "    data = eeg_data.get_data()\n",
    "    ch_names = eeg_data.info['ch_names']\n",
    "    avg_values = np.mean(data, axis=1)\n",
    "    electrode_avg_dict = dict(zip(ch_names, avg_values))\n",
    "    return electrode_avg_dict\n",
    "\n",
    "def total_mean(mean_dict, electrodes=None):\n",
    "    if electrodes is None:\n",
    "        return np.mean(list(mean_dict.values()))\n",
    "    else:\n",
    "        return np.mean([mean_dict[electrode] for electrode in electrodes])\n",
    "    \n",
    "def std_dict(eeg_data):\n",
    "    data = eeg_data.get_data()\n",
    "    ch_names = eeg_data.info['ch_names']\n",
    "    std_values = np.std(data, axis=1)\n",
    "    electrode_std_dict = dict(zip(ch_names, std_values))\n",
    "    return electrode_std_dict\n",
    "\n",
    "def total_std(std_dict, electrodes=None):\n",
    "    if electrodes is None:\n",
    "        return np.mean(list(std_dict.values()))\n",
    "    else:\n",
    "        return np.mean([std_dict[electrode] for electrode in electrodes])\n",
    "    \n",
    "def peak_dict(eeg_data):\n",
    "    data = eeg_data.get_data()\n",
    "    ch_names = eeg_data.info['ch_names']\n",
    "    peak_values = np.max(data, axis=1)\n",
    "    electrode_peak_dict = dict(zip(ch_names, peak_values))\n",
    "    return electrode_peak_dict"
   ]
  },
  {
   "cell_type": "code",
   "execution_count": null,
   "metadata": {},
   "outputs": [],
   "source": [
    "print(\"Mean dict: \", mean_dict(rsEEG))\n",
    "print(\"Total mean: \", total_mean(mean_dict(rsEEG)))\n",
    "print(\"STD dict: \", std_dict(rsEEG))\n",
    "print(\"Total STD: \", total_std(std_dict(rsEEG)))"
   ]
  },
  {
   "cell_type": "markdown",
   "metadata": {},
   "source": [
    "## Power spectrum"
   ]
  },
  {
   "cell_type": "code",
   "execution_count": null,
   "metadata": {},
   "outputs": [],
   "source": [
    "rsEEG.compute_psd(fmin=0.5, fmax=100, n_fft=2048, n_overlap=1024, verbose=True).plot()"
   ]
  },
  {
   "cell_type": "markdown",
   "metadata": {},
   "source": []
  }
 ],
 "metadata": {
  "kernelspec": {
   "display_name": "tms",
   "language": "python",
   "name": "python3"
  },
  "language_info": {
   "codemirror_mode": {
    "name": "ipython",
    "version": 3
   },
   "file_extension": ".py",
   "mimetype": "text/x-python",
   "name": "python",
   "nbconvert_exporter": "python",
   "pygments_lexer": "ipython3",
   "version": "3.12.0"
  }
 },
 "nbformat": 4,
 "nbformat_minor": 2
}
