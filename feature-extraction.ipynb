{
 "cells": [
  {
   "cell_type": "markdown",
   "metadata": {},
   "source": [
    "# Feature extraction"
   ]
  },
  {
   "cell_type": "code",
   "execution_count": 1,
   "metadata": {},
   "outputs": [],
   "source": [
    "import mne\n",
    "import numpy as np\n",
    "import matplotlib.pyplot as plt\n",
    "import os\n",
    "import pandas as pd\n",
    "import mne_features"
   ]
  },
  {
   "cell_type": "code",
   "execution_count": 2,
   "metadata": {},
   "outputs": [],
   "source": [
    "def load_fif_file(filename):\n",
    "    eeg_data_raw = mne.read_epochs(filename, preload=False)\n",
    "    return eeg_data_raw"
   ]
  },
  {
   "cell_type": "code",
   "execution_count": 4,
   "metadata": {},
   "outputs": [
    {
     "name": "stdout",
     "output_type": "stream",
     "text": [
      "Opening raw data file dataset-cleaned/TMS-EEG-H_02_S1b_rsEEG_post-epo.fif...\n"
     ]
    },
    {
     "name": "stderr",
     "output_type": "stream",
     "text": [
      "/tmp/ipykernel_36226/665747015.py:2: RuntimeWarning: This filename (dataset-cleaned/TMS-EEG-H_02_S1b_rsEEG_post-epo.fif) does not conform to MNE naming conventions. All raw files should end with raw.fif, raw_sss.fif, raw_tsss.fif, _meg.fif, _eeg.fif, _ieeg.fif, raw.fif.gz, raw_sss.fif.gz, raw_tsss.fif.gz, _meg.fif.gz, _eeg.fif.gz or _ieeg.fif.gz\n",
      "  eeg_data_raw = mne.io.read_raw_fif(filename, preload=True)\n"
     ]
    },
    {
     "ename": "ValueError",
     "evalue": "No raw data in /home/tomasgalle/UGent/thesis/tms-research/dataset-cleaned/TMS-EEG-H_02_S1b_rsEEG_post-epo.fif",
     "output_type": "error",
     "traceback": [
      "\u001b[0;31m---------------------------------------------------------------------------\u001b[0m",
      "\u001b[0;31mValueError\u001b[0m                                Traceback (most recent call last)",
      "Cell \u001b[0;32mIn[4], line 1\u001b[0m\n\u001b[0;32m----> 1\u001b[0m rsEEG \u001b[38;5;241m=\u001b[39m \u001b[43mload_fif_file\u001b[49m\u001b[43m(\u001b[49m\u001b[38;5;124;43m\"\u001b[39;49m\u001b[38;5;124;43mdataset-cleaned/TMS-EEG-H_02_S1b_rsEEG_post-epo.fif\u001b[39;49m\u001b[38;5;124;43m\"\u001b[39;49m\u001b[43m)\u001b[49m\n\u001b[1;32m      2\u001b[0m spTEP \u001b[38;5;241m=\u001b[39m load_fif_file(\u001b[38;5;124m\"\u001b[39m\u001b[38;5;124mdataset-cleaned/TMS-EEG-H_02_S1b_spTEP_post-epo.fif\u001b[39m\u001b[38;5;124m\"\u001b[39m)\n",
      "Cell \u001b[0;32mIn[2], line 2\u001b[0m, in \u001b[0;36mload_fif_file\u001b[0;34m(filename)\u001b[0m\n\u001b[1;32m      1\u001b[0m \u001b[38;5;28;01mdef\u001b[39;00m \u001b[38;5;21mload_fif_file\u001b[39m(filename):\n\u001b[0;32m----> 2\u001b[0m     eeg_data_raw \u001b[38;5;241m=\u001b[39m \u001b[43mmne\u001b[49m\u001b[38;5;241;43m.\u001b[39;49m\u001b[43mio\u001b[49m\u001b[38;5;241;43m.\u001b[39;49m\u001b[43mread_raw_fif\u001b[49m\u001b[43m(\u001b[49m\u001b[43mfilename\u001b[49m\u001b[43m,\u001b[49m\u001b[43m \u001b[49m\u001b[43mpreload\u001b[49m\u001b[38;5;241;43m=\u001b[39;49m\u001b[38;5;28;43;01mTrue\u001b[39;49;00m\u001b[43m)\u001b[49m\n\u001b[1;32m      3\u001b[0m     \u001b[38;5;28;01mreturn\u001b[39;00m eeg_data_raw\n",
      "File \u001b[0;32m~/miniconda3/envs/tms/lib/python3.12/site-packages/mne/io/fiff/raw.py:543\u001b[0m, in \u001b[0;36mread_raw_fif\u001b[0;34m(fname, allow_maxshield, preload, on_split_missing, verbose)\u001b[0m\n\u001b[1;32m    502\u001b[0m \u001b[38;5;129m@fill_doc\u001b[39m\n\u001b[1;32m    503\u001b[0m \u001b[38;5;28;01mdef\u001b[39;00m \u001b[38;5;21mread_raw_fif\u001b[39m(\n\u001b[1;32m    504\u001b[0m     fname, allow_maxshield\u001b[38;5;241m=\u001b[39m\u001b[38;5;28;01mFalse\u001b[39;00m, preload\u001b[38;5;241m=\u001b[39m\u001b[38;5;28;01mFalse\u001b[39;00m, on_split_missing\u001b[38;5;241m=\u001b[39m\u001b[38;5;124m\"\u001b[39m\u001b[38;5;124mraise\u001b[39m\u001b[38;5;124m\"\u001b[39m, verbose\u001b[38;5;241m=\u001b[39m\u001b[38;5;28;01mNone\u001b[39;00m\n\u001b[1;32m    505\u001b[0m ):\n\u001b[1;32m    506\u001b[0m \u001b[38;5;250m    \u001b[39m\u001b[38;5;124;03m\"\"\"Reader function for Raw FIF data.\u001b[39;00m\n\u001b[1;32m    507\u001b[0m \n\u001b[1;32m    508\u001b[0m \u001b[38;5;124;03m    Parameters\u001b[39;00m\n\u001b[0;32m   (...)\u001b[0m\n\u001b[1;32m    541\u001b[0m \u001b[38;5;124;03m    are updated accordingly.\u001b[39;00m\n\u001b[1;32m    542\u001b[0m \u001b[38;5;124;03m    \"\"\"\u001b[39;00m\n\u001b[0;32m--> 543\u001b[0m     \u001b[38;5;28;01mreturn\u001b[39;00m \u001b[43mRaw\u001b[49m\u001b[43m(\u001b[49m\n\u001b[1;32m    544\u001b[0m \u001b[43m        \u001b[49m\u001b[43mfname\u001b[49m\u001b[38;5;241;43m=\u001b[39;49m\u001b[43mfname\u001b[49m\u001b[43m,\u001b[49m\n\u001b[1;32m    545\u001b[0m \u001b[43m        \u001b[49m\u001b[43mallow_maxshield\u001b[49m\u001b[38;5;241;43m=\u001b[39;49m\u001b[43mallow_maxshield\u001b[49m\u001b[43m,\u001b[49m\n\u001b[1;32m    546\u001b[0m \u001b[43m        \u001b[49m\u001b[43mpreload\u001b[49m\u001b[38;5;241;43m=\u001b[39;49m\u001b[43mpreload\u001b[49m\u001b[43m,\u001b[49m\n\u001b[1;32m    547\u001b[0m \u001b[43m        \u001b[49m\u001b[43mverbose\u001b[49m\u001b[38;5;241;43m=\u001b[39;49m\u001b[43mverbose\u001b[49m\u001b[43m,\u001b[49m\n\u001b[1;32m    548\u001b[0m \u001b[43m        \u001b[49m\u001b[43mon_split_missing\u001b[49m\u001b[38;5;241;43m=\u001b[39;49m\u001b[43mon_split_missing\u001b[49m\u001b[43m,\u001b[49m\n\u001b[1;32m    549\u001b[0m \u001b[43m    \u001b[49m\u001b[43m)\u001b[49m\n",
      "File \u001b[0;32m<decorator-gen-179>:12\u001b[0m, in \u001b[0;36m__init__\u001b[0;34m(self, fname, allow_maxshield, preload, on_split_missing, verbose)\u001b[0m\n",
      "File \u001b[0;32m~/miniconda3/envs/tms/lib/python3.12/site-packages/mne/io/fiff/raw.py:105\u001b[0m, in \u001b[0;36mRaw.__init__\u001b[0;34m(self, fname, allow_maxshield, preload, on_split_missing, verbose)\u001b[0m\n\u001b[1;32m    103\u001b[0m next_fname \u001b[38;5;241m=\u001b[39m fname\n\u001b[1;32m    104\u001b[0m \u001b[38;5;28;01mwhile\u001b[39;00m next_fname \u001b[38;5;129;01mis\u001b[39;00m \u001b[38;5;129;01mnot\u001b[39;00m \u001b[38;5;28;01mNone\u001b[39;00m:\n\u001b[0;32m--> 105\u001b[0m     raw, next_fname, buffer_size_sec \u001b[38;5;241m=\u001b[39m \u001b[38;5;28;43mself\u001b[39;49m\u001b[38;5;241;43m.\u001b[39;49m\u001b[43m_read_raw_file\u001b[49m\u001b[43m(\u001b[49m\n\u001b[1;32m    106\u001b[0m \u001b[43m        \u001b[49m\u001b[43mnext_fname\u001b[49m\u001b[43m,\u001b[49m\u001b[43m \u001b[49m\u001b[43mallow_maxshield\u001b[49m\u001b[43m,\u001b[49m\u001b[43m \u001b[49m\u001b[43mpreload\u001b[49m\u001b[43m,\u001b[49m\u001b[43m \u001b[49m\u001b[43mdo_check_ext\u001b[49m\n\u001b[1;32m    107\u001b[0m \u001b[43m    \u001b[49m\u001b[43m)\u001b[49m\n\u001b[1;32m    108\u001b[0m     do_check_ext \u001b[38;5;241m=\u001b[39m \u001b[38;5;28;01mFalse\u001b[39;00m\n\u001b[1;32m    109\u001b[0m     raws\u001b[38;5;241m.\u001b[39mappend(raw)\n",
      "File \u001b[0;32m<decorator-gen-180>:12\u001b[0m, in \u001b[0;36m_read_raw_file\u001b[0;34m(self, fname, allow_maxshield, preload, do_check_ext, verbose)\u001b[0m\n",
      "File \u001b[0;32m~/miniconda3/envs/tms/lib/python3.12/site-packages/mne/io/fiff/raw.py:211\u001b[0m, in \u001b[0;36mRaw._read_raw_file\u001b[0;34m(self, fname, allow_maxshield, preload, do_check_ext, verbose)\u001b[0m\n\u001b[1;32m    209\u001b[0m raw_node \u001b[38;5;241m=\u001b[39m dir_tree_find(meas, FIFF\u001b[38;5;241m.\u001b[39mFIFFB_IAS_RAW_DATA)\n\u001b[1;32m    210\u001b[0m \u001b[38;5;28;01mif\u001b[39;00m \u001b[38;5;28mlen\u001b[39m(raw_node) \u001b[38;5;241m==\u001b[39m \u001b[38;5;241m0\u001b[39m:\n\u001b[0;32m--> 211\u001b[0m     \u001b[38;5;28;01mraise\u001b[39;00m \u001b[38;5;167;01mValueError\u001b[39;00m(\u001b[38;5;124m\"\u001b[39m\u001b[38;5;124mNo raw data in \u001b[39m\u001b[38;5;132;01m%s\u001b[39;00m\u001b[38;5;124m\"\u001b[39m \u001b[38;5;241m%\u001b[39m fname_rep)\n\u001b[1;32m    212\u001b[0m _check_maxshield(allow_maxshield)\n\u001b[1;32m    213\u001b[0m \u001b[38;5;28;01mwith\u001b[39;00m info\u001b[38;5;241m.\u001b[39m_unlock():\n",
      "\u001b[0;31mValueError\u001b[0m: No raw data in /home/tomasgalle/UGent/thesis/tms-research/dataset-cleaned/TMS-EEG-H_02_S1b_rsEEG_post-epo.fif"
     ]
    }
   ],
   "source": [
    "rsEEG = load_fif_file(\"dataset-cleaned/TMS-EEG-H_02_S1b_rsEEG_post-epo.fif\")\n",
    "spTEP = load_fif_file(\"dataset-cleaned/TMS-EEG-H_02_S1b_spTEP_post-epo.fif\")"
   ]
  },
  {
   "cell_type": "markdown",
   "metadata": {},
   "source": [
    "# rsEEG"
   ]
  },
  {
   "cell_type": "markdown",
   "metadata": {},
   "source": [
    "## Statistical features\n",
    "- Mean\n",
    "- STD\n",
    "- Peak amplitude"
   ]
  },
  {
   "cell_type": "code",
   "execution_count": null,
   "metadata": {},
   "outputs": [],
   "source": [
    "def mean_dict(eeg_data):\n",
    "    data = eeg_data.get_data()\n",
    "    ch_names = eeg_data.info['ch_names']\n",
    "    avg_values = np.mean(data, axis=1)\n",
    "    electrode_avg_dict = dict(zip(ch_names, avg_values))\n",
    "    return electrode_avg_dict\n",
    "\n",
    "def total_mean(mean_dict, electrodes=None):\n",
    "    if electrodes is None:\n",
    "        return np.mean(list(mean_dict.values()))\n",
    "    else:\n",
    "        return np.mean([mean_dict[electrode] for electrode in electrodes])\n",
    "    \n",
    "def std_dict(eeg_data):\n",
    "    data = eeg_data.get_data()\n",
    "    ch_names = eeg_data.info['ch_names']\n",
    "    std_values = np.std(data, axis=1)\n",
    "    electrode_std_dict = dict(zip(ch_names, std_values))\n",
    "    return electrode_std_dict\n",
    "\n",
    "def total_std(std_dict, electrodes=None):\n",
    "    if electrodes is None:\n",
    "        return np.mean(list(std_dict.values()))\n",
    "    else:\n",
    "        return np.mean([std_dict[electrode] for electrode in electrodes])\n",
    "    \n",
    "def peak_dict(eeg_data):\n",
    "    data = eeg_data.get_data()\n",
    "    ch_names = eeg_data.info['ch_names']\n",
    "    peak_values = np.max(data, axis=1)\n",
    "    electrode_peak_dict = dict(zip(ch_names, peak_values))\n",
    "    return electrode_peak_dict"
   ]
  },
  {
   "cell_type": "code",
   "execution_count": null,
   "metadata": {},
   "outputs": [],
   "source": [
    "print(\"Mean dict: \", mean_dict(rsEEG))\n",
    "print(\"Total mean: \", total_mean(mean_dict(rsEEG)))\n",
    "print(\"STD dict: \", std_dict(rsEEG))\n",
    "print(\"Total STD: \", total_std(std_dict(rsEEG)))"
   ]
  },
  {
   "cell_type": "markdown",
   "metadata": {},
   "source": [
    "## Power spectrum"
   ]
  },
  {
   "cell_type": "code",
   "execution_count": null,
   "metadata": {},
   "outputs": [],
   "source": [
    "rsEEG.compute_psd(fmin=0.5, fmax=100, n_fft=2048, n_overlap=1024, verbose=True).plot()"
   ]
  },
  {
   "cell_type": "markdown",
   "metadata": {},
   "source": []
  }
 ],
 "metadata": {
  "kernelspec": {
   "display_name": "tms",
   "language": "python",
   "name": "python3"
  },
  "language_info": {
   "codemirror_mode": {
    "name": "ipython",
    "version": 3
   },
   "file_extension": ".py",
   "mimetype": "text/x-python",
   "name": "python",
   "nbconvert_exporter": "python",
   "pygments_lexer": "ipython3",
   "version": "3.12.0"
  }
 },
 "nbformat": 4,
 "nbformat_minor": 2
}
