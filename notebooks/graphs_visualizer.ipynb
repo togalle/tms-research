{
 "cells": [
  {
   "cell_type": "markdown",
   "metadata": {},
   "source": [
    "# spTEP"
   ]
  },
  {
   "cell_type": "markdown",
   "metadata": {},
   "source": [
    "- Decay/recharge artifact lasts about 0.4 seconds\n",
    "- Most central electrode is FC1\n",
    "- Pulse + decay range is about [-1.5/2, 3(largest)/10(most complete)] ms (literature suggests [-1, 6], [-1/2, 5/10])"
   ]
  },
  {
   "cell_type": "code",
   "execution_count": null,
   "metadata": {},
   "outputs": [],
   "source": [
    "# Imports\n",
    "import os\n",
    "from ipywidgets import *\n",
    "import numpy as np\n",
    "import mne\n",
    "from mne.preprocessing import ICA\n",
    "from mne_icalabel import label_components\n",
    "import matplotlib.pyplot as plt\n",
    "from scipy.interpolate import interp1d\n",
    "\n",
    "import utils\n",
    "\n",
    "# Specify graph rendering method\n",
    "# %matplotlib widget\n",
    "plt.switch_backend(\"TkAgg\")\n",
    "\n",
    "DATASET_PATH = \"./dataset\"\n",
    "FILENAME_TEMPLATE = \"TMS-EEG-H_02_S1b_{}_{}.vhdr\"\n",
    "\n",
    "spTEP_pre_raw = mne.io.read_raw_brainvision(\n",
    "    os.path.join(DATASET_PATH, FILENAME_TEMPLATE.format(\"spTEP\", \"pre\")), preload=True\n",
    ")\n",
    "sampling_rate = spTEP_pre_raw.info[\"sfreq\"]\n",
    "events, event_dict = mne.events_from_annotations(spTEP_pre_raw)\n",
    "tms_indices = [event[0] for event in events if event[2] == 1]\n",
    "\n",
    "epochs = mne.Epochs(spTEP_pre_raw, events, event_id=event_dict, tmin=-1, tmax=1, baseline=(None, -0.003))\n",
    "epochs_average = epochs.average()\n",
    "psd = spTEP_pre_raw.compute_psd()\n",
    "psd = psd.drop_channels([\"VEOG\"])"
   ]
  },
  {
   "cell_type": "code",
   "execution_count": null,
   "metadata": {},
   "outputs": [],
   "source": [
    "# Plot topomap to indicate where major activity is, indicating zone of application\n",
    "psd.plot_topomap(show_names=True, bands=[(0.5, 100)]) # Focus on FC1"
   ]
  },
  {
   "cell_type": "markdown",
   "metadata": {},
   "source": [
    "![topomap](img/EDA/topomap.png)"
   ]
  },
  {
   "cell_type": "code",
   "execution_count": null,
   "metadata": {},
   "outputs": [],
   "source": [
    "# Plot average response of all channels\n",
    "epochs_average.plot(gfp=True, ylim = dict(eeg=[-15, 15]), xlim=(-0.02, 1))\n",
    "\n",
    "epochs_average.plot(gfp=True, ylim = dict(eeg=[-15, 15]), xlim=(-0.02, 0.5))"
   ]
  },
  {
   "cell_type": "markdown",
   "metadata": {},
   "source": [
    "![](img/EDA/average_total_long.png)\n",
    "![](img/EDA/average_total_short.png)"
   ]
  },
  {
   "cell_type": "code",
   "execution_count": null,
   "metadata": {},
   "outputs": [],
   "source": [
    "# Plot average response of one channel\n",
    "# channels = [\"Cz\", \"C1\", \"C3\", \"C5\"] # Used in paper by doctor Carrette\n",
    "# channels = [\"FC1\"] # Found by looking at topomap\n",
    "channels = [\"Cz\", \"C1\", \"C3\", \"FC1\"] # Used in paper by doctor Carrette\n",
    "\n",
    "epochs_average.plot(ylim = dict(eeg=[-10, 15]), xlim=(-0.05, 0.5), picks=channels)"
   ]
  },
  {
   "cell_type": "markdown",
   "metadata": {},
   "source": [
    "![](img/EDA/average_local.png)"
   ]
  },
  {
   "cell_type": "code",
   "execution_count": null,
   "metadata": {},
   "outputs": [],
   "source": [
    "# Plot zoomed in\n",
    "# epochs_average.plot(gfp=True, ylim = dict(eeg=[-15, 15]), picks=channels, xlim=[-0.02, 0.05])\n",
    "\n",
    "epochs_average.plot(gfp=False, ylim = dict(eeg=[-150, 150]), xlim=(-0.01, 0.02))"
   ]
  },
  {
   "cell_type": "markdown",
   "metadata": {},
   "source": [
    "![](img/EDA/average_closeup.png)"
   ]
  },
  {
   "cell_type": "code",
   "execution_count": null,
   "metadata": {},
   "outputs": [],
   "source": [
    "# Plot discharge artifact\n",
    "spTEP_pre_raw.plot(events=events, event_id=event_dict, start=102.5, duration=2, n_channels=1, scalings=dict(eeg=50e-5))"
   ]
  },
  {
   "cell_type": "markdown",
   "metadata": {},
   "source": [
    "![](img/EDA/single_decay_artifact_crop.png)"
   ]
  },
  {
   "cell_type": "markdown",
   "metadata": {},
   "source": [
    "# rsEEG"
   ]
  },
  {
   "cell_type": "code",
   "execution_count": null,
   "metadata": {},
   "outputs": [],
   "source": [
    "rsEEG_pre_raw = mne.io.read_raw_brainvision(\n",
    "    os.path.join(DATASET_PATH, FILENAME_TEMPLATE.format(\"rsEEG\", \"pre\")), preload=True\n",
    ")\n",
    "\n",
    "# rsEEG_average = rsEEG_pre_raw.average()"
   ]
  },
  {
   "cell_type": "code",
   "execution_count": null,
   "metadata": {},
   "outputs": [],
   "source": [
    "rsEEG_pre_raw.plot(n_channels=1, scalings=dict(eeg=1e-3))"
   ]
  },
  {
   "cell_type": "markdown",
   "metadata": {},
   "source": []
  }
 ],
 "metadata": {
  "kernelspec": {
   "display_name": "Python 3 (ipykernel)",
   "language": "python",
   "name": "python3"
  },
  "language_info": {
   "codemirror_mode": {
    "name": "ipython",
    "version": 3
   },
   "file_extension": ".py",
   "mimetype": "text/x-python",
   "name": "python",
   "nbconvert_exporter": "python",
   "pygments_lexer": "ipython3",
   "version": "3.11.9"
  }
 },
 "nbformat": 4,
 "nbformat_minor": 4
}
