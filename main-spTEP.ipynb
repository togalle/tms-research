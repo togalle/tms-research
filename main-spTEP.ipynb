{
 "cells": [
  {
   "cell_type": "code",
   "execution_count": null,
   "id": "fbd2728e",
   "metadata": {},
   "outputs": [],
   "source": [
    "# %conda env export > environment.yaml\n",
    "%conda env create -f environment.yaml"
   ]
  },
  {
   "cell_type": "code",
   "execution_count": null,
   "id": "d89ee1f5-3b07-43a8-b81c-ead4167b7d5c",
   "metadata": {
    "editable": true,
    "slideshow": {
     "slide_type": ""
    },
    "tags": []
   },
   "outputs": [],
   "source": [
    "# %pip install mne pandas numpy scikit-learn mne-icalabel\n",
    "%pip install ipywidgets"
   ]
  },
  {
   "cell_type": "markdown",
   "id": "d8b88bdf-108a-45cb-b86c-1bcb1d4de1c7",
   "metadata": {},
   "source": [
    "# TMS pipeline\n",
    "\n",
    "This notebook contains the full pipeline of the individual scripts. The pipeline goes as follows:\n",
    "\n",
    "- EDA\n",
    "- Prepocessing\n",
    "- Model training\n",
    "- Validation\n"
   ]
  },
  {
   "cell_type": "code",
   "execution_count": null,
   "id": "c0b4e64d-7dac-4694-b134-63db73db9aaa",
   "metadata": {},
   "outputs": [],
   "source": [
    "# Imports\n",
    "import os\n",
    "import pandas as pd\n",
    "from ipywidgets import *\n",
    "import numpy as np\n",
    "import mne\n",
    "from mne.preprocessing import ICA\n",
    "# import torch\n",
    "from mne_icalabel import label_components\n",
    "\n",
    "import matplotlib.pyplot as plt\n",
    "from mne.preprocessing import ICA\n",
    "import scipy\n",
    "\n",
    "import preprocessing\n",
    "import utils\n",
    "\n",
    "# Specify graph rendering method\n",
    "# %matplotlib widget\n",
    "plt.switch_backend('TkAgg')"
   ]
  },
  {
   "cell_type": "markdown",
   "id": "906ac487-c0de-4c3e-a268-c7357e646ed3",
   "metadata": {},
   "source": [
    "## Data loading\n",
    "\n",
    "Currently, only one session from one patient gets used for testing purposes. File names are as follows: \"**TMS-EEG-H_02_S1b_X_Y.Z**\", where:\n",
    "\n",
    "- X = **rsEEG** (resting state EEG) or **spTEP** (single pulse TMS Evoked Potential)\n",
    "- Y = **pre** or **post** (before or after the rTMS procedure)\n",
    "- Z = **vhdr**, **vmrk**, **eeg** or **mat** (files for the BrainVision format, and a MATLAB file)\n"
   ]
  },
  {
   "cell_type": "code",
   "execution_count": null,
   "id": "2eb79a09-a920-4184-971f-b33180a9cb64",
   "metadata": {},
   "outputs": [],
   "source": [
    "# Currently for 1 patient, will be generalized into a pipeline for all patients\n",
    "\n",
    "DATASET_PATH = './dataset'\n",
    "FILENAME_TEMPLATE = \"TMS-EEG-H_02_S1b_{}_{}.vhdr\"\n",
    "\n",
    "# rsEEG_pre_raw = mne.io.read_raw_brainvision(os.path.join(DATASET_PATH, FILENAME_TEMPLATE.format(\"rsEEG\", \"pre\")), preload=True)\n",
    "spTEP_pre_raw = mne.io.read_raw_brainvision(os.path.join(DATASET_PATH, FILENAME_TEMPLATE.format(\"spTEP\", \"pre\")), preload=True)\n",
    "spTEP_pre_raw.drop_channels(['HEOG', 'VEOG'])\n",
    "\n",
    "#rsEEG_post_raw = mne.io.read_raw_brainvision(os.path.join(DATASET_PATH, FILENAME_TEMPLATE.format(\"rsEEG\", \"post\")), preload=True)\n",
    "# spTEP_post_raw = mne.io.read_raw_brainvision(os.path.join(DATASET_PATH, FILENAME_TEMPLATE.format(\"spTEP\", \"post\")), preload=True)\n",
    "# spTEP_post_raw.drop_channels(['HEOG', 'VEOG'])\n"
   ]
  },
  {
   "cell_type": "markdown",
   "id": "0500cabe-c48b-4374-8cc2-244735e1c8dd",
   "metadata": {},
   "source": [
    "## EDA\n",
    "\n",
    "### EEG Visualization\n",
    "\n",
    "Visualizing the EEG graphs and electrodes for all the files gives a first impression of the data, and possible immediate preprocessing changes that can take place.\n",
    "\n",
    "spTEP_pre: TP9 is bad channel\n",
    "\n",
    "Perfect overlap on the Fp2 and VEOG channels, likely because the Fp2 was also used as a reference for VEOG. This overlap does result in errors, so it's better to remove the VEOG channel and keep this reference in mind.\n"
   ]
  },
  {
   "cell_type": "code",
   "execution_count": null,
   "id": "43ff652d",
   "metadata": {},
   "outputs": [],
   "source": [
    "clone = spTEP_pre_raw.copy()"
   ]
  },
  {
   "cell_type": "code",
   "execution_count": null,
   "id": "ae5c6b4f",
   "metadata": {},
   "outputs": [],
   "source": [
    "clone = preprocessing.preprocess(clone)"
   ]
  },
  {
   "cell_type": "code",
   "execution_count": null,
   "id": "02778b9b",
   "metadata": {},
   "outputs": [],
   "source": [
    "utils.plot_average_response(clone)"
   ]
  },
  {
   "cell_type": "code",
   "execution_count": null,
   "id": "7fbbdd34",
   "metadata": {},
   "outputs": [],
   "source": [
    "spTEP_pre_raw.plot(start=60, duration=10, n_channels=20, scalings={'eeg': 50e-6})"
   ]
  },
  {
   "cell_type": "code",
   "execution_count": null,
   "id": "0f9723c3",
   "metadata": {},
   "outputs": [],
   "source": [
    "utils.plot_single_response(spTEP_pre_raw, channel=\"Pz\", tmin=-0.05, tmax=0.05)"
   ]
  },
  {
   "cell_type": "code",
   "execution_count": null,
   "id": "1e5b6e29-18af-4f24-a0d1-b758100eb1df",
   "metadata": {},
   "outputs": [],
   "source": [
    "print(spTEP_pre_raw.info)"
   ]
  },
  {
   "cell_type": "code",
   "execution_count": null,
   "id": "6090e8f4-b23f-4397-b0a5-5231bc8c4fa1",
   "metadata": {},
   "outputs": [],
   "source": [
    "utils.plot_average_response(spTEP_pre_raw, tmin=-0.01, tmax=0.05)"
   ]
  },
  {
   "cell_type": "code",
   "execution_count": null,
   "id": "285220e4",
   "metadata": {},
   "outputs": [],
   "source": [
    "# Clearly indicates where the coils were placed\n",
    "spTEP_pre_raw.compute_psd().plot_topomap()"
   ]
  },
  {
   "cell_type": "markdown",
   "id": "d903f214-5d46-41a9-89f8-bb6cf3052a3a",
   "metadata": {},
   "source": [
    "## Preprocessing\n"
   ]
  },
  {
   "cell_type": "code",
   "execution_count": null,
   "id": "1127c7a6",
   "metadata": {},
   "outputs": [],
   "source": [
    "# Preprocessing with interpolation\n",
    "spTEP_pre_raw.info['bads'] = ['TP9']\n",
    "spTEP_pre_raw.interpolate_bads(reset_bads=True)\n",
    "\n",
    "spTEP_pre = spTEP_pre_raw.copy()\n",
    "spTEP_pre = preprocessing.preprocess(spTEP_pre)\n",
    "\n",
    "# spTEP_post = spTEP_post_raw.copy()\n",
    "# spTEP_post = preprocessing.preprocess(spTEP_post)"
   ]
  },
  {
   "cell_type": "code",
   "execution_count": null,
   "id": "e4f7dbf6",
   "metadata": {},
   "outputs": [],
   "source": [
    "utils.plot_average_response(spTEP_pre_raw, tmin=-0.005, tmax=0.2)"
   ]
  },
  {
   "cell_type": "code",
   "execution_count": null,
   "id": "6866ef97",
   "metadata": {},
   "outputs": [],
   "source": [
    "# Full pipeline\n",
    "utils.plot_average_response(spTEP_pre, tmin=-0.05, tmax=0.2)\n",
    "# utils.plot_average_response(spTEP_post, tmin=-0.05, tmax=0.2)"
   ]
  },
  {
   "cell_type": "code",
   "execution_count": null,
   "id": "2d4bc2b0",
   "metadata": {},
   "outputs": [],
   "source": [
    "FILENAME_TEMPLATE = \"TMS-EEG-H_{:02d}_S{}_{}_{}\"\n",
    "filename = FILENAME_TEMPLATE.format(2, \"1b\", \"spTEP\", \"pre\")\n",
    "spTEP_pre.save(os.path.join(\".\", \"cleaned\", filename + \".fif\"), overwrite=True)"
   ]
  },
  {
   "cell_type": "code",
   "execution_count": null,
   "id": "f2463168",
   "metadata": {},
   "outputs": [],
   "source": [
    "# Apply preprocessing to all available data and save for later use\n",
    "\n",
    "DATASET_PATH_FULL = '../neuroaa/datasets/raw/uz_gent'\n",
    "FILENAME_TEMPLATE = \"TMS-EEG-H_{:02d}_S{}_{}_{}\"\n",
    "\n",
    "for patient in range(19):\n",
    "    for session in range(4):\n",
    "        for type in [\"spTEP\", \"rsEEG\"]:\n",
    "            for trial in [\"pre\", \"post\"]:\n",
    "                filename = FILENAME_TEMPLATE.format(patient, session, type, trial)\n",
    "                eeg_raw = mne.io.read_raw_brainvision(os.path.join(DATASET_PATH, filename + \".vhdr\"), preload=True)\n",
    "                eeg_clean = eeg_raw.copy()\n",
    "                eeg_clean = preprocessing.preprocess(eeg_clean)\n",
    "                eeg_clean.save(os.path.join(\".\", \"cleaned_data\", filename + \".fif\"), overwrite=True)"
   ]
  },
  {
   "cell_type": "markdown",
   "id": "2b42e2e6",
   "metadata": {},
   "source": [
    "## Feature extraction\n",
    "\n",
    "Features are per pulse (spTEP) or epoch (rsEEG)\n"
   ]
  },
  {
   "cell_type": "markdown",
   "id": "aa1cd8ef",
   "metadata": {},
   "source": [
    "### Time domain\n"
   ]
  },
  {
   "cell_type": "code",
   "execution_count": null,
   "id": "df7aa968",
   "metadata": {},
   "outputs": [],
   "source": [
    "# Peak amplitude, peak latency, and area under curve\n",
    "events, event_dict = mne.events_from_annotations(spTEP_pre)\n",
    "epochs = mne.Epochs(spTEP_pre, events, event_id=event_dict, tmin=-0.05, tmax=0.2, baseline=None, preload=True)\n",
    "\n",
    "features = []\n",
    "\n",
    "for epoch in epochs.get_data():\n",
    "    peak_amplitude = np.max(epoch)\n",
    "    peak_latency = np.argmax(epoch) / epochs.info['sfreq']\n",
    "    area_under_curve = np.mean(np.trapz(epoch))\n",
    "\n",
    "    features.append([peak_amplitude, peak_latency, area_under_curve])\n",
    "\n",
    "len(features)"
   ]
  },
  {
   "cell_type": "code",
   "execution_count": null,
   "id": "3edd0715",
   "metadata": {},
   "outputs": [],
   "source": [
    "# Plot difference of features between pre and post\n",
    "\n",
    "events, event_dict = mne.events_from_annotations(spTEP_pre)\n",
    "epochs = mne.Epochs(spTEP_pre, events, event_id=event_dict, tmin=-0.05, tmax=0.2, baseline=None, preload=True)\n",
    "data = epochs.get_data()\n",
    "average_response = epochs.average().data\n",
    "\n",
    "events_post, event_dict_post = mne.events_from_annotations(spTEP_post)\n",
    "epochs_post = mne.Epochs(spTEP_post, events_post, event_id=event_dict_post, tmin=-0.05, tmax=0.2, baseline=None, preload=True)\n",
    "data_post = epochs_post.get_data()\n",
    "average_response_post = epochs_post.average().data\n",
    "\n",
    "average_max = average_response.max(axis=1)\n",
    "mean = data.mean(axis=(0, 2))\n",
    "std_dev = data.std(axis=(0, 2))\n",
    "skewness = scipy.stats.skew(data, axis=(0, 2))\n",
    "kurtosis = scipy.stats.kurtosis(data, axis=(0, 2))\n",
    "\n",
    "average_max_post = average_response_post.max(axis=1)\n",
    "mean_post = data_post.mean(axis=(0, 2))\n",
    "std_dev_post = data_post.std(axis=(0, 2))\n",
    "skewness_post = scipy.stats.skew(data_post, axis=(0, 2))\n",
    "kurtosis_post = scipy.stats.kurtosis(data_post, axis=(0, 2))\n",
    "\n",
    "fig, axs = plt.subplots(3, 2)\n",
    "axs[0, 0].scatter(mean, mean_post)\n",
    "axs[0, 0].set_xlabel('Mean (pre)')\n",
    "axs[0, 0].set_ylabel('Mean (post)')\n",
    "\n",
    "axs[0, 1].scatter(std_dev, std_dev_post)\n",
    "axs[0, 1].set_xlabel('Standard Deviation (pre)')\n",
    "axs[0, 1].set_ylabel('Standard Deviation (post)')\n",
    "\n",
    "axs[1, 0].scatter(skewness, skewness_post)\n",
    "axs[1, 0].set_xlabel('Skewness (pre)')\n",
    "axs[1, 0].set_ylabel('Skewness (post)')\n",
    "\n",
    "axs[1, 1].scatter(kurtosis, kurtosis_post)\n",
    "axs[1, 1].set_xlabel('Kurtosis (pre)')\n",
    "axs[1, 1].set_ylabel('Kurtosis (post)')\n",
    "\n",
    "axs[2, 0].scatter(average_max, average_max_post)\n",
    "axs[2, 0].set_xlabel('Max Average Response (pre)')\n",
    "axs[2, 0].set_ylabel('Max Average Response (post)')\n",
    "\n",
    "# Remove the unused subplot\n",
    "fig.delaxes(axs[2,1])\n",
    "\n",
    "plt.tight_layout()\n",
    "plt.show()"
   ]
  },
  {
   "cell_type": "markdown",
   "id": "67ce3f37",
   "metadata": {},
   "source": [
    "### Frequency domain\n"
   ]
  },
  {
   "cell_type": "code",
   "execution_count": null,
   "id": "858c5a3d",
   "metadata": {},
   "outputs": [],
   "source": [
    "bands = {'delta': (0.5, 4),\n",
    "         'theta': (4, 8),\n",
    "         'alpha': (8, 12),\n",
    "         'beta': (12, 30),\n",
    "         'gamma': (30, 50)}"
   ]
  },
  {
   "cell_type": "code",
   "execution_count": null,
   "id": "cdb95fa6",
   "metadata": {},
   "outputs": [],
   "source": [
    "# Average power per frequency band\n",
    "psd = spTEP_pre.compute_psd(fmin=1.0, fmax=100.0)\n",
    "psd.plot(average=True)\n",
    "\n",
    "freqs = psd.freqs\n",
    "\n",
    "# Initialize a dictionary to hold the average power for each band\n",
    "avg_power = {}\n",
    "\n",
    "for band, (fmin, fmax) in bands.items():\n",
    "    band_indices = np.where((freqs >= fmin) & (freqs <= fmax))[0]\n",
    "    band_psd = psd.get_data()[:, band_indices]\n",
    "    avg_power[band] = np.mean(band_psd)\n",
    "\n",
    "print(avg_power)"
   ]
  },
  {
   "cell_type": "code",
   "execution_count": null,
   "id": "a67a1b43",
   "metadata": {},
   "outputs": [],
   "source": [
    "# Difference in average power\n",
    "psd_pre = epochs.compute_psd(fmin=1.0, fmax=100.0)\n",
    "psd_post = epochs_post.compute_psd(fmin=1.0, fmax=100.0)\n",
    "\n",
    "psd_pre_avg = psd_pre.average()\n",
    "psd_post_avg = psd_post.average()\n",
    "\n",
    "psd_diff = psd_post_avg.get_data() - psd_pre_avg.get_data()\n",
    "\n",
    "fig, ax = plt.subplots()\n",
    "\n",
    "# Plot the difference PSD\n",
    "ax.plot(psd_pre.freqs, psd_diff[0], label='Post - Pre')\n",
    "\n",
    "# Add a legend\n",
    "ax.legend()\n",
    "\n",
    "# Show the plot\n",
    "plt.show()"
   ]
  },
  {
   "cell_type": "markdown",
   "id": "3f18ea99",
   "metadata": {},
   "source": [
    "### Time-frequency domain\n"
   ]
  },
  {
   "cell_type": "code",
   "execution_count": null,
   "id": "b44c4a7b",
   "metadata": {},
   "outputs": [],
   "source": [
    "# Compute the wavelet transform of the data\n",
    "events, event_dict = mne.events_from_annotations(spTEP_pre)\n",
    "epochs = mne.Epochs(spTEP_pre, events, event_id=event_dict, tmin=0, tmax=4, baseline=None, preload=True)\n",
    "\n",
    "frequencies = np.arange(1, 100)\n",
    "\n",
    "wavelets = mne.time_frequency.tfr_morlet(epochs, freqs=frequencies, n_cycles=2)"
   ]
  },
  {
   "cell_type": "code",
   "execution_count": null,
   "id": "879cb88b",
   "metadata": {},
   "outputs": [],
   "source": [
    "# INDIVIDUAL PLOTS\n",
    "\n",
    "power = wavelets[0].data\n",
    "avg_power = np.mean(power, axis=0)\n",
    "\n",
    "fig, ax = plt.subplots()\n",
    "\n",
    "# Create the heatmap\n",
    "cax = ax.imshow(avg_power, aspect='auto', cmap='hot', origin='lower')\n",
    "\n",
    "# Add a colorbar\n",
    "fig.colorbar(cax)\n",
    "\n",
    "# Set the labels for the x and y axes and the title\n",
    "ax.set_xlabel('Time')\n",
    "ax.set_ylabel('Frequency')\n",
    "ax.set_title('Average Power')\n",
    "\n",
    "# Show the plot\n",
    "plt.show()\n",
    "\n",
    "# GROUPED PLOTS\n",
    "freqs = wavelets[0].freqs\n",
    "\n",
    "n_rows = len(bands)\n",
    "n_cols = 1\n",
    "\n",
    "# Create a figure with multiple subplots\n",
    "fig, axs = plt.subplots(n_rows, n_cols, figsize=(10, 20))\n",
    "\n",
    "for ax, (band, (fmin, fmax)) in zip(axs, bands.items()):\n",
    "    # Find the indices that correspond to this frequency band\n",
    "    band_indices = np.where((freqs >= fmin) & (freqs <= fmax))[0]\n",
    "\n",
    "    # Slice the power data to include only these frequencies\n",
    "    band_power = power[:, band_indices, :]\n",
    "\n",
    "    # Compute the average power across electrodes\n",
    "    avg_power = np.mean(band_power, axis=0)\n",
    "\n",
    "    # Create the heatmap\n",
    "    cax = ax.imshow(avg_power, aspect='auto', cmap='hot', origin='lower')\n",
    "\n",
    "    ax.set_xlim([None, 200])\n",
    "\n",
    "    # Add a colorbar\n",
    "    fig.colorbar(cax, ax=ax)\n",
    "\n",
    "    # Set the labels for the x and y axes and the title\n",
    "    ax.set_xlabel('Time')\n",
    "    ax.set_ylabel('Frequency')\n",
    "    ax.set_title(f'Average Power ({band} band)')\n",
    "\n",
    "# Show the plot\n",
    "plt.tight_layout()\n",
    "plt.show()"
   ]
  },
  {
   "cell_type": "markdown",
   "id": "28248c77",
   "metadata": {},
   "source": [
    "## Clustering\n"
   ]
  },
  {
   "cell_type": "markdown",
   "id": "5361125b",
   "metadata": {},
   "source": []
  },
  {
   "cell_type": "code",
   "execution_count": null,
   "id": "97b82c40",
   "metadata": {},
   "outputs": [],
   "source": []
  }
 ],
 "metadata": {
  "kernelspec": {
   "display_name": "Python 3 (ipykernel)",
   "language": "python",
   "name": "python3"
  },
  "language_info": {
   "codemirror_mode": {
    "name": "ipython",
    "version": 3
   },
   "file_extension": ".py",
   "mimetype": "text/x-python",
   "name": "python",
   "nbconvert_exporter": "python",
   "pygments_lexer": "ipython3",
   "version": "3.11.8"
  }
 },
 "nbformat": 4,
 "nbformat_minor": 5
}
