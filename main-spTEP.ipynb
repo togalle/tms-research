{
 "cells": [
  {
   "cell_type": "code",
   "execution_count": 6,
   "id": "fbd2728e",
   "metadata": {},
   "outputs": [
    {
     "name": "stdout",
     "output_type": "stream",
     "text": [
      "\n",
      "Note: you may need to restart the kernel to use updated packages.\n"
     ]
    }
   ],
   "source": [
    "%conda env export > environment.yaml\n",
    "# %conda env create -f environment.yaml"
   ]
  },
  {
   "cell_type": "code",
   "execution_count": 29,
   "id": "d89ee1f5-3b07-43a8-b81c-ead4167b7d5c",
   "metadata": {
    "editable": true,
    "slideshow": {
     "slide_type": ""
    },
    "tags": []
   },
   "outputs": [
    {
     "name": "stdout",
     "output_type": "stream",
     "text": [
      "Requirement already satisfied: mne in /home/tomasgalle/miniconda3/envs/tms/lib/python3.12/site-packages (1.6.0)\n",
      "Requirement already satisfied: scikit-learn in /home/tomasgalle/miniconda3/envs/tms/lib/python3.12/site-packages (1.4.1.post1)\n",
      "Requirement already satisfied: mne-icalabel in /home/tomasgalle/miniconda3/envs/tms/lib/python3.12/site-packages (0.6.0)\n",
      "Collecting torch\n",
      "  Downloading torch-2.2.1-cp312-cp312-manylinux1_x86_64.whl.metadata (26 kB)\n",
      "Requirement already satisfied: numpy>=1.21.2 in /home/tomasgalle/miniconda3/envs/tms/lib/python3.12/site-packages (from mne) (1.26.2)\n",
      "Requirement already satisfied: scipy>=1.7.1 in /home/tomasgalle/miniconda3/envs/tms/lib/python3.12/site-packages (from mne) (1.11.4)\n",
      "Requirement already satisfied: matplotlib>=3.5.0 in /home/tomasgalle/miniconda3/envs/tms/lib/python3.12/site-packages (from mne) (3.8.0)\n",
      "Requirement already satisfied: tqdm in /home/tomasgalle/miniconda3/envs/tms/lib/python3.12/site-packages (from mne) (4.66.1)\n",
      "Requirement already satisfied: pooch>=1.5 in /home/tomasgalle/miniconda3/envs/tms/lib/python3.12/site-packages (from mne) (1.8.0)\n",
      "Requirement already satisfied: decorator in /home/tomasgalle/miniconda3/envs/tms/lib/python3.12/site-packages (from mne) (5.1.1)\n",
      "Requirement already satisfied: packaging in /home/tomasgalle/miniconda3/envs/tms/lib/python3.12/site-packages (from mne) (23.1)\n",
      "Requirement already satisfied: jinja2 in /home/tomasgalle/miniconda3/envs/tms/lib/python3.12/site-packages (from mne) (3.1.2)\n",
      "Requirement already satisfied: lazy-loader>=0.3 in /home/tomasgalle/miniconda3/envs/tms/lib/python3.12/site-packages (from mne) (0.3)\n",
      "Requirement already satisfied: defusedxml in /home/tomasgalle/miniconda3/envs/tms/lib/python3.12/site-packages (from mne) (0.7.1)\n",
      "Requirement already satisfied: joblib>=1.2.0 in /home/tomasgalle/miniconda3/envs/tms/lib/python3.12/site-packages (from scikit-learn) (1.3.2)\n",
      "Requirement already satisfied: threadpoolctl>=2.0.0 in /home/tomasgalle/miniconda3/envs/tms/lib/python3.12/site-packages (from scikit-learn) (3.3.0)\n",
      "Requirement already satisfied: psutil in /home/tomasgalle/miniconda3/envs/tms/lib/python3.12/site-packages (from mne-icalabel) (5.9.6)\n",
      "Collecting filelock (from torch)\n",
      "  Downloading filelock-3.13.1-py3-none-any.whl.metadata (2.8 kB)\n",
      "Requirement already satisfied: typing-extensions>=4.8.0 in /home/tomasgalle/miniconda3/envs/tms/lib/python3.12/site-packages (from torch) (4.9.0)\n",
      "Collecting sympy (from torch)\n",
      "  Downloading sympy-1.12-py3-none-any.whl.metadata (12 kB)\n",
      "Collecting networkx (from torch)\n",
      "  Downloading networkx-3.2.1-py3-none-any.whl.metadata (5.2 kB)\n",
      "Collecting fsspec (from torch)\n",
      "  Downloading fsspec-2024.2.0-py3-none-any.whl.metadata (6.8 kB)\n",
      "Collecting nvidia-cuda-nvrtc-cu12==12.1.105 (from torch)\n",
      "  Downloading nvidia_cuda_nvrtc_cu12-12.1.105-py3-none-manylinux1_x86_64.whl.metadata (1.5 kB)\n",
      "Collecting nvidia-cuda-runtime-cu12==12.1.105 (from torch)\n",
      "  Downloading nvidia_cuda_runtime_cu12-12.1.105-py3-none-manylinux1_x86_64.whl.metadata (1.5 kB)\n",
      "Collecting nvidia-cuda-cupti-cu12==12.1.105 (from torch)\n",
      "  Downloading nvidia_cuda_cupti_cu12-12.1.105-py3-none-manylinux1_x86_64.whl.metadata (1.6 kB)\n",
      "Collecting nvidia-cudnn-cu12==8.9.2.26 (from torch)\n",
      "  Downloading nvidia_cudnn_cu12-8.9.2.26-py3-none-manylinux1_x86_64.whl.metadata (1.6 kB)\n",
      "Collecting nvidia-cublas-cu12==12.1.3.1 (from torch)\n",
      "  Downloading nvidia_cublas_cu12-12.1.3.1-py3-none-manylinux1_x86_64.whl.metadata (1.5 kB)\n",
      "Collecting nvidia-cufft-cu12==11.0.2.54 (from torch)\n",
      "  Downloading nvidia_cufft_cu12-11.0.2.54-py3-none-manylinux1_x86_64.whl.metadata (1.5 kB)\n",
      "Collecting nvidia-curand-cu12==10.3.2.106 (from torch)\n",
      "  Downloading nvidia_curand_cu12-10.3.2.106-py3-none-manylinux1_x86_64.whl.metadata (1.5 kB)\n",
      "Collecting nvidia-cusolver-cu12==11.4.5.107 (from torch)\n",
      "  Downloading nvidia_cusolver_cu12-11.4.5.107-py3-none-manylinux1_x86_64.whl.metadata (1.6 kB)\n",
      "Collecting nvidia-cusparse-cu12==12.1.0.106 (from torch)\n",
      "  Downloading nvidia_cusparse_cu12-12.1.0.106-py3-none-manylinux1_x86_64.whl.metadata (1.6 kB)\n",
      "Collecting nvidia-nccl-cu12==2.19.3 (from torch)\n",
      "  Downloading nvidia_nccl_cu12-2.19.3-py3-none-manylinux1_x86_64.whl.metadata (1.8 kB)\n",
      "Collecting nvidia-nvtx-cu12==12.1.105 (from torch)\n",
      "  Downloading nvidia_nvtx_cu12-12.1.105-py3-none-manylinux1_x86_64.whl.metadata (1.7 kB)\n",
      "Collecting nvidia-nvjitlink-cu12 (from nvidia-cusolver-cu12==11.4.5.107->torch)\n",
      "  Downloading nvidia_nvjitlink_cu12-12.4.99-py3-none-manylinux2014_x86_64.whl.metadata (1.5 kB)\n",
      "Requirement already satisfied: contourpy>=1.0.1 in /home/tomasgalle/miniconda3/envs/tms/lib/python3.12/site-packages (from matplotlib>=3.5.0->mne) (1.2.0)\n",
      "Requirement already satisfied: cycler>=0.10 in /home/tomasgalle/miniconda3/envs/tms/lib/python3.12/site-packages (from matplotlib>=3.5.0->mne) (0.11.0)\n",
      "Requirement already satisfied: fonttools>=4.22.0 in /home/tomasgalle/miniconda3/envs/tms/lib/python3.12/site-packages (from matplotlib>=3.5.0->mne) (4.25.0)\n",
      "Requirement already satisfied: kiwisolver>=1.0.1 in /home/tomasgalle/miniconda3/envs/tms/lib/python3.12/site-packages (from matplotlib>=3.5.0->mne) (1.4.4)\n",
      "Requirement already satisfied: pillow>=6.2.0 in /home/tomasgalle/miniconda3/envs/tms/lib/python3.12/site-packages (from matplotlib>=3.5.0->mne) (10.0.1)\n",
      "Requirement already satisfied: pyparsing>=2.3.1 in /home/tomasgalle/miniconda3/envs/tms/lib/python3.12/site-packages (from matplotlib>=3.5.0->mne) (3.0.9)\n",
      "Requirement already satisfied: python-dateutil>=2.7 in /home/tomasgalle/miniconda3/envs/tms/lib/python3.12/site-packages (from matplotlib>=3.5.0->mne) (2.8.2)\n",
      "Requirement already satisfied: platformdirs>=2.5.0 in /home/tomasgalle/miniconda3/envs/tms/lib/python3.12/site-packages (from pooch>=1.5->mne) (4.1.0)\n",
      "Requirement already satisfied: requests>=2.19.0 in /home/tomasgalle/miniconda3/envs/tms/lib/python3.12/site-packages (from pooch>=1.5->mne) (2.31.0)\n",
      "Requirement already satisfied: MarkupSafe>=2.0 in /home/tomasgalle/miniconda3/envs/tms/lib/python3.12/site-packages (from jinja2->mne) (2.1.3)\n",
      "Collecting mpmath>=0.19 (from sympy->torch)\n",
      "  Downloading mpmath-1.3.0-py3-none-any.whl.metadata (8.6 kB)\n",
      "Requirement already satisfied: six>=1.5 in /home/tomasgalle/miniconda3/envs/tms/lib/python3.12/site-packages (from python-dateutil>=2.7->matplotlib>=3.5.0->mne) (1.16.0)\n",
      "Requirement already satisfied: charset-normalizer<4,>=2 in /home/tomasgalle/miniconda3/envs/tms/lib/python3.12/site-packages (from requests>=2.19.0->pooch>=1.5->mne) (3.3.2)\n",
      "Requirement already satisfied: idna<4,>=2.5 in /home/tomasgalle/miniconda3/envs/tms/lib/python3.12/site-packages (from requests>=2.19.0->pooch>=1.5->mne) (3.6)\n",
      "Requirement already satisfied: urllib3<3,>=1.21.1 in /home/tomasgalle/miniconda3/envs/tms/lib/python3.12/site-packages (from requests>=2.19.0->pooch>=1.5->mne) (2.1.0)\n",
      "Requirement already satisfied: certifi>=2017.4.17 in /home/tomasgalle/miniconda3/envs/tms/lib/python3.12/site-packages (from requests>=2.19.0->pooch>=1.5->mne) (2023.11.17)\n",
      "Downloading torch-2.2.1-cp312-cp312-manylinux1_x86_64.whl (755.5 MB)\n",
      "\u001b[2K   \u001b[38;2;114;156;31m━━━━━━━━━━━━━━━━━━━━━━━━━━━━━━━━━━━━━━━━\u001b[0m \u001b[32m755.5/755.5 MB\u001b[0m \u001b[31m4.3 MB/s\u001b[0m eta \u001b[36m0:00:00\u001b[0mm eta \u001b[36m0:00:01\u001b[0m[36m0:00:03\u001b[0m\n",
      "\u001b[?25hDownloading nvidia_cublas_cu12-12.1.3.1-py3-none-manylinux1_x86_64.whl (410.6 MB)\n",
      "\u001b[2K   \u001b[38;2;114;156;31m━━━━━━━━━━━━━━━━━━━━━━━━━━━━━━━━━━━━━━━━\u001b[0m \u001b[32m410.6/410.6 MB\u001b[0m \u001b[31m4.5 MB/s\u001b[0m eta \u001b[36m0:00:00\u001b[0mm eta \u001b[36m0:00:01\u001b[0m[36m0:00:02\u001b[0m\n",
      "\u001b[?25hDownloading nvidia_cuda_cupti_cu12-12.1.105-py3-none-manylinux1_x86_64.whl (14.1 MB)\n",
      "\u001b[2K   \u001b[38;2;114;156;31m━━━━━━━━━━━━━━━━━━━━━━━━━━━━━━━━━━━━━━━━\u001b[0m \u001b[32m14.1/14.1 MB\u001b[0m \u001b[31m5.4 MB/s\u001b[0m eta \u001b[36m0:00:00\u001b[0mm eta \u001b[36m0:00:01\u001b[0m0:01\u001b[0m:01\u001b[0m\n",
      "\u001b[?25hDownloading nvidia_cuda_nvrtc_cu12-12.1.105-py3-none-manylinux1_x86_64.whl (23.7 MB)\n",
      "\u001b[2K   \u001b[38;2;114;156;31m━━━━━━━━━━━━━━━━━━━━━━━━━━━━━━━━━━━━━━━━\u001b[0m \u001b[32m23.7/23.7 MB\u001b[0m \u001b[31m4.8 MB/s\u001b[0m eta \u001b[36m0:00:00\u001b[0mm eta \u001b[36m0:00:01\u001b[0m[36m0:00:01\u001b[0m\n",
      "\u001b[?25hDownloading nvidia_cuda_runtime_cu12-12.1.105-py3-none-manylinux1_x86_64.whl (823 kB)\n",
      "\u001b[2K   \u001b[38;2;114;156;31m━━━━━━━━━━━━━━━━━━━━━━━━━━━━━━━━━━━━━━━━\u001b[0m \u001b[32m823.6/823.6 kB\u001b[0m \u001b[31m5.6 MB/s\u001b[0m eta \u001b[36m0:00:00\u001b[0mm eta \u001b[36m0:00:01\u001b[0m[36m0:00:01\u001b[0m\n",
      "\u001b[?25hDownloading nvidia_cudnn_cu12-8.9.2.26-py3-none-manylinux1_x86_64.whl (731.7 MB)\n",
      "\u001b[2K   \u001b[38;2;114;156;31m━━━━━━━━━━━━━━━━━━━━━━━━━━━━━━━━━━━━━━━━\u001b[0m \u001b[32m731.7/731.7 MB\u001b[0m \u001b[31m3.9 MB/s\u001b[0m eta \u001b[36m0:00:00\u001b[0mm eta \u001b[36m0:00:01\u001b[0m[36m0:00:04\u001b[0m\n",
      "\u001b[?25hDownloading nvidia_cufft_cu12-11.0.2.54-py3-none-manylinux1_x86_64.whl (121.6 MB)\n",
      "\u001b[2K   \u001b[38;2;114;156;31m━━━━━━━━━━━━━━━━━━━━━━━━━━━━━━━━━━━━━━━━\u001b[0m \u001b[32m121.6/121.6 MB\u001b[0m \u001b[31m1.3 MB/s\u001b[0m eta \u001b[36m0:00:00\u001b[0mm eta \u001b[36m0:00:01\u001b[0m[36m0:00:01\u001b[0m\n",
      "\u001b[?25hDownloading nvidia_curand_cu12-10.3.2.106-py3-none-manylinux1_x86_64.whl (56.5 MB)\n",
      "\u001b[2K   \u001b[38;2;114;156;31m━━━━━━━━━━━━━━━━━━━━━━━━━━━━━━━━━━━━━━━━\u001b[0m \u001b[32m56.5/56.5 MB\u001b[0m \u001b[31m2.3 MB/s\u001b[0m eta \u001b[36m0:00:00\u001b[0mm eta \u001b[36m0:00:01\u001b[0m[36m0:00:01\u001b[0m\n",
      "\u001b[?25hDownloading nvidia_cusolver_cu12-11.4.5.107-py3-none-manylinux1_x86_64.whl (124.2 MB)\n",
      "\u001b[2K   \u001b[38;2;114;156;31m━━━━━━━━━━━━━━━━━━━━━━━━━━━━━━━━━━━━━━━━\u001b[0m \u001b[32m124.2/124.2 MB\u001b[0m \u001b[31m1.2 MB/s\u001b[0m eta \u001b[36m0:00:00\u001b[0mm eta \u001b[36m0:00:01\u001b[0m[36m0:00:01\u001b[0m\n",
      "\u001b[?25hDownloading nvidia_cusparse_cu12-12.1.0.106-py3-none-manylinux1_x86_64.whl (196.0 MB)\n",
      "\u001b[2K   \u001b[38;2;114;156;31m━━━━━━━━━━━━━━━━━━━━━━━━━━━━━━━━━━━━━━━━\u001b[0m \u001b[32m196.0/196.0 MB\u001b[0m \u001b[31m5.1 MB/s\u001b[0m eta \u001b[36m0:00:00\u001b[0mm eta \u001b[36m0:00:01\u001b[0m[36m0:00:01\u001b[0m\n",
      "\u001b[?25hDownloading nvidia_nccl_cu12-2.19.3-py3-none-manylinux1_x86_64.whl (166.0 MB)\n",
      "\u001b[2K   \u001b[38;2;114;156;31m━━━━━━━━━━━━━━━━━━━━━━━━━━━━━━━━━━━━━━━━\u001b[0m \u001b[32m166.0/166.0 MB\u001b[0m \u001b[31m5.1 MB/s\u001b[0m eta \u001b[36m0:00:00\u001b[0mm eta \u001b[36m0:00:01\u001b[0m[36m0:00:01\u001b[0m\n",
      "\u001b[?25hDownloading nvidia_nvtx_cu12-12.1.105-py3-none-manylinux1_x86_64.whl (99 kB)\n",
      "\u001b[2K   \u001b[38;2;114;156;31m━━━━━━━━━━━━━━━━━━━━━━━━━━━━━━━━━━━━━━━━\u001b[0m \u001b[32m99.1/99.1 kB\u001b[0m \u001b[31m6.5 MB/s\u001b[0m eta \u001b[36m0:00:00\u001b[0m\n",
      "\u001b[?25hDownloading filelock-3.13.1-py3-none-any.whl (11 kB)\n",
      "Downloading fsspec-2024.2.0-py3-none-any.whl (170 kB)\n",
      "\u001b[2K   \u001b[38;2;114;156;31m━━━━━━━━━━━━━━━━━━━━━━━━━━━━━━━━━━━━━━━━\u001b[0m \u001b[32m170.9/170.9 kB\u001b[0m \u001b[31m6.3 MB/s\u001b[0m eta \u001b[36m0:00:00\u001b[0m\n",
      "\u001b[?25hDownloading networkx-3.2.1-py3-none-any.whl (1.6 MB)\n",
      "\u001b[2K   \u001b[38;2;114;156;31m━━━━━━━━━━━━━━━━━━━━━━━━━━━━━━━━━━━━━━━━\u001b[0m \u001b[32m1.6/1.6 MB\u001b[0m \u001b[31m5.8 MB/s\u001b[0m eta \u001b[36m0:00:00\u001b[0mm eta \u001b[36m0:00:01\u001b[0m0:01\u001b[0m:01\u001b[0m\n",
      "\u001b[?25hDownloading sympy-1.12-py3-none-any.whl (5.7 MB)\n",
      "\u001b[2K   \u001b[38;2;114;156;31m━━━━━━━━━━━━━━━━━━━━━━━━━━━━━━━━━━━━━━━━\u001b[0m \u001b[32m5.7/5.7 MB\u001b[0m \u001b[31m5.5 MB/s\u001b[0m eta \u001b[36m0:00:00\u001b[0m[31m5.6 MB/s\u001b[0m eta \u001b[36m0:00:01\u001b[0m\n",
      "\u001b[?25hDownloading mpmath-1.3.0-py3-none-any.whl (536 kB)\n",
      "\u001b[2K   \u001b[38;2;114;156;31m━━━━━━━━━━━━━━━━━━━━━━━━━━━━━━━━━━━━━━━━\u001b[0m \u001b[32m536.2/536.2 kB\u001b[0m \u001b[31m5.5 MB/s\u001b[0m eta \u001b[36m0:00:00\u001b[0m[31m6.9 MB/s\u001b[0m eta \u001b[36m0:00:01\u001b[0m\n",
      "\u001b[?25hDownloading nvidia_nvjitlink_cu12-12.4.99-py3-none-manylinux2014_x86_64.whl (21.1 MB)\n",
      "\u001b[2K   \u001b[38;2;114;156;31m━━━━━━━━━━━━━━━━━━━━━━━━━━━━━━━━━━━━━━━━\u001b[0m \u001b[32m21.1/21.1 MB\u001b[0m \u001b[31m7.6 MB/s\u001b[0m eta \u001b[36m0:00:00\u001b[0mm eta \u001b[36m0:00:01\u001b[0m0:01\u001b[0m:01\u001b[0m\n",
      "\u001b[?25hInstalling collected packages: mpmath, sympy, nvidia-nvtx-cu12, nvidia-nvjitlink-cu12, nvidia-nccl-cu12, nvidia-curand-cu12, nvidia-cufft-cu12, nvidia-cuda-runtime-cu12, nvidia-cuda-nvrtc-cu12, nvidia-cuda-cupti-cu12, nvidia-cublas-cu12, networkx, fsspec, filelock, nvidia-cusparse-cu12, nvidia-cudnn-cu12, nvidia-cusolver-cu12, torch\n",
      "Successfully installed filelock-3.13.1 fsspec-2024.2.0 mpmath-1.3.0 networkx-3.2.1 nvidia-cublas-cu12-12.1.3.1 nvidia-cuda-cupti-cu12-12.1.105 nvidia-cuda-nvrtc-cu12-12.1.105 nvidia-cuda-runtime-cu12-12.1.105 nvidia-cudnn-cu12-8.9.2.26 nvidia-cufft-cu12-11.0.2.54 nvidia-curand-cu12-10.3.2.106 nvidia-cusolver-cu12-11.4.5.107 nvidia-cusparse-cu12-12.1.0.106 nvidia-nccl-cu12-2.19.3 nvidia-nvjitlink-cu12-12.4.99 nvidia-nvtx-cu12-12.1.105 sympy-1.12 torch-2.2.1\n",
      "\n",
      "\u001b[1m[\u001b[0m\u001b[34;49mnotice\u001b[0m\u001b[1;39;49m]\u001b[0m\u001b[39;49m A new release of pip is available: \u001b[0m\u001b[31;49m23.3.2\u001b[0m\u001b[39;49m -> \u001b[0m\u001b[32;49m24.0\u001b[0m\n",
      "\u001b[1m[\u001b[0m\u001b[34;49mnotice\u001b[0m\u001b[1;39;49m]\u001b[0m\u001b[39;49m To update, run: \u001b[0m\u001b[32;49mpip install --upgrade pip\u001b[0m\n",
      "Note: you may need to restart the kernel to use updated packages.\n"
     ]
    }
   ],
   "source": [
    "%pip install mne scikit-learn mne-icalabel torch"
   ]
  },
  {
   "cell_type": "markdown",
   "id": "d8b88bdf-108a-45cb-b86c-1bcb1d4de1c7",
   "metadata": {},
   "source": [
    "# TMS pipeline\n",
    "This notebook contains the full pipeline of the individual scripts. The pipeline goes as follows:\n",
    "- EDA\n",
    "- Prepocessing\n",
    "- Model training\n",
    "- Validation"
   ]
  },
  {
   "cell_type": "code",
   "execution_count": 1,
   "id": "c0b4e64d-7dac-4694-b134-63db73db9aaa",
   "metadata": {},
   "outputs": [],
   "source": [
    "# Imports\n",
    "import os\n",
    "import pandas as pd\n",
    "from ipywidgets import *\n",
    "import numpy as np\n",
    "import mne\n",
    "from mne.preprocessing import ICA\n",
    "import torch\n",
    "from mne_icalabel import label_components\n",
    "\n",
    "import matplotlib.pyplot as plt\n",
    "from mne.preprocessing import ICA\n",
    "import scipy\n",
    "\n",
    "import preprocessing\n",
    "import utils\n",
    "\n",
    "# Specify graph rendering method\n",
    "# %matplotlib widget\n",
    "plt.switch_backend('TkAgg')"
   ]
  },
  {
   "cell_type": "markdown",
   "id": "906ac487-c0de-4c3e-a268-c7357e646ed3",
   "metadata": {},
   "source": [
    "## Data loading\n",
    "Currently, only one session from one patient gets used for testing purposes. File names are as follows: \"**TMS-EEG-H_02_S1b_X_Y.Z**\", where:\n",
    "- X = **rsEEG** (resting state EEG) or **spTEP** (single pulse TMS Evoked Potential)\n",
    "- Y = **pre** or **post** (before or after the rTMS procedure)\n",
    "- Z = **vhdr**, **vmrk**, **eeg** or **mat** (files for the BrainVision format, and a MATLAB file)"
   ]
  },
  {
   "cell_type": "code",
   "execution_count": 2,
   "id": "2eb79a09-a920-4184-971f-b33180a9cb64",
   "metadata": {},
   "outputs": [
    {
     "name": "stdout",
     "output_type": "stream",
     "text": [
      "Extracting parameters from ./dataset/TMS-EEG-H_02_S1b_spTEP_pre.vhdr...\n",
      "Setting channel info structure...\n",
      "Reading 0 ... 2696199  =      0.000 ...   539.240 secs...\n"
     ]
    },
    {
     "data": {
      "text/html": [
       "<details open>\n",
       "    <summary><strong>General</strong></summary>\n",
       "    <table class=\"table table-hover table-striped table-sm table-responsive small\">\n",
       "        <tr>\n",
       "            <th>Measurement date</th>\n",
       "            \n",
       "            <td>August 23, 2017  15:29:56 GMT</td>\n",
       "            \n",
       "        </tr>\n",
       "        <tr>\n",
       "            <th>Experimenter</th>\n",
       "            \n",
       "            <td>Unknown</td>\n",
       "            \n",
       "        </tr>\n",
       "        <tr>\n",
       "            <th>Participant</th>\n",
       "            \n",
       "            <td>Unknown</td>\n",
       "            \n",
       "        </tr>\n",
       "    </table>\n",
       "    </details>\n",
       "    <details open>\n",
       "        <summary><strong>Channels</strong></summary>\n",
       "        <table class=\"table table-hover table-striped table-sm table-responsive small\">\n",
       "            <tr>\n",
       "                <th>Digitized points</th>\n",
       "                \n",
       "                <td>67 points</td>\n",
       "                \n",
       "            </tr>\n",
       "            <tr>\n",
       "                <th>Good channels</th>\n",
       "                <td>62 EEG</td>\n",
       "            </tr>\n",
       "            <tr>\n",
       "                <th>Bad channels</th>\n",
       "                <td>None</td>\n",
       "            </tr>\n",
       "            <tr>\n",
       "                <th>EOG channels</th>\n",
       "                <td>Not available</td>\n",
       "            </tr>\n",
       "            <tr>\n",
       "                <th>ECG channels</th>\n",
       "                <td>Not available</td>\n",
       "            </tr>\n",
       "        </table>\n",
       "        </details>\n",
       "        <details open>\n",
       "            <summary><strong>Data</strong></summary>\n",
       "            <table class=\"table table-hover table-striped table-sm table-responsive small\">\n",
       "                \n",
       "                <tr>\n",
       "                    <th>Sampling frequency</th>\n",
       "                    <td>5000.00 Hz</td>\n",
       "                </tr>\n",
       "                \n",
       "                \n",
       "                <tr>\n",
       "                    <th>Highpass</th>\n",
       "                    <td>0.00 Hz</td>\n",
       "                </tr>\n",
       "                \n",
       "                \n",
       "                <tr>\n",
       "                    <th>Lowpass</th>\n",
       "                    <td>1000.00 Hz</td>\n",
       "                </tr>\n",
       "                \n",
       "                \n",
       "                \n",
       "                <tr>\n",
       "                    <th>Filenames</th>\n",
       "                    <td>TMS-EEG-H_02_S1b_spTEP_pre.eeg</td>\n",
       "                </tr>\n",
       "                \n",
       "                \n",
       "                <tr>\n",
       "                    <th>Duration</th>\n",
       "                    <td>00:08:60 (HH:MM:SS)</td>\n",
       "                </tr>\n",
       "                \n",
       "            </table>\n",
       "            </details>"
      ],
      "text/plain": [
       "<RawBrainVision | TMS-EEG-H_02_S1b_spTEP_pre.eeg, 62 x 2696200 (539.2 s), ~1.25 GB, data loaded>"
      ]
     },
     "execution_count": 2,
     "metadata": {},
     "output_type": "execute_result"
    }
   ],
   "source": [
    "# Currently for 1 patient, will be generalized into a pipeline for all patients\n",
    "\n",
    "DATASET_PATH = './dataset'\n",
    "FILENAME_TEMPLATE = \"TMS-EEG-H_02_S1b_{}_{}.vhdr\"\n",
    "\n",
    "# rsEEG_pre_raw = mne.io.read_raw_brainvision(os.path.join(DATASET_PATH, FILENAME_TEMPLATE.format(\"rsEEG\", \"pre\")), preload=True)\n",
    "spTEP_pre_raw = mne.io.read_raw_brainvision(os.path.join(DATASET_PATH, FILENAME_TEMPLATE.format(\"spTEP\", \"pre\")), preload=True)\n",
    "spTEP_pre_raw.drop_channels(['HEOG', 'VEOG'])\n",
    "\n",
    "#rsEEG_post_raw = mne.io.read_raw_brainvision(os.path.join(DATASET_PATH, FILENAME_TEMPLATE.format(\"rsEEG\", \"post\")), preload=True)\n",
    "# spTEP_post_raw = mne.io.read_raw_brainvision(os.path.join(DATASET_PATH, FILENAME_TEMPLATE.format(\"spTEP\", \"post\")), preload=True)\n",
    "# spTEP_post_raw.drop_channels(['HEOG', 'VEOG'])\n"
   ]
  },
  {
   "cell_type": "markdown",
   "id": "0500cabe-c48b-4374-8cc2-244735e1c8dd",
   "metadata": {},
   "source": [
    "## EDA\n",
    "### EEG Visualization\n",
    "Visualizing the EEG graphs and electrodes for all the files gives a first impression of the data, and possible immediate preprocessing changes that can take place.\n",
    "\n",
    "spTEP_pre: TP9 is bad channel\n",
    "\n",
    "Perfect overlap on the Fp2 and VEOG channels, likely because the Fp2 was also used as a reference for VEOG. This overlap does result in errors, so it's better to remove the VEOG channel and keep this reference in mind."
   ]
  },
  {
   "cell_type": "code",
   "execution_count": 4,
   "id": "7fbbdd34",
   "metadata": {},
   "outputs": [
    {
     "name": "stdout",
     "output_type": "stream",
     "text": [
      "Using matplotlib as 2D backend.\n"
     ]
    },
    {
     "data": {
      "text/plain": [
       "<MNEBrowseFigure size 1920x1274 with 4 Axes>"
      ]
     },
     "execution_count": 4,
     "metadata": {},
     "output_type": "execute_result"
    },
    {
     "name": "stdout",
     "output_type": "stream",
     "text": [
      "Channels marked as bad:\n",
      "none\n"
     ]
    }
   ],
   "source": [
    "spTEP_pre_raw.plot(start=60, duration=10, n_channels=20, scalings={'eeg': 50e-6})"
   ]
  },
  {
   "cell_type": "code",
   "execution_count": 5,
   "id": "0f9723c3",
   "metadata": {},
   "outputs": [
    {
     "name": "stdout",
     "output_type": "stream",
     "text": [
      "Used Annotations descriptions: ['New Segment/', 'Stimulus/S  1']\n",
      "Not setting metadata\n",
      "150 matching events found\n",
      "No baseline correction applied\n",
      "0 projection items activated\n",
      "Using data from preloaded Raw for 150 events and 1251 original time points ...\n",
      "0 bad epochs dropped\n"
     ]
    },
    {
     "name": "stdout",
     "output_type": "stream",
     "text": [
      "Dropped 0 epochs: \n",
      "The following epochs were marked as bad and are dropped:\n",
      "[]\n",
      "Channels marked as bad:\n",
      "none\n"
     ]
    }
   ],
   "source": [
    "utils.plot_single_response(spTEP_pre_raw, channel=\"Pz\")"
   ]
  },
  {
   "cell_type": "code",
   "execution_count": 27,
   "id": "1e5b6e29-18af-4f24-a0d1-b758100eb1df",
   "metadata": {},
   "outputs": [
    {
     "name": "stdout",
     "output_type": "stream",
     "text": [
      "<Info | 8 non-empty values\n",
      " bads: []\n",
      " ch_names: Iz, O2, Oz, O1, PO8, PO4, POz, PO3, PO7, P8, P6, P4, P2, Pz, P1, ...\n",
      " chs: 62 EEG\n",
      " custom_ref_applied: False\n",
      " dig: 67 items (3 Cardinal, 64 EEG)\n",
      " highpass: 0.0 Hz\n",
      " lowpass: 1000.0 Hz\n",
      " meas_date: 2017-08-23 15:29:56 UTC\n",
      " nchan: 62\n",
      " projs: []\n",
      " sfreq: 5000.0 Hz\n",
      ">\n"
     ]
    },
    {
     "data": {
      "text/plain": [
       "<Figure size 640x640 with 1 Axes>"
      ]
     },
     "execution_count": 27,
     "metadata": {},
     "output_type": "execute_result"
    }
   ],
   "source": [
    "print(spTEP_pre_raw.info)"
   ]
  },
  {
   "cell_type": "code",
   "execution_count": 6,
   "id": "6090e8f4-b23f-4397-b0a5-5231bc8c4fa1",
   "metadata": {},
   "outputs": [
    {
     "name": "stdout",
     "output_type": "stream",
     "text": [
      "Used Annotations descriptions: ['New Segment/', 'Stimulus/S  1']\n",
      "Not setting metadata\n",
      "151 matching events found\n",
      "No baseline correction applied\n",
      "0 projection items activated\n",
      "Using data from preloaded Raw for 151 events and 1251 original time points ...\n"
     ]
    },
    {
     "name": "stdout",
     "output_type": "stream",
     "text": [
      "1 bad epochs dropped\n"
     ]
    }
   ],
   "source": [
    "utils.plot_average_response(spTEP_pre_raw)"
   ]
  },
  {
   "cell_type": "code",
   "execution_count": 76,
   "id": "285220e4",
   "metadata": {},
   "outputs": [
    {
     "name": "stdout",
     "output_type": "stream",
     "text": [
      "Effective window size : 0.410 (s)\n"
     ]
    },
    {
     "data": {
      "text/plain": [
       "<Figure size 2249x427 with 10 Axes>"
      ]
     },
     "execution_count": 76,
     "metadata": {},
     "output_type": "execute_result"
    }
   ],
   "source": [
    "# Clearly indicates where the coils were placed\n",
    "spTEP_pre_raw.compute_psd().plot_topomap()"
   ]
  },
  {
   "cell_type": "markdown",
   "id": "d903f214-5d46-41a9-89f8-bb6cf3052a3a",
   "metadata": {},
   "source": [
    "## Preprocessing"
   ]
  },
  {
   "cell_type": "code",
   "execution_count": 3,
   "id": "1127c7a6",
   "metadata": {},
   "outputs": [
    {
     "name": "stdout",
     "output_type": "stream",
     "text": [
      "Setting channel interpolation method to {'eeg': 'spline'}.\n",
      "Interpolating bad channels.\n",
      "    Automatic origin fit: head of radius 95.0 mm\n",
      "Computing interpolation matrix from 61 sensor positions\n",
      "Interpolating 1 sensors\n",
      "Used Annotations descriptions: ['New Segment/', 'Stimulus/S  1']\n",
      "Not setting metadata\n",
      "151 matching events found\n",
      "No baseline correction applied\n",
      "0 projection items activated\n",
      "Using data from preloaded Raw for 151 events and 251 original time points ...\n",
      "139 bad epochs dropped\n",
      "Fitting ICA to data using 62 channels (please be patient, this may take a while)\n",
      "Selecting by number: 20 components\n"
     ]
    },
    {
     "name": "stderr",
     "output_type": "stream",
     "text": [
      "/home/tomasgalle/UGent/thesis/tms-research/preprocessing.py:70: RuntimeWarning: The data has not been high-pass filtered. For good ICA performance, it should be high-pass filtered (e.g., with a 1.0 Hz lower bound) before fitting ICA.\n",
      "  ica.fit(epochs)\n"
     ]
    },
    {
     "name": "stdout",
     "output_type": "stream",
     "text": [
      "Fitting ICA took 0.2s.\n",
      "Effective window size : 2.048 (s)\n",
      "Applying ICA to Raw instance\n",
      "    Transforming to ICA space (20 components)\n",
      "    Zeroing out 14 ICA components\n",
      "    Projecting back using 62 PCA components\n",
      "Filtering raw data in 1 contiguous segment\n",
      "Setting up band-pass filter from 1 - 90 Hz\n",
      "\n",
      "FIR filter parameters\n",
      "---------------------\n",
      "Designing a one-pass, zero-phase, non-causal bandpass filter:\n",
      "- Windowed time-domain design (firwin) method\n",
      "- Hamming window with 0.0194 passband ripple and 53 dB stopband attenuation\n",
      "- Lower passband edge: 1.00\n",
      "- Lower transition bandwidth: 1.00 Hz (-6 dB cutoff frequency: 0.50 Hz)\n",
      "- Upper passband edge: 90.00 Hz\n",
      "- Upper transition bandwidth: 22.50 Hz (-6 dB cutoff frequency: 101.25 Hz)\n",
      "- Filter length: 3301 samples (3.301 s)\n",
      "\n"
     ]
    },
    {
     "name": "stderr",
     "output_type": "stream",
     "text": [
      "[Parallel(n_jobs=1)]: Done  17 tasks      | elapsed:    0.2s\n"
     ]
    },
    {
     "name": "stdout",
     "output_type": "stream",
     "text": [
      "Filtering raw data in 1 contiguous segment\n",
      "Setting up band-stop filter from 49 - 51 Hz\n",
      "\n",
      "FIR filter parameters\n",
      "---------------------\n",
      "Designing a one-pass, zero-phase, non-causal bandstop filter:\n",
      "- Windowed time-domain design (firwin) method\n",
      "- Hamming window with 0.0194 passband ripple and 53 dB stopband attenuation\n",
      "- Lower passband edge: 49.38\n",
      "- Lower transition bandwidth: 0.50 Hz (-6 dB cutoff frequency: 49.12 Hz)\n",
      "- Upper passband edge: 50.62 Hz\n",
      "- Upper transition bandwidth: 0.50 Hz (-6 dB cutoff frequency: 50.88 Hz)\n",
      "- Filter length: 6601 samples (6.601 s)\n",
      "\n"
     ]
    },
    {
     "name": "stderr",
     "output_type": "stream",
     "text": [
      "[Parallel(n_jobs=1)]: Done  17 tasks      | elapsed:    0.2s\n"
     ]
    },
    {
     "name": "stdout",
     "output_type": "stream",
     "text": [
      "Not setting metadata\n",
      "151 matching events found\n",
      "No baseline correction applied\n",
      "0 projection items activated\n",
      "Using data from preloaded Raw for 151 events and 251 original time points ...\n",
      "139 bad epochs dropped\n",
      "Fitting ICA to data using 62 channels (please be patient, this may take a while)\n",
      "Selecting by number: 20 components\n",
      "Fitting ICA took 1.4s.\n",
      "Effective window size : 2.048 (s)\n"
     ]
    },
    {
     "name": "stderr",
     "output_type": "stream",
     "text": [
      "/home/tomasgalle/miniconda3/envs/tms/lib/python3.12/site-packages/sklearn/decomposition/_fastica.py:128: ConvergenceWarning: FastICA did not converge. Consider increasing tolerance or the maximum number of iterations.\n",
      "  warnings.warn(\n"
     ]
    },
    {
     "name": "stdout",
     "output_type": "stream",
     "text": [
      "Applying ICA to Raw instance\n",
      "    Transforming to ICA space (20 components)\n",
      "    Zeroing out 17 ICA components\n",
      "    Projecting back using 62 PCA components\n",
      "EEG channel type selected for re-referencing\n",
      "Applying a custom ('EEG',) reference.\n"
     ]
    }
   ],
   "source": [
    "# Preprocessing with interpolation\n",
    "spTEP_pre_raw.info['bads'] = ['TP9']\n",
    "spTEP_pre_raw.interpolate_bads(reset_bads=True)\n",
    "\n",
    "spTEP_pre = spTEP_pre_raw.copy()\n",
    "spTEP_pre = preprocessing.preprocess(spTEP_pre)\n",
    "\n",
    "# spTEP_post = spTEP_post_raw.copy()\n",
    "# spTEP_post = preprocessing.preprocess(spTEP_post)"
   ]
  },
  {
   "cell_type": "code",
   "execution_count": 44,
   "id": "e4f7dbf6",
   "metadata": {},
   "outputs": [
    {
     "name": "stdout",
     "output_type": "stream",
     "text": [
      "Used Annotations descriptions: ['New Segment/', 'Stimulus/S  1']\n",
      "Not setting metadata\n",
      "151 matching events found\n",
      "No baseline correction applied\n",
      "0 projection items activated\n",
      "Using data from preloaded Raw for 151 events and 1026 original time points ...\n",
      "1 bad epochs dropped\n"
     ]
    }
   ],
   "source": [
    "utils.plot_average_response(spTEP_pre_raw, tmin=-0.005, tmax=0.2)"
   ]
  },
  {
   "cell_type": "code",
   "execution_count": 4,
   "id": "6866ef97",
   "metadata": {},
   "outputs": [
    {
     "name": "stdout",
     "output_type": "stream",
     "text": [
      "Used Annotations descriptions: ['New Segment/', 'Stimulus/S  1']\n",
      "Not setting metadata\n",
      "151 matching events found\n",
      "No baseline correction applied\n",
      "0 projection items activated\n",
      "Using data from preloaded Raw for 151 events and 251 original time points ...\n",
      "1 bad epochs dropped\n"
     ]
    }
   ],
   "source": [
    "# Full pipeline\n",
    "utils.plot_average_response(spTEP_pre, tmin=-0.05, tmax=0.2)\n",
    "# utils.plot_average_response(spTEP_post, tmin=-0.05, tmax=0.2)"
   ]
  },
  {
   "cell_type": "code",
   "execution_count": 7,
   "id": "2d4bc2b0",
   "metadata": {},
   "outputs": [
    {
     "name": "stdout",
     "output_type": "stream",
     "text": [
      "Writing /home/tomasgalle/UGent/thesis/tms-research/cleaned/TMS-EEG-H_02_S1b_spTEP_pre.fif\n"
     ]
    },
    {
     "name": "stderr",
     "output_type": "stream",
     "text": [
      "/tmp/ipykernel_743678/616616116.py:3: RuntimeWarning: This filename (/home/tomasgalle/UGent/thesis/tms-research/cleaned/TMS-EEG-H_02_S1b_spTEP_pre.fif) does not conform to MNE naming conventions. All raw files should end with raw.fif, raw_sss.fif, raw_tsss.fif, _meg.fif, _eeg.fif, _ieeg.fif, raw.fif.gz, raw_sss.fif.gz, raw_tsss.fif.gz, _meg.fif.gz, _eeg.fif.gz or _ieeg.fif.gz\n",
      "  spTEP_pre.save(os.path.join(\".\", \"cleaned\", filename + \".fif\"), overwrite=True)\n"
     ]
    },
    {
     "name": "stdout",
     "output_type": "stream",
     "text": [
      "Closing /home/tomasgalle/UGent/thesis/tms-research/cleaned/TMS-EEG-H_02_S1b_spTEP_pre.fif\n",
      "[done]\n"
     ]
    }
   ],
   "source": [
    "FILENAME_TEMPLATE = \"TMS-EEG-H_{:02d}_S{}_{}_{}\"\n",
    "filename = FILENAME_TEMPLATE.format(2, \"1b\", \"spTEP\", \"pre\")\n",
    "spTEP_pre.save(os.path.join(\".\", \"cleaned\", filename + \".fif\"), overwrite=True)"
   ]
  },
  {
   "cell_type": "code",
   "execution_count": null,
   "id": "f2463168",
   "metadata": {},
   "outputs": [],
   "source": [
    "# Apply preprocessing to all available data and save for later use\n",
    "\n",
    "DATASET_PATH_FULL = '../neuroaa/datasets/raw/uz_gent'\n",
    "FILENAME_TEMPLATE = \"TMS-EEG-H_{:02d}_S{}_{}_{}\"\n",
    "\n",
    "for patient in range(19):\n",
    "    for session in range(4):\n",
    "        for type in [\"spTEP\", \"rsEEG\"]:\n",
    "            for trial in [\"pre\", \"post\"]:\n",
    "                filename = FILENAME_TEMPLATE.format(patient, session, type, trial)\n",
    "                eeg_raw = mne.io.read_raw_brainvision(os.path.join(DATASET_PATH, filename + \".vhdr\"), preload=True)\n",
    "                eeg_clean = eeg_raw.copy()\n",
    "                eeg_clean = preprocessing.preprocess(eeg_clean)\n",
    "                eeg_clean.save(os.path.join(\".\", \"cleaned_data\", filename + \".fif\"), overwrite=True)"
   ]
  },
  {
   "cell_type": "markdown",
   "id": "2b42e2e6",
   "metadata": {},
   "source": [
    "## Feature extraction\n",
    "Features are per pulse (spTEP) or epoch (rsEEG)"
   ]
  },
  {
   "cell_type": "markdown",
   "id": "aa1cd8ef",
   "metadata": {},
   "source": [
    "### Time domain"
   ]
  },
  {
   "cell_type": "code",
   "execution_count": 42,
   "id": "df7aa968",
   "metadata": {},
   "outputs": [
    {
     "name": "stdout",
     "output_type": "stream",
     "text": [
      "Used Annotations descriptions: ['New Segment/', 'Stimulus/S  1']\n",
      "Not setting metadata\n",
      "151 matching events found\n",
      "No baseline correction applied\n",
      "0 projection items activated\n",
      "Using data from preloaded Raw for 151 events and 251 original time points ...\n",
      "1 bad epochs dropped\n"
     ]
    },
    {
     "name": "stderr",
     "output_type": "stream",
     "text": [
      "/tmp/ipykernel_743678/796845807.py:7: FutureWarning: The current default of copy=False will change to copy=True in 1.7. Set the value of copy explicitly to avoid this warning\n",
      "  for epoch in epochs.get_data():\n"
     ]
    },
    {
     "data": {
      "text/plain": [
       "150"
      ]
     },
     "execution_count": 42,
     "metadata": {},
     "output_type": "execute_result"
    }
   ],
   "source": [
    "# Peak amplitude, peak latency, and area under curve\n",
    "events, event_dict = mne.events_from_annotations(spTEP_pre)\n",
    "epochs = mne.Epochs(spTEP_pre, events, event_id=event_dict, tmin=-0.05, tmax=0.2, baseline=None, preload=True)\n",
    "\n",
    "features = []\n",
    "\n",
    "for epoch in epochs.get_data():\n",
    "    peak_amplitude = np.max(epoch)\n",
    "    peak_latency = np.argmax(epoch) / epochs.info['sfreq']\n",
    "    area_under_curve = np.mean(np.trapz(epoch))\n",
    "\n",
    "    features.append([peak_amplitude, peak_latency, area_under_curve])\n",
    "\n",
    "len(features)"
   ]
  },
  {
   "cell_type": "code",
   "execution_count": 4,
   "id": "3edd0715",
   "metadata": {},
   "outputs": [
    {
     "name": "stdout",
     "output_type": "stream",
     "text": [
      "Used Annotations descriptions: ['New Segment/', 'Stimulus/S  1']\n",
      "Not setting metadata\n",
      "151 matching events found\n",
      "No baseline correction applied\n",
      "0 projection items activated\n",
      "Using data from preloaded Raw for 151 events and 251 original time points ...\n",
      "1 bad epochs dropped\n",
      "Used Annotations descriptions: ['New Segment/', 'Stimulus/S  1']\n",
      "Not setting metadata\n",
      "150 matching events found\n",
      "No baseline correction applied\n",
      "0 projection items activated\n",
      "Using data from preloaded Raw for 150 events and 251 original time points ...\n",
      "1 bad epochs dropped\n"
     ]
    },
    {
     "name": "stderr",
     "output_type": "stream",
     "text": [
      "/tmp/ipykernel_935001/2013544750.py:5: FutureWarning: The current default of copy=False will change to copy=True in 1.7. Set the value of copy explicitly to avoid this warning\n",
      "  data = epochs.get_data()\n",
      "/tmp/ipykernel_935001/2013544750.py:10: FutureWarning: The current default of copy=False will change to copy=True in 1.7. Set the value of copy explicitly to avoid this warning\n",
      "  data_post = epochs_post.get_data()\n"
     ]
    }
   ],
   "source": [
    "# Plot difference of features between pre and post\n",
    "\n",
    "events, event_dict = mne.events_from_annotations(spTEP_pre)\n",
    "epochs = mne.Epochs(spTEP_pre, events, event_id=event_dict, tmin=-0.05, tmax=0.2, baseline=None, preload=True)\n",
    "data = epochs.get_data()\n",
    "average_response = epochs.average().data\n",
    "\n",
    "events_post, event_dict_post = mne.events_from_annotations(spTEP_post)\n",
    "epochs_post = mne.Epochs(spTEP_post, events_post, event_id=event_dict_post, tmin=-0.05, tmax=0.2, baseline=None, preload=True)\n",
    "data_post = epochs_post.get_data()\n",
    "average_response_post = epochs_post.average().data\n",
    "\n",
    "average_max = average_response.max(axis=1)\n",
    "mean = data.mean(axis=(0, 2))\n",
    "std_dev = data.std(axis=(0, 2))\n",
    "skewness = scipy.stats.skew(data, axis=(0, 2))\n",
    "kurtosis = scipy.stats.kurtosis(data, axis=(0, 2))\n",
    "\n",
    "average_max_post = average_response_post.max(axis=1)\n",
    "mean_post = data_post.mean(axis=(0, 2))\n",
    "std_dev_post = data_post.std(axis=(0, 2))\n",
    "skewness_post = scipy.stats.skew(data_post, axis=(0, 2))\n",
    "kurtosis_post = scipy.stats.kurtosis(data_post, axis=(0, 2))\n",
    "\n",
    "fig, axs = plt.subplots(3, 2)\n",
    "axs[0, 0].scatter(mean, mean_post)\n",
    "axs[0, 0].set_xlabel('Mean (pre)')\n",
    "axs[0, 0].set_ylabel('Mean (post)')\n",
    "\n",
    "axs[0, 1].scatter(std_dev, std_dev_post)\n",
    "axs[0, 1].set_xlabel('Standard Deviation (pre)')\n",
    "axs[0, 1].set_ylabel('Standard Deviation (post)')\n",
    "\n",
    "axs[1, 0].scatter(skewness, skewness_post)\n",
    "axs[1, 0].set_xlabel('Skewness (pre)')\n",
    "axs[1, 0].set_ylabel('Skewness (post)')\n",
    "\n",
    "axs[1, 1].scatter(kurtosis, kurtosis_post)\n",
    "axs[1, 1].set_xlabel('Kurtosis (pre)')\n",
    "axs[1, 1].set_ylabel('Kurtosis (post)')\n",
    "\n",
    "axs[2, 0].scatter(average_max, average_max_post)\n",
    "axs[2, 0].set_xlabel('Max Average Response (pre)')\n",
    "axs[2, 0].set_ylabel('Max Average Response (post)')\n",
    "\n",
    "# Remove the unused subplot\n",
    "fig.delaxes(axs[2,1])\n",
    "\n",
    "plt.tight_layout()\n",
    "plt.show()"
   ]
  },
  {
   "cell_type": "markdown",
   "id": "67ce3f37",
   "metadata": {},
   "source": [
    "### Frequency domain"
   ]
  },
  {
   "cell_type": "code",
   "execution_count": 5,
   "id": "858c5a3d",
   "metadata": {},
   "outputs": [],
   "source": [
    "bands = {'delta': (0.5, 4),\n",
    "         'theta': (4, 8),\n",
    "         'alpha': (8, 12),\n",
    "         'beta': (12, 30),\n",
    "         'gamma': (30, 50)}"
   ]
  },
  {
   "cell_type": "code",
   "execution_count": null,
   "id": "cdb95fa6",
   "metadata": {},
   "outputs": [],
   "source": [
    "# Average power per frequency band\n",
    "psd = spTEP_pre.compute_psd(fmin=1.0, fmax=100.0)\n",
    "psd.plot(average=True)\n",
    "\n",
    "freqs = psd.freqs\n",
    "\n",
    "# Initialize a dictionary to hold the average power for each band\n",
    "avg_power = {}\n",
    "\n",
    "for band, (fmin, fmax) in bands.items():\n",
    "    band_indices = np.where((freqs >= fmin) & (freqs <= fmax))[0]\n",
    "    band_psd = psd.get_data()[:, band_indices]\n",
    "    avg_power[band] = np.mean(band_psd)\n",
    "\n",
    "print(avg_power)"
   ]
  },
  {
   "cell_type": "code",
   "execution_count": 40,
   "id": "a67a1b43",
   "metadata": {},
   "outputs": [
    {
     "name": "stdout",
     "output_type": "stream",
     "text": [
      "    Using multitaper spectrum estimation with 7 DPSS windows\n"
     ]
    },
    {
     "ename": "NameError",
     "evalue": "name 'epochs_post' is not defined",
     "output_type": "error",
     "traceback": [
      "\u001b[0;31m---------------------------------------------------------------------------\u001b[0m",
      "\u001b[0;31mNameError\u001b[0m                                 Traceback (most recent call last)",
      "Cell \u001b[0;32mIn[40], line 3\u001b[0m\n\u001b[1;32m      1\u001b[0m \u001b[38;5;66;03m# Difference in average power\u001b[39;00m\n\u001b[1;32m      2\u001b[0m psd_pre \u001b[38;5;241m=\u001b[39m epochs\u001b[38;5;241m.\u001b[39mcompute_psd(fmin\u001b[38;5;241m=\u001b[39m\u001b[38;5;241m1.0\u001b[39m, fmax\u001b[38;5;241m=\u001b[39m\u001b[38;5;241m100.0\u001b[39m)\n\u001b[0;32m----> 3\u001b[0m psd_post \u001b[38;5;241m=\u001b[39m \u001b[43mepochs_post\u001b[49m\u001b[38;5;241m.\u001b[39mcompute_psd(fmin\u001b[38;5;241m=\u001b[39m\u001b[38;5;241m1.0\u001b[39m, fmax\u001b[38;5;241m=\u001b[39m\u001b[38;5;241m100.0\u001b[39m)\n\u001b[1;32m      5\u001b[0m psd_pre_avg \u001b[38;5;241m=\u001b[39m psd_pre\u001b[38;5;241m.\u001b[39maverage()\n\u001b[1;32m      6\u001b[0m psd_post_avg \u001b[38;5;241m=\u001b[39m psd_post\u001b[38;5;241m.\u001b[39maverage()\n",
      "\u001b[0;31mNameError\u001b[0m: name 'epochs_post' is not defined"
     ]
    }
   ],
   "source": [
    "# Difference in average power\n",
    "psd_pre = epochs.compute_psd(fmin=1.0, fmax=100.0)\n",
    "psd_post = epochs_post.compute_psd(fmin=1.0, fmax=100.0)\n",
    "\n",
    "psd_pre_avg = psd_pre.average()\n",
    "psd_post_avg = psd_post.average()\n",
    "\n",
    "psd_diff = psd_post_avg.get_data() - psd_pre_avg.get_data()\n",
    "\n",
    "fig, ax = plt.subplots()\n",
    "\n",
    "# Plot the difference PSD\n",
    "ax.plot(psd_pre.freqs, psd_diff[0], label='Post - Pre')\n",
    "\n",
    "# Add a legend\n",
    "ax.legend()\n",
    "\n",
    "# Show the plot\n",
    "plt.show()"
   ]
  },
  {
   "cell_type": "markdown",
   "id": "3f18ea99",
   "metadata": {},
   "source": [
    "### Time-frequency domain"
   ]
  },
  {
   "cell_type": "code",
   "execution_count": 6,
   "id": "b44c4a7b",
   "metadata": {},
   "outputs": [
    {
     "name": "stdout",
     "output_type": "stream",
     "text": [
      "Used Annotations descriptions: ['New Segment/', 'Stimulus/S  1']\n",
      "Not setting metadata\n",
      "151 matching events found\n",
      "No baseline correction applied\n",
      "0 projection items activated\n",
      "Using data from preloaded Raw for 151 events and 4001 original time points ...\n",
      "0 bad epochs dropped\n"
     ]
    },
    {
     "name": "stderr",
     "output_type": "stream",
     "text": [
      "[Parallel(n_jobs=1)]: Done  17 tasks      | elapsed:  1.6min\n"
     ]
    }
   ],
   "source": [
    "# Compute the wavelet transform of the data\n",
    "events, event_dict = mne.events_from_annotations(spTEP_pre)\n",
    "epochs = mne.Epochs(spTEP_pre, events, event_id=event_dict, tmin=0, tmax=4, baseline=None, preload=True)\n",
    "\n",
    "frequencies = np.arange(1, 100)\n",
    "\n",
    "wavelets = mne.time_frequency.tfr_morlet(epochs, freqs=frequencies, n_cycles=2)"
   ]
  },
  {
   "cell_type": "code",
   "execution_count": 7,
   "id": "879cb88b",
   "metadata": {},
   "outputs": [],
   "source": [
    "# INDIVIDUAL PLOTS\n",
    "\n",
    "power = wavelets[0].data\n",
    "avg_power = np.mean(power, axis=0)\n",
    "\n",
    "fig, ax = plt.subplots()\n",
    "\n",
    "# Create the heatmap\n",
    "cax = ax.imshow(avg_power, aspect='auto', cmap='hot', origin='lower')\n",
    "\n",
    "# Add a colorbar\n",
    "fig.colorbar(cax)\n",
    "\n",
    "# Set the labels for the x and y axes and the title\n",
    "ax.set_xlabel('Time')\n",
    "ax.set_ylabel('Frequency')\n",
    "ax.set_title('Average Power')\n",
    "\n",
    "# Show the plot\n",
    "plt.show()\n",
    "\n",
    "# GROUPED PLOTS\n",
    "freqs = wavelets[0].freqs\n",
    "\n",
    "n_rows = len(bands)\n",
    "n_cols = 1\n",
    "\n",
    "# Create a figure with multiple subplots\n",
    "fig, axs = plt.subplots(n_rows, n_cols, figsize=(10, 20))\n",
    "\n",
    "for ax, (band, (fmin, fmax)) in zip(axs, bands.items()):\n",
    "    # Find the indices that correspond to this frequency band\n",
    "    band_indices = np.where((freqs >= fmin) & (freqs <= fmax))[0]\n",
    "\n",
    "    # Slice the power data to include only these frequencies\n",
    "    band_power = power[:, band_indices, :]\n",
    "\n",
    "    # Compute the average power across electrodes\n",
    "    avg_power = np.mean(band_power, axis=0)\n",
    "\n",
    "    # Create the heatmap\n",
    "    cax = ax.imshow(avg_power, aspect='auto', cmap='hot', origin='lower')\n",
    "\n",
    "    ax.set_xlim([None, 200])\n",
    "\n",
    "    # Add a colorbar\n",
    "    fig.colorbar(cax, ax=ax)\n",
    "\n",
    "    # Set the labels for the x and y axes and the title\n",
    "    ax.set_xlabel('Time')\n",
    "    ax.set_ylabel('Frequency')\n",
    "    ax.set_title(f'Average Power ({band} band)')\n",
    "\n",
    "# Show the plot\n",
    "plt.tight_layout()\n",
    "plt.show()"
   ]
  },
  {
   "cell_type": "markdown",
   "id": "28248c77",
   "metadata": {},
   "source": [
    "## Clustering"
   ]
  },
  {
   "cell_type": "markdown",
   "id": "5361125b",
   "metadata": {},
   "source": []
  },
  {
   "cell_type": "code",
   "execution_count": null,
   "id": "97b82c40",
   "metadata": {},
   "outputs": [],
   "source": []
  }
 ],
 "metadata": {
  "kernelspec": {
   "display_name": "Python 3 (ipykernel)",
   "language": "python",
   "name": "python3"
  },
  "language_info": {
   "codemirror_mode": {
    "name": "ipython",
    "version": 3
   },
   "file_extension": ".py",
   "mimetype": "text/x-python",
   "name": "python",
   "nbconvert_exporter": "python",
   "pygments_lexer": "ipython3",
   "version": "3.12.0"
  }
 },
 "nbformat": 4,
 "nbformat_minor": 5
}
