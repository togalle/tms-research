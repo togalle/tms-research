{
 "cells": [
  {
   "cell_type": "code",
   "execution_count": null,
   "id": "initial_id",
   "metadata": {
    "collapsed": true,
    "jupyter": {
     "outputs_hidden": true
    }
   },
   "outputs": [],
   "source": [
    "import os\n",
    "import pandas as pd\n",
    "import numpy as np\n",
    "import mne\n",
    "import matplotlib.pyplot as plt"
   ]
  },
  {
   "cell_type": "code",
   "execution_count": null,
   "id": "de56583fe791fcd1",
   "metadata": {
    "collapsed": false
   },
   "outputs": [],
   "source": [
    "DATASET_PATH = os.path.join(os.getcwd(), 'dataset')"
   ]
  },
  {
   "cell_type": "code",
   "execution_count": null,
   "id": "a424b5320cbd86c8",
   "metadata": {
    "collapsed": false
   },
   "outputs": [],
   "source": [
    "#os.listdir(DATASET_PATH)\n",
    "plt.switch_backend('TkAgg')\n",
    "spTEP_post = mne.io.read_raw_brainvision(os.path.join(DATASET_PATH, \"TMS-EEG-H_02_S1b_spTEP_post.vhdr\"), preload=True)\n",
    "spTEP_pre = mne.io.read_raw_brainvision(os.path.join(DATASET_PATH, \"TMS-EEG-H_02_S1b_spTEP_pre.vhdr\"), preload=True)"
   ]
  },
  {
   "cell_type": "markdown",
   "source": [
    "# EDA"
   ],
   "metadata": {
    "collapsed": false
   },
   "id": "12034ee64a3825ee"
  },
  {
   "cell_type": "code",
   "execution_count": null,
   "id": "789ab64a974808fd",
   "metadata": {
    "collapsed": false
   },
   "outputs": [],
   "source": [
    "spTEP_post.plot(start=10, duration=10, n_channels=30, scalings={'eeg': 75e-6})\n",
    "#spTEP_post.plot_sensors(show_names=True, sphere=\"eeglab\")\n",
    "\n",
    "# Channels Fp2 and VEOG overlap, so we drop VEOG\n",
    "spTEP_post = spTEP_post.drop_channels(['VEOG'])\n",
    "spTEP_post.plot_sensors(show_names=True, sphere=\"eeglab\")"
   ]
  },
  {
   "cell_type": "code",
   "execution_count": null,
   "id": "55cf6eeedb1e5ff3",
   "metadata": {
    "collapsed": false
   },
   "outputs": [],
   "source": [
    "spectrum_spTEP_pre = spTEP_pre.compute_psd()\n",
    "spectrum_spTEP_post = spTEP_post.compute_psd()"
   ]
  },
  {
   "cell_type": "code",
   "execution_count": null,
   "id": "44e6f2e2d30282e2",
   "metadata": {
    "collapsed": false
   },
   "outputs": [],
   "source": [
    "spectrum_spTEP_pre.plot()\n",
    "spectrum_spTEP_post.plot()"
   ]
  },
  {
   "cell_type": "code",
   "execution_count": null,
   "outputs": [],
   "source": [
    "spectrum_spTEP_pre.plot_topomap()\n",
    "spectrum_spTEP_post.plot_topomap()"
   ],
   "metadata": {
    "collapsed": false
   },
   "id": "7283db0d61bdb4f5"
  },
  {
   "cell_type": "code",
   "execution_count": null,
   "id": "8d9db224",
   "metadata": {},
   "outputs": [],
   "source": [
    "events_spTEP_pre, _ = mne.events_from_annotations(spTEP_pre)\n",
    "events_spTEP_post, _ = mne.events_from_annotations(spTEP_post)\n",
    "\n",
    "events_spTEP_pre\n",
    "# TODO: What are the annotation descriptions?\n",
    "# TODO: What are the different channel names for?"
   ]
  },
  {
   "cell_type": "code",
   "execution_count": null,
   "outputs": [],
   "source": [
    "event_id = {'Stimulus/S': 1}\n",
    "epochs = mne.Epochs(spTEP_post, events_spTEP_post, event_id, tmin=0, tmax=1, baseline=None, preload=True)\n",
    "epochs.get_data()"
   ],
   "metadata": {
    "collapsed": false
   },
   "id": "67bc766682c3e00e"
  },
  {
   "cell_type": "markdown",
   "source": [
    "# Basic model test"
   ],
   "metadata": {
    "collapsed": false
   },
   "id": "7b22e266d39ec9d1"
  },
  {
   "cell_type": "code",
   "execution_count": null,
   "outputs": [],
   "source": [],
   "metadata": {
    "collapsed": false
   },
   "id": "9404eac299e499a3"
  }
 ],
 "metadata": {
  "kernelspec": {
   "display_name": "Python 3 (ipykernel)",
   "language": "python",
   "name": "python3"
  },
  "language_info": {
   "codemirror_mode": {
    "name": "ipython",
    "version": 3
   },
   "file_extension": ".py",
   "mimetype": "text/x-python",
   "name": "python",
   "nbconvert_exporter": "python",
   "pygments_lexer": "ipython3",
   "version": "3.12.0"
  }
 },
 "nbformat": 4,
 "nbformat_minor": 5
}
