{
 "cells": [
  {
   "cell_type": "markdown",
   "id": "4a4d3b09",
   "metadata": {},
   "source": [
    "# Setup"
   ]
  },
  {
   "cell_type": "code",
   "execution_count": 1,
   "id": "initial_id",
   "metadata": {
    "collapsed": true,
    "jupyter": {
     "outputs_hidden": true
    }
   },
   "outputs": [],
   "source": [
    "import os\n",
    "import pandas as pd\n",
    "import numpy as np\n",
    "import mne\n",
    "import matplotlib.pyplot as plt\n",
    "\n",
    "# Keras\n",
    "#from keras.models import Sequential\n",
    "#from keras.layers import Dense, Flatten"
   ]
  },
  {
   "cell_type": "code",
   "execution_count": 2,
   "id": "de56583fe791fcd1",
   "metadata": {
    "collapsed": false
   },
   "outputs": [],
   "source": [
    "DATASET_PATH = os.path.join(os.getcwd(), 'dataset')"
   ]
  },
  {
   "cell_type": "code",
   "execution_count": 3,
   "id": "a424b5320cbd86c8",
   "metadata": {
    "collapsed": false
   },
   "outputs": [
    {
     "name": "stdout",
     "output_type": "stream",
     "text": [
      "Extracting parameters from /home/tomasgalle/UGent/thesis/tms-research/dataset/TMS-EEG-H_02_S1b_rsEEG_pre.vhdr...\n",
      "Setting channel info structure...\n",
      "Reading 0 ... 3984899  =      0.000 ...   796.980 secs...\n"
     ]
    }
   ],
   "source": [
    "plt.switch_backend('TkAgg')\n",
    "rsEEG_pre = mne.io.read_raw_brainvision(os.path.join(DATASET_PATH, \"TMS-EEG-H_02_S1b_rsEEG_pre.vhdr\"), preload=True)\n",
    "#rsEEG_post = mne.io.read_raw_brainvision(os.path.join(DATASET_PATH, \"TMS-EEG-H_02_S1b_rsEEG_post.vhdr\"), preload=True)\n",
    "#spTEP_pre = mne.io.read_raw_brainvision(os.path.join(DATASET_PATH, \"TMS-EEG-H_02_S1b_spTEP_pre.vhdr\"), preload=True)\n",
    "#spTEP_post = mne.io.read_raw_brainvision(os.path.join(DATASET_PATH, \"TMS-EEG-H_02_S1b_spTEP_post.vhdr\"), preload=True)"
   ]
  },
  {
   "cell_type": "code",
   "execution_count": 48,
   "id": "c68ca484",
   "metadata": {},
   "outputs": [
    {
     "data": {
      "text/html": [
       "<details open>\n",
       "    <summary><strong>General</strong></summary>\n",
       "    <table class=\"table table-hover table-striped table-sm table-responsive small\">\n",
       "        <tr>\n",
       "            <th>Measurement date</th>\n",
       "            \n",
       "            <td>August 23, 2017  15:56:21 GMT</td>\n",
       "            \n",
       "        </tr>\n",
       "        <tr>\n",
       "            <th>Experimenter</th>\n",
       "            \n",
       "            <td>Unknown</td>\n",
       "            \n",
       "        </tr>\n",
       "        <tr>\n",
       "            <th>Participant</th>\n",
       "            \n",
       "            <td>Unknown</td>\n",
       "            \n",
       "        </tr>\n",
       "    </table>\n",
       "    </details>\n",
       "    <details open>\n",
       "        <summary><strong>Channels</strong></summary>\n",
       "        <table class=\"table table-hover table-striped table-sm table-responsive small\">\n",
       "            <tr>\n",
       "                <th>Digitized points</th>\n",
       "                \n",
       "                <td>67 points</td>\n",
       "                \n",
       "            </tr>\n",
       "            <tr>\n",
       "                <th>Good channels</th>\n",
       "                <td>64 EEG</td>\n",
       "            </tr>\n",
       "            <tr>\n",
       "                <th>Bad channels</th>\n",
       "                <td>None</td>\n",
       "            </tr>\n",
       "            <tr>\n",
       "                <th>EOG channels</th>\n",
       "                <td>Not available</td>\n",
       "            </tr>\n",
       "            <tr>\n",
       "                <th>ECG channels</th>\n",
       "                <td>Not available</td>\n",
       "            </tr>\n",
       "        </table>\n",
       "        </details>\n",
       "        <details open>\n",
       "            <summary><strong>Data</strong></summary>\n",
       "            <table class=\"table table-hover table-striped table-sm table-responsive small\">\n",
       "                \n",
       "                <tr>\n",
       "                    <th>Sampling frequency</th>\n",
       "                    <td>5000.00 Hz</td>\n",
       "                </tr>\n",
       "                \n",
       "                \n",
       "                <tr>\n",
       "                    <th>Highpass</th>\n",
       "                    <td>0.00 Hz</td>\n",
       "                </tr>\n",
       "                \n",
       "                \n",
       "                <tr>\n",
       "                    <th>Lowpass</th>\n",
       "                    <td>1000.00 Hz</td>\n",
       "                </tr>\n",
       "                \n",
       "                \n",
       "                \n",
       "                \n",
       "            </table>\n",
       "            </details>"
      ],
      "text/plain": [
       "<Info | 8 non-empty values\n",
       " bads: []\n",
       " ch_names: Iz, O2, Oz, O1, PO8, PO4, POz, PO3, PO7, P8, P6, P4, P2, Pz, P1, ...\n",
       " chs: 64 EEG\n",
       " custom_ref_applied: False\n",
       " dig: 67 items (3 Cardinal, 64 EEG)\n",
       " highpass: 0.0 Hz\n",
       " lowpass: 1000.0 Hz\n",
       " meas_date: 2017-08-23 15:56:21 UTC\n",
       " nchan: 64\n",
       " projs: []\n",
       " sfreq: 5000.0 Hz\n",
       ">"
      ]
     },
     "execution_count": 48,
     "metadata": {},
     "output_type": "execute_result"
    }
   ],
   "source": [
    "rsEEG_pre.info # Same info for all files"
   ]
  },
  {
   "cell_type": "markdown",
   "id": "12034ee64a3825ee",
   "metadata": {
    "collapsed": false
   },
   "source": [
    "# EDA"
   ]
  },
  {
   "cell_type": "code",
   "execution_count": 67,
   "id": "24ab6b71",
   "metadata": {},
   "outputs": [
    {
     "name": "stdout",
     "output_type": "stream",
     "text": [
      "Distance between channels: 0.226 cm\n"
     ]
    }
   ],
   "source": [
    "info = rsEEG_pre.info\n",
    "ch1 = \"TP9\"\n",
    "ch2 = \"HEOG\"\n",
    "\n",
    "ch1_index = mne.pick_channels(info['ch_names'], include=[ch1])\n",
    "ch2_index = mne.pick_channels(info['ch_names'], include=[ch2])\n",
    "ch1_coords = info['chs'][ch1_index[0]]['loc'][:3]\n",
    "ch2_coords = info['chs'][ch2_index[0]]['loc'][:3]\n",
    "distance = np.linalg.norm(np.array(ch1_coords) - np.array(ch2_coords))\n",
    "\n",
    "print(f\"Distance between channels: {distance * 100:.3f} cm\")"
   ]
  },
  {
   "cell_type": "code",
   "execution_count": 56,
   "id": "789ab64a974808fd",
   "metadata": {
    "collapsed": false
   },
   "outputs": [
    {
     "name": "stdout",
     "output_type": "stream",
     "text": [
      "(BEFORE) Found 64 sensors\n",
      "(BEFORE) List of sensors: ['Iz', 'O2', 'Oz', 'O1', 'PO8', 'PO4', 'POz', 'PO3', 'PO7', 'P8', 'P6', 'P4', 'P2', 'Pz', 'P1', 'P3', 'P5', 'P7', 'TP10', 'TP8', 'CP6', 'CP4', 'CP2', 'CPz', 'CP1', 'CP3', 'CP5', 'TP7', 'TP9', 'T8', 'C6', 'C4', 'C2', 'Cz', 'C1', 'C3', 'C5', 'T7', 'FT8', 'FC6', 'FC4', 'FC2', 'FCz', 'FC1', 'FC3', 'FC5', 'FT7', 'F8', 'F6', 'F4', 'F2', 'Fz', 'F1', 'F3', 'F5', 'F7', 'AF4', 'AFz', 'AF3', 'Fp2', 'Fpz', 'Fp1', 'VEOG', 'HEOG']\n",
      "(AFTER) Found 63 sensors\n",
      "(AFTER) List of sensors: ['Iz', 'O2', 'Oz', 'O1', 'PO8', 'PO4', 'POz', 'PO3', 'PO7', 'P8', 'P6', 'P4', 'P2', 'Pz', 'P1', 'P3', 'P5', 'P7', 'TP10', 'TP8', 'CP6', 'CP4', 'CP2', 'CPz', 'CP1', 'CP3', 'CP5', 'TP7', 'TP9', 'T8', 'C6', 'C4', 'C2', 'Cz', 'C1', 'C3', 'C5', 'T7', 'FT8', 'FC6', 'FC4', 'FC2', 'FCz', 'FC1', 'FC3', 'FC5', 'FT7', 'F8', 'F6', 'F4', 'F2', 'Fz', 'F1', 'F3', 'F5', 'F7', 'AF4', 'AFz', 'AF3', 'Fp2', 'Fpz', 'Fp1', 'HEOG']\n"
     ]
    }
   ],
   "source": [
    "# Sensor analysis\n",
    "print(f\"(BEFORE) Found {len(rsEEG_pre.ch_names)} sensors\")\n",
    "print(\"(BEFORE) List of sensors:\", rsEEG_pre.ch_names)\n",
    "\n",
    "rsEEG_pre.plot_sensors(show_names=True, kind=\"3d\")\n",
    "# Channels Fp2 and VEOG overlap and cause issues later on, so we drop VEOG\n",
    "if(\"VEOG\" in rsEEG_pre.ch_names):\n",
    "   rsEEG_pre = rsEEG_pre.drop_channels([\"VEOG\", \"VEOG\"])\n",
    "rsEEG_pre.plot_sensors(show_names=True, kind=\"3d\")\n",
    "\n",
    "print(f\"(AFTER) Found {len(rsEEG_pre.ch_names)} sensors\")\n",
    "print(\"(AFTER) List of sensors:\", rsEEG_pre.ch_names)"
   ]
  },
  {
   "cell_type": "code",
   "execution_count": 4,
   "id": "a890d37d",
   "metadata": {},
   "outputs": [
    {
     "name": "stdout",
     "output_type": "stream",
     "text": [
      "Using matplotlib as 2D backend.\n"
     ]
    },
    {
     "data": {
      "text/plain": [
       "<MNEBrowseFigure size 1920x1136 with 4 Axes>"
      ]
     },
     "execution_count": 4,
     "metadata": {},
     "output_type": "execute_result"
    },
    {
     "name": "stdout",
     "output_type": "stream",
     "text": [
      "Channels marked as bad:\n",
      "none\n"
     ]
    }
   ],
   "source": [
    "# EEG analysis\n",
    "rsEEG_pre.plot(duration=10, n_channels=20, scalings={'eeg': 75e-6})\n",
    "\n",
    "# Mark visually identified channels as bad\n",
    "# rsEEG_pre.info['bads'] = ['MEG 2443']\n",
    "\n",
    "# spectrum_rsEEG_pre = rsEEG_pre.compute_psd()\n",
    "# spectrum_rsEEG_pre.plot()\n",
    "# spectrum_rsEEG_pre.plot_topomap()"
   ]
  },
  {
   "cell_type": "code",
   "execution_count": 46,
   "id": "8d9db224",
   "metadata": {},
   "outputs": [],
   "source": [
    "# spTEP even analysis\n",
    "#events_spTEP_pre, _ = mne.events_from_annotations(spTEP_pre)\n",
    "#events_spTEP_post, _ = mne.events_from_annotations(spTEP_post)\n",
    "\n",
    "# df = pd.DataFrame(events_spTEP_pre, columns=['time', 'duration', 'event type'])\n",
    "# df = df.drop(df.index[0])\n",
    "# df = df.drop(columns=['duration', 'event type'])\n",
    "\n",
    "# events_spTEP_pre\n",
    "# TODO: What do the values mean?"
   ]
  },
  {
   "cell_type": "code",
   "execution_count": 45,
   "id": "67bc766682c3e00e",
   "metadata": {
    "collapsed": false
   },
   "outputs": [],
   "source": [
    "# epochs_spTEP_pre = mne.Epochs(spTEP_pre, events_spTEP_pre, 1, tmin=0, tmax=1, baseline=None, preload=True)\n",
    "# #print(epochs.get_data())\n",
    "# #print(\"Shape of the 3D array (trials, channels, time points):\", epochs.get_data().shape)\n",
    "\n",
    "# p180_idx = epochs_spTEP_pre.time_as_index(0.18)\n",
    "# p180_data = epochs_spTEP_pre.get_data()[:, :, p180_idx]\n",
    "# # average_value_at_180ms = data_at_180ms.mean(axis=0)\n",
    "# # positive_matrix = average_value_at_180ms > 0\n",
    "\n",
    "# print(np.mean(p180_data))"
   ]
  },
  {
   "cell_type": "markdown",
   "id": "89d2d533",
   "metadata": {},
   "source": [
    "# EEG preprocessing\n",
    "EEG preprocessing is potentially not needed for higher performance, as shown in [this paper](https://iopscience.iop.org/article/10.1088/1741-2552/ab0ab5/pdf), but can still be useful."
   ]
  },
  {
   "cell_type": "code",
   "execution_count": null,
   "id": "b5aadb12",
   "metadata": {},
   "outputs": [],
   "source": []
  },
  {
   "cell_type": "markdown",
   "id": "dcceb37c",
   "metadata": {},
   "source": [
    "# Dataset augmentation\n",
    "Because the dataset is really small, it's highly necessary to do some data augmentation to grow the dataset to be able to train the models on."
   ]
  },
  {
   "cell_type": "code",
   "execution_count": null,
   "id": "61886c4b",
   "metadata": {},
   "outputs": [],
   "source": []
  },
  {
   "cell_type": "markdown",
   "id": "7b22e266d39ec9d1",
   "metadata": {
    "collapsed": false
   },
   "source": [
    "# Basic model test\n",
    "This model trains on false data (every pulse), but currently it's here to test how to train a model on EEG data in general."
   ]
  },
  {
   "cell_type": "code",
   "execution_count": null,
   "id": "9404eac299e499a3",
   "metadata": {
    "collapsed": false
   },
   "outputs": [],
   "source": [
    "# Prepare data and labels\n",
    "X = epochs.get_data()  # EEG data\n",
    "y = (events[:, 2] == 1).astype(int)  # Binary labels\n",
    "\n",
    "# Split the data into training and testing sets\n",
    "X_train, X_test, y_train, y_test = train_test_split(X, y, test_size=0.2, random_state=42)\n",
    "\n",
    "# Standardize the data\n",
    "scaler = StandardScaler()\n",
    "X_train = scaler.fit_transform(X_train.reshape(X_train.shape[0], -1)).reshape(X_train.shape)\n",
    "X_test = scaler.transform(X_test.reshape(X_test.shape[0], -1)).reshape(X_test.shape)\n",
    "\n",
    "# Define the Keras model\n",
    "model = Sequential()\n",
    "model.add(Flatten(input_shape=(X_train.shape[1], X_train.shape[2])))  # Flatten the input\n",
    "model.add(Dense(64, activation='relu'))\n",
    "model.add(Dense(1, activation='sigmoid'))\n",
    "\n",
    "# Compile the model\n",
    "model.compile(optimizer='adam', loss='binary_crossentropy', metrics=['accuracy'])\n",
    "\n",
    "# Train the model\n",
    "model.fit(X_train, y_train, epochs=5, batch_size=32, validation_data=(X_test, y_test))"
   ]
  }
 ],
 "metadata": {
  "kernelspec": {
   "display_name": "Python 3 (ipykernel)",
   "language": "python",
   "name": "python3"
  },
  "language_info": {
   "codemirror_mode": {
    "name": "ipython",
    "version": 3
   },
   "file_extension": ".py",
   "mimetype": "text/x-python",
   "name": "python",
   "nbconvert_exporter": "python",
   "pygments_lexer": "ipython3",
   "version": "3.12.0"
  }
 },
 "nbformat": 4,
 "nbformat_minor": 5
}
