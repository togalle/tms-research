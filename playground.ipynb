{
 "cells": [
  {
   "cell_type": "code",
   "execution_count": 1,
   "id": "initial_id",
   "metadata": {
    "ExecuteTime": {
     "end_time": "2023-12-13T15:33:38.299105823Z",
     "start_time": "2023-12-13T15:33:37.631291424Z"
    },
    "collapsed": true,
    "jupyter": {
     "outputs_hidden": true
    }
   },
   "outputs": [],
   "source": [
    "import os\n",
    "import pandas as pd\n",
    "import numpy as np\n",
    "import mne\n",
    "import matplotlib.pyplot as plt"
   ]
  },
  {
   "cell_type": "code",
   "execution_count": 2,
   "id": "de56583fe791fcd1",
   "metadata": {
    "ExecuteTime": {
     "end_time": "2023-12-13T15:33:39.044638211Z",
     "start_time": "2023-12-13T15:33:39.031165359Z"
    },
    "collapsed": false
   },
   "outputs": [],
   "source": [
    "DATASET_PATH = os.path.join(os.getcwd(), 'dataset')"
   ]
  },
  {
   "cell_type": "code",
   "execution_count": 3,
   "id": "a424b5320cbd86c8",
   "metadata": {
    "ExecuteTime": {
     "end_time": "2023-12-13T15:48:28.522057822Z",
     "start_time": "2023-12-13T15:48:21.420417259Z"
    },
    "collapsed": false
   },
   "outputs": [
    {
     "name": "stdout",
     "output_type": "stream",
     "text": [
      "Extracting parameters from /home/tomasgalle/UGent/thesis/tms-research/dataset/TMS-EEG-H_02_S1b_spTEP_post.vhdr...\n",
      "Setting channel info structure...\n",
      "Reading 0 ... 2808099  =      0.000 ...   561.620 secs...\n",
      "Extracting parameters from /home/tomasgalle/UGent/thesis/tms-research/dataset/TMS-EEG-H_02_S1b_spTEP_pre.vhdr...\n",
      "Setting channel info structure...\n",
      "Reading 0 ... 2696199  =      0.000 ...   539.240 secs...\n"
     ]
    }
   ],
   "source": [
    "#os.listdir(DATASET_PATH)\n",
    "plt.switch_backend('TkAgg')\n",
    "spTEP_post = mne.io.read_raw_brainvision(os.path.join(DATASET_PATH, \"TMS-EEG-H_02_S1b_spTEP_post.vhdr\"), preload=True)\n",
    "spTEP_pre = mne.io.read_raw_brainvision(os.path.join(DATASET_PATH, \"TMS-EEG-H_02_S1b_spTEP_pre.vhdr\"), preload=True)\n",
    "#post_eeg"
   ]
  },
  {
   "cell_type": "code",
   "execution_count": 5,
   "id": "789ab64a974808fd",
   "metadata": {
    "ExecuteTime": {
     "end_time": "2023-12-13T16:06:42.540561488Z",
     "start_time": "2023-12-13T16:06:39.400604126Z"
    },
    "collapsed": false
   },
   "outputs": [
    {
     "data": {
      "text/plain": [
       "<Figure size 640x640 with 1 Axes>"
      ]
     },
     "execution_count": 5,
     "metadata": {},
     "output_type": "execute_result"
    },
    {
     "name": "stdout",
     "output_type": "stream",
     "text": [
      "Channels marked as bad:\n",
      "none\n"
     ]
    }
   ],
   "source": [
    "spTEP_post.plot(start=10, duration=10, n_channels=30, scalings={'eeg': 75e-6})\n",
    "spTEP_post.plot_sensors(sphere=\"eeglab\")"
   ]
  },
  {
   "cell_type": "code",
   "execution_count": 8,
   "id": "55cf6eeedb1e5ff3",
   "metadata": {
    "ExecuteTime": {
     "end_time": "2023-12-13T15:57:56.956404192Z",
     "start_time": "2023-12-13T15:57:56.670407972Z"
    },
    "collapsed": false
   },
   "outputs": [
    {
     "name": "stdout",
     "output_type": "stream",
     "text": [
      "Effective window size : 0.410 (s)\n"
     ]
    },
    {
     "data": {
      "text/plain": [
       "<MNELineFigure size 1000x350 with 2 Axes>"
      ]
     },
     "execution_count": 8,
     "metadata": {},
     "output_type": "execute_result"
    }
   ],
   "source": [
    "spectrum_spTEP_post = spTEP_post.compute_psd()\n",
    "spectrum_spTEP_post.plot()"
   ]
  },
  {
   "cell_type": "code",
   "execution_count": 9,
   "id": "44e6f2e2d30282e2",
   "metadata": {
    "collapsed": false
   },
   "outputs": [
    {
     "name": "stdout",
     "output_type": "stream",
     "text": [
      "Effective window size : 0.410 (s)\n"
     ]
    },
    {
     "data": {
      "text/plain": [
       "<MNELineFigure size 1000x350 with 2 Axes>"
      ]
     },
     "execution_count": 9,
     "metadata": {},
     "output_type": "execute_result"
    }
   ],
   "source": [
    "spectrum_spTEP_pre = spTEP_pre.compute_psd()\n",
    "spectrum_spTEP_pre.plot()"
   ]
  },
  {
   "cell_type": "code",
   "execution_count": null,
   "id": "8d9db224",
   "metadata": {},
   "outputs": [],
   "source": []
  }
 ],
 "metadata": {
  "kernelspec": {
   "display_name": "Python 3 (ipykernel)",
   "language": "python",
   "name": "python3"
  },
  "language_info": {
   "codemirror_mode": {
    "name": "ipython",
    "version": 3
   },
   "file_extension": ".py",
   "mimetype": "text/x-python",
   "name": "python",
   "nbconvert_exporter": "python",
   "pygments_lexer": "ipython3",
   "version": "3.12.0"
  }
 },
 "nbformat": 4,
 "nbformat_minor": 5
}
