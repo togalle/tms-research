{
 "cells": [
  {
   "cell_type": "code",
   "execution_count": null,
   "metadata": {},
   "outputs": [],
   "source": [
    "%pip install mne-icalabel"
   ]
  },
  {
   "cell_type": "code",
   "execution_count": 1,
   "metadata": {},
   "outputs": [],
   "source": [
    "# Imports\n",
    "import os\n",
    "from ipywidgets import *\n",
    "import numpy as np\n",
    "import mne\n",
    "from mne.preprocessing import ICA\n",
    "from mne_icalabel import label_components\n",
    "import matplotlib.pyplot as plt\n",
    "from scipy.interpolate import interp1d\n",
    "\n",
    "import utils\n",
    "\n",
    "# Specify graph rendering method\n",
    "# %matplotlib widget\n",
    "plt.switch_backend(\"TkAgg\")"
   ]
  },
  {
   "cell_type": "code",
   "execution_count": 2,
   "metadata": {},
   "outputs": [
    {
     "name": "stdout",
     "output_type": "stream",
     "text": [
      "Extracting parameters from ./dataset/TMS-EEG-H_02_S1b_spTEP_pre.vhdr...\n",
      "Setting channel info structure...\n",
      "Reading 0 ... 2696199  =      0.000 ...   539.240 secs...\n",
      "Used Annotations descriptions: ['New Segment/', 'Stimulus/S  1']\n",
      "Extracting parameters from ./dataset/TMS-EEG-H_02_S1b_rsEEG_pre.vhdr...\n",
      "Setting channel info structure...\n",
      "Reading 0 ... 3984899  =      0.000 ...   796.980 secs...\n"
     ]
    }
   ],
   "source": [
    "DATASET_PATH = \"./dataset\"\n",
    "FILENAME_TEMPLATE = \"TMS-EEG-H_02_S1b_{}_{}.vhdr\"\n",
    "\n",
    "spTEP_pre_raw = mne.io.read_raw_brainvision(\n",
    "    os.path.join(DATASET_PATH, FILENAME_TEMPLATE.format(\"spTEP\", \"pre\")), preload=True\n",
    ")\n",
    "sampling_rate = spTEP_pre_raw.info[\"sfreq\"]\n",
    "events, event_dict = mne.events_from_annotations(spTEP_pre_raw)\n",
    "tms_indices = [event[0] for event in events if event[2] == 1]\n",
    "\n",
    "rsEEG_pre_raw = mne.io.read_raw_brainvision(\n",
    "    os.path.join(DATASET_PATH, FILENAME_TEMPLATE.format(\"rsEEG\", \"pre\")), preload=True\n",
    ")"
   ]
  },
  {
   "cell_type": "code",
   "execution_count": 3,
   "metadata": {},
   "outputs": [],
   "source": [
    "# Plotting utilities\n",
    "def plot_single_response(eeg_data, channel=\"Pz\", tmin=-0.005, tmax=0.01):\n",
    "    events, event_dict = mne.events_from_annotations(eeg_data)\n",
    "    event_id = event_dict[\"Stimulus/S  1\"]\n",
    "    epochs = mne.Epochs(\n",
    "        eeg_data,\n",
    "        events,\n",
    "        event_id=event_id,\n",
    "        tmin=tmin,\n",
    "        tmax=tmax,\n",
    "        baseline=None,\n",
    "        preload=True,\n",
    "        picks=channel,\n",
    "    )\n",
    "\n",
    "    epochs.plot(picks=channel, n_epochs=1, show=True, scalings={\"eeg\": 50e-4})\n",
    "\n",
    "\n",
    "def plot_average_epoch(epochs, start=-0.05, end=0.25):\n",
    "    data = epochs.get_data()\n",
    "    mean_responses = np.mean(data, axis=0)\n",
    "    time_points = np.linspace(-1, 1, data.shape[2])\n",
    "    selected_indices = np.where((time_points >= start) & (time_points <= end))\n",
    "    for i, mean_response in enumerate(mean_responses):\n",
    "        selected_data = mean_response[selected_indices]\n",
    "        selected_time_points = time_points[selected_indices]\n",
    "        plt.plot(selected_time_points, selected_data, label=f\"Channel {i+1}\")\n",
    "    plt.xlabel(\"Time points\")\n",
    "    plt.ylabel(\"Mean response\")\n",
    "    plt.show()\n",
    "\n",
    "\n",
    "def plot_response(eeg):\n",
    "    utils.plot_average_response(eeg, tmin=-0.05, tmax=0.25)  # Check full response\n",
    "    utils.plot_single_response(\n",
    "        eeg, channel=\"Pz\", tmin=-0.05, tmax=0.05\n",
    "    )  # Check for TMS pulse"
   ]
  },
  {
   "cell_type": "markdown",
   "metadata": {},
   "source": [
    "# Cleaning - spTEP\n",
    "\n",
    "The paper of Bertazzoli et al. (2021) compares 4 pipelines: ARTIST, TMSEEG, TESA and SOUND-SSP-SIR, all of which work decently well in varying degrees. There are common steps, but TESA will be the one that will be most closely followed. The current steps are as follows:\n",
    "\n",
    "1. Remove EOG\n",
    "2. Remove TMS pulse\n",
    "3. Downsample\n",
    "4. **ICA - 1**\n",
    "5. Bandpass - Notch filters\n",
    "6. **ICA - 2**\n",
    "7. Rereference\n",
    "\n",
    "Currently, there is no demeaning or bad channel rejection present as in TESA. Demeaning is done before the TMS-pulse interpolation, and baseline correction should be done as last step after rereferencing.\n"
   ]
  },
  {
   "cell_type": "code",
   "execution_count": 4,
   "metadata": {},
   "outputs": [
    {
     "name": "stdout",
     "output_type": "stream",
     "text": [
      "Used Annotations descriptions: ['New Segment/', 'Stimulus/S  1']\n",
      "Not setting metadata\n",
      "151 matching events found\n",
      "No baseline correction applied\n",
      "0 projection items activated\n",
      "Using data from preloaded Raw for 151 events and 1501 original time points ...\n",
      "1 bad epochs dropped\n",
      "Used Annotations descriptions: ['New Segment/', 'Stimulus/S  1']\n",
      "Not setting metadata\n",
      "150 matching events found\n",
      "No baseline correction applied\n",
      "0 projection items activated\n",
      "Using data from preloaded Raw for 150 events and 501 original time points ...\n",
      "0 bad epochs dropped\n",
      "Using matplotlib as 2D backend.\n"
     ]
    }
   ],
   "source": [
    "plot_response(spTEP_pre_raw)"
   ]
  },
  {
   "cell_type": "code",
   "execution_count": 5,
   "metadata": {},
   "outputs": [],
   "source": [
    "spTEP_copy = spTEP_pre_raw.copy()"
   ]
  },
  {
   "cell_type": "markdown",
   "metadata": {},
   "source": [
    "## EOG removal\n"
   ]
  },
  {
   "cell_type": "code",
   "execution_count": 6,
   "metadata": {},
   "outputs": [],
   "source": [
    "def remove_EOG(eeg_data):\n",
    "    eeg_data.drop_channels([\"HEOG\", \"VEOG\"])"
   ]
  },
  {
   "cell_type": "markdown",
   "metadata": {},
   "source": [
    "## TMS pulse removal\n"
   ]
  },
  {
   "cell_type": "code",
   "execution_count": 7,
   "metadata": {},
   "outputs": [],
   "source": [
    "def calculate_range_indices(tms_index, start, end, sampling_rate):\n",
    "    \"\"\"\n",
    "    start and end are positive in seconds\n",
    "    sampling rate in Hz\n",
    "    \"\"\"\n",
    "    samples_before = int(start * sampling_rate)\n",
    "    samples_after = int(end * sampling_rate)\n",
    "\n",
    "    start_index = max(0, tms_index - samples_before)\n",
    "    end_index = tms_index + samples_after\n",
    "\n",
    "    return start_index, end_index"
   ]
  },
  {
   "cell_type": "code",
   "execution_count": 8,
   "metadata": {},
   "outputs": [],
   "source": [
    "def interpolate_TMS_pulse(eeg_data_raw, tms_indices, start, end, sampling_rate):\n",
    "    eeg_data = eeg_data_raw.get_data()\n",
    "    num_electrodes = eeg_data.shape[0]\n",
    "    for tms_index in tms_indices:\n",
    "        start_index, end_index = calculate_range_indices(\n",
    "            tms_index, start, end, sampling_rate\n",
    "        )\n",
    "        for i in range(num_electrodes):\n",
    "            x = [start_index - 2, start_index - 1, end_index + 1, end_index + 2]\n",
    "            y = [\n",
    "                eeg_data[i, start_index - 2],\n",
    "                eeg_data[i, start_index - 1],\n",
    "                eeg_data[i, end_index + 1],\n",
    "                eeg_data[i, end_index + 2],\n",
    "            ]\n",
    "            x_new = np.arange(start_index, end_index + 1)\n",
    "\n",
    "            interp_func = interp1d(x, y, kind=\"cubic\")\n",
    "            eeg_data[i, start_index : end_index + 1] = interp_func(x_new)\n",
    "\n",
    "    eeg_data_raw._data = eeg_data"
   ]
  },
  {
   "cell_type": "markdown",
   "metadata": {},
   "source": [
    "## Downsampling\n",
    "\n",
    "The original data was captured with a sampling frequency of 5000 Hz. 1000 Hz is chosen as the frequency to be downsampled to, as this means that, following Nyquists theorem, the highest frequency that will be accurately recorded is 500 Hz, which should be more than enough for further analysis, as the gamma band is often referred to as 30-100 Hz.\n"
   ]
  },
  {
   "cell_type": "code",
   "execution_count": 9,
   "metadata": {},
   "outputs": [],
   "source": [
    "def downsample(eeg_data, sample_rate=1000):\n",
    "    eeg_data.resample(sample_rate, npad=\"auto\")"
   ]
  },
  {
   "cell_type": "markdown",
   "metadata": {},
   "source": [
    "## Epoching\n"
   ]
  },
  {
   "cell_type": "code",
   "execution_count": 10,
   "metadata": {},
   "outputs": [],
   "source": [
    "def epoching(eeg_data):\n",
    "    events, event_dict = mne.events_from_annotations(eeg_data)\n",
    "    event_id = event_dict[\"Stimulus/S  1\"]\n",
    "    epochs = mne.Epochs(\n",
    "        eeg_data,\n",
    "        events,\n",
    "        event_id=event_id,\n",
    "        tmin=-1,\n",
    "        tmax=1,\n",
    "        baseline=None,\n",
    "        preload=True,\n",
    "    )\n",
    "    return epochs"
   ]
  },
  {
   "cell_type": "markdown",
   "metadata": {},
   "source": [
    "## Demeaning/detrending\n",
    "\n",
    "Demeaning is achieved by subtracting each value from each electrode with the average value of the corresponding electrode, essentially bringing the means from all electrodes to 0.\n",
    "\n",
    "> TODO: check if other way of demeaning on complete electrode is possible to move value near 0 or better yet on 0\n"
   ]
  },
  {
   "cell_type": "code",
   "execution_count": 11,
   "metadata": {},
   "outputs": [],
   "source": [
    "def demean_epochs(epochs):\n",
    "    data = epochs.get_data()\n",
    "    demeaned_data = data - np.mean(data, axis=2, keepdims=True)\n",
    "    epochs = mne.EpochsArray(\n",
    "        demeaned_data, epochs.info, events=epochs.events, event_id=epochs.event_id\n",
    "    )\n",
    "    return epochs"
   ]
  },
  {
   "cell_type": "markdown",
   "metadata": {},
   "source": [
    "## ICA - 1\n",
    "\n",
    "The first ICA filter is mainly to remove the primary large artifacts such as muscle and electrical charge. If demeaning were applied now, a graph as below is the result.\n",
    "\n",
    "This is implemented by first fitting ICA to the signal, and then applying the threshold formula used by the TESA software to each component to either keep or remove each ICA component.\n"
   ]
  },
  {
   "cell_type": "code",
   "execution_count": 12,
   "metadata": {},
   "outputs": [],
   "source": [
    "def ICA_1(epoch_data, T=3.5, b1=0.011, b2=0.030, n_components=20):\n",
    "    ica = ICA(n_components=n_components, random_state=97)\n",
    "    ica.fit(epoch_data)\n",
    "\n",
    "    # Credits to Arne Callaert for the following code\n",
    "    sources = ica.get_sources(epoch_data)\n",
    "    averaged_sources = sources.get_data().mean(axis=0)\n",
    "    times = sources.times\n",
    "    sfreq = sources.info[\"sfreq\"]\n",
    "    indices = np.where((times >= (b1 / 1000)) & (times <= (b2 / 1000)))\n",
    "    print(\"indices:\", indices)\n",
    "    components_to_remove = []\n",
    "\n",
    "    for i, component in enumerate(averaged_sources):\n",
    "        base = len(times) / 2\n",
    "        b1_index = int(base + (b1 * sfreq))\n",
    "        b2_index = int(base + (b2 * sfreq))\n",
    "        x = np.mean(np.abs(component[b1_index:b2_index]))\n",
    "        y = np.mean(np.abs(component))\n",
    "        if x / y > T:\n",
    "            print(\"FOUND:\", x / y)\n",
    "            components_to_remove.append(i)\n",
    "\n",
    "    ica.exclude = components_to_remove\n",
    "\n",
    "    epoch_data = ica.apply(epoch_data)"
   ]
  },
  {
   "cell_type": "markdown",
   "metadata": {},
   "source": [
    "## Bandpass - Notch\n"
   ]
  },
  {
   "cell_type": "code",
   "execution_count": 13,
   "metadata": {},
   "outputs": [],
   "source": [
    "def bandpass_notch(epoch_data, low_freq=1, high_freq=100, notch_freqs=[50]):\n",
    "    # Bandpass\n",
    "    epoch_data.filter(low_freq, high_freq)\n",
    "\n",
    "    # Notch (only directly available on raw object, not on epochs)\n",
    "    data = epoch_data.get_data()\n",
    "    notch_filtered = mne.filter.notch_filter(data, epochs.info[\"sfreq\"], notch_freqs)\n",
    "    filtered_epochs = mne.epochs.EpochsArray(\n",
    "        notch_filtered, epochs.info, events=epochs.events, tmin=epochs.tmin\n",
    "    )\n",
    "\n",
    "    return filtered_epochs"
   ]
  },
  {
   "cell_type": "markdown",
   "metadata": {},
   "source": [
    "## Rereference\n"
   ]
  },
  {
   "cell_type": "code",
   "execution_count": 14,
   "metadata": {},
   "outputs": [],
   "source": [
    "def rereference(epochs):\n",
    "    mne.set_eeg_reference(epochs, ref_channels=\"average\")"
   ]
  },
  {
   "cell_type": "markdown",
   "metadata": {},
   "source": [
    "## ICA - 2\n",
    "\n",
    "Li et al., (2022). MNE-ICALabel: Automatically annotating ICA components with ICLabel in Python. Journal of Open Source Software, 7(76), 4484, https://doi.org/10.21105/joss.04484\n"
   ]
  },
  {
   "cell_type": "code",
   "execution_count": 15,
   "metadata": {},
   "outputs": [],
   "source": [
    "def ICA_2(epoch_data):\n",
    "    ica = mne.preprocessing.ICA(n_components=20, random_state=42)\n",
    "    ica.fit(epoch_data)\n",
    "    ic_labels = label_components(epoch_data, ica, method=\"iclabel\")\n",
    "\n",
    "    print(ic_labels[\"labels\"])\n",
    "\n",
    "    labels = ic_labels[\"labels\"]\n",
    "    exclude_idx = [\n",
    "        idx for idx, label in enumerate(labels) if label not in [\"brain\", \"other\"]\n",
    "    ]\n",
    "    print(f\"Excluding these {len(exclude_idx)} ICA components: {exclude_idx}\")\n",
    "\n",
    "    ica.apply(epoch_data, exclude=exclude_idx)"
   ]
  },
  {
   "cell_type": "markdown",
   "metadata": {},
   "source": [
    "## Baseline correction\n"
   ]
  },
  {
   "cell_type": "code",
   "execution_count": 17,
   "metadata": {},
   "outputs": [],
   "source": [
    "def baseline(epoch_data, baseline=(-0.5, -0.005)):\n",
    "    epoch_data.apply_baseline((1 - baseline[0], 1 - baseline[1]))"
   ]
  },
  {
   "cell_type": "markdown",
   "metadata": {},
   "source": [
    "## Final result\n"
   ]
  },
  {
   "cell_type": "code",
   "execution_count": 18,
   "metadata": {},
   "outputs": [],
   "source": [
    "# function to apply all steps\n",
    "def preprocess(eeg_data):\n",
    "    remove_EOG(eeg_data)\n",
    "    interpolate_TMS_pulse(eeg_data, tms_indices, 0.005, 0.015, sampling_rate)\n",
    "    downsample(eeg_data)\n",
    "    epochs = epoching(eeg_data)\n",
    "    epochs = demean_epochs(epochs)\n",
    "    ICA_1(epochs)\n",
    "    bandpass_notch(epochs)\n",
    "    ICA_2(epochs)\n",
    "    rereference(epochs)\n",
    "    baseline(epochs)\n",
    "\n",
    "    return epochs"
   ]
  },
  {
   "cell_type": "code",
   "execution_count": 19,
   "metadata": {},
   "outputs": [],
   "source": [
    "def plot_gmfp(epochs):\n",
    "    psds, freqs = mne.time_frequency.psd_multitaper(epochs, fmin=0.1, fmax=100.0, n_jobs=-1)\n",
    "\n",
    "    # Compute mean power across all epochs\n",
    "    mean_power = np.mean(psds, axis=0)\n",
    "\n",
    "    # Compute Global Mean Field Power (GMFP)\n",
    "    gmfp = np.sqrt(np.mean(mean_power, axis=0))\n",
    "\n",
    "    # Plot GMFP\n",
    "    plt.figure()\n",
    "    plt.plot(freqs, gmfp)\n",
    "    plt.xlabel('Frequency (Hz)')\n",
    "    plt.ylabel('Global Mean Field Power (GMFP)')\n",
    "    plt.title('Global Mean Field Power (GMFP)')\n",
    "    plt.show()\n"
   ]
  },
  {
   "cell_type": "code",
   "execution_count": 20,
   "metadata": {},
   "outputs": [
    {
     "name": "stdout",
     "output_type": "stream",
     "text": [
      "Used Annotations descriptions: ['New Segment/', 'Stimulus/S  1']\n",
      "Not setting metadata\n",
      "150 matching events found\n",
      "No baseline correction applied\n",
      "0 projection items activated\n",
      "Using data from preloaded Raw for 150 events and 2001 original time points ...\n",
      "0 bad epochs dropped\n",
      "Not setting metadata\n",
      "150 matching events found\n",
      "No baseline correction applied\n",
      "0 projection items activated\n",
      "Fitting ICA to data using 62 channels (please be patient, this may take a while)\n"
     ]
    },
    {
     "name": "stderr",
     "output_type": "stream",
     "text": [
      "/tmp/ipykernel_1746958/1884101732.py:2: FutureWarning: The current default of copy=False will change to copy=True in 1.7. Set the value of copy explicitly to avoid this warning\n",
      "  data = epochs.get_data()\n",
      "/tmp/ipykernel_1746958/1222509230.py:3: RuntimeWarning: The data has not been high-pass filtered. For good ICA performance, it should be high-pass filtered (e.g., with a 1.0 Hz lower bound) before fitting ICA.\n",
      "  ica.fit(epoch_data)\n"
     ]
    },
    {
     "name": "stdout",
     "output_type": "stream",
     "text": [
      "Selecting by number: 20 components\n",
      "Fitting ICA took 9.6s.\n",
      "indices: (array([], dtype=int64),)\n",
      "FOUND: 5.256511308711403\n",
      "FOUND: 3.9395458463802986\n",
      "Applying ICA to Epochs instance\n",
      "    Transforming to ICA space (20 components)\n",
      "    Zeroing out 2 ICA components\n",
      "    Projecting back using 62 PCA components\n"
     ]
    },
    {
     "name": "stderr",
     "output_type": "stream",
     "text": [
      "/tmp/ipykernel_1746958/1222509230.py:7: FutureWarning: The current default of copy=False will change to copy=True in 1.7. Set the value of copy explicitly to avoid this warning\n",
      "  averaged_sources = sources.get_data().mean(axis=0)\n"
     ]
    },
    {
     "name": "stdout",
     "output_type": "stream",
     "text": [
      "Setting up band-pass filter from 1 - 1e+02 Hz\n",
      "\n",
      "FIR filter parameters\n",
      "---------------------\n",
      "Designing a one-pass, zero-phase, non-causal bandpass filter:\n",
      "- Windowed time-domain design (firwin) method\n",
      "- Hamming window with 0.0194 passband ripple and 53 dB stopband attenuation\n",
      "- Lower passband edge: 1.00\n",
      "- Lower transition bandwidth: 1.00 Hz (-6 dB cutoff frequency: 0.50 Hz)\n",
      "- Upper passband edge: 100.00 Hz\n",
      "- Upper transition bandwidth: 25.00 Hz (-6 dB cutoff frequency: 112.50 Hz)\n",
      "- Filter length: 3301 samples (3.301 s)\n",
      "\n"
     ]
    },
    {
     "name": "stderr",
     "output_type": "stream",
     "text": [
      "/tmp/ipykernel_1746958/1926252352.py:3: RuntimeWarning: filter_length (3301) is longer than the signal (2001), distortion is likely. Reduce filter length or filter a longer signal.\n",
      "  epoch_data.filter(low_freq, high_freq)\n",
      "[Parallel(n_jobs=1)]: Done  17 tasks      | elapsed:    0.0s\n",
      "[Parallel(n_jobs=1)]: Done  71 tasks      | elapsed:    0.0s\n",
      "[Parallel(n_jobs=1)]: Done 161 tasks      | elapsed:    0.1s\n",
      "[Parallel(n_jobs=1)]: Done 287 tasks      | elapsed:    0.1s\n",
      "[Parallel(n_jobs=1)]: Done 449 tasks      | elapsed:    0.1s\n",
      "[Parallel(n_jobs=1)]: Done 647 tasks      | elapsed:    0.2s\n",
      "[Parallel(n_jobs=1)]: Done 881 tasks      | elapsed:    0.2s\n",
      "[Parallel(n_jobs=1)]: Done 1151 tasks      | elapsed:    0.3s\n",
      "[Parallel(n_jobs=1)]: Done 1457 tasks      | elapsed:    0.4s\n",
      "[Parallel(n_jobs=1)]: Done 1799 tasks      | elapsed:    0.4s\n",
      "[Parallel(n_jobs=1)]: Done 2177 tasks      | elapsed:    0.5s\n",
      "[Parallel(n_jobs=1)]: Done 2591 tasks      | elapsed:    0.6s\n",
      "[Parallel(n_jobs=1)]: Done 3041 tasks      | elapsed:    0.7s\n",
      "[Parallel(n_jobs=1)]: Done 3527 tasks      | elapsed:    0.8s\n",
      "[Parallel(n_jobs=1)]: Done 4049 tasks      | elapsed:    1.0s\n",
      "[Parallel(n_jobs=1)]: Done 4607 tasks      | elapsed:    1.1s\n",
      "[Parallel(n_jobs=1)]: Done 5201 tasks      | elapsed:    1.2s\n",
      "[Parallel(n_jobs=1)]: Done 5831 tasks      | elapsed:    1.4s\n",
      "[Parallel(n_jobs=1)]: Done 6497 tasks      | elapsed:    1.5s\n",
      "[Parallel(n_jobs=1)]: Done 7199 tasks      | elapsed:    1.7s\n",
      "[Parallel(n_jobs=1)]: Done 7937 tasks      | elapsed:    1.9s\n",
      "[Parallel(n_jobs=1)]: Done 8711 tasks      | elapsed:    2.1s\n",
      "/tmp/ipykernel_1746958/1926252352.py:6: FutureWarning: The current default of copy=False will change to copy=True in 1.7. Set the value of copy explicitly to avoid this warning\n",
      "  data = epoch_data.get_data()\n"
     ]
    },
    {
     "ename": "NameError",
     "evalue": "name 'epochs' is not defined",
     "output_type": "error",
     "traceback": [
      "\u001b[0;31m---------------------------------------------------------------------------\u001b[0m",
      "\u001b[0;31mNameError\u001b[0m                                 Traceback (most recent call last)",
      "Cell \u001b[0;32mIn[20], line 1\u001b[0m\n\u001b[0;32m----> 1\u001b[0m epochs_cleaned \u001b[38;5;241m=\u001b[39m \u001b[43mpreprocess\u001b[49m\u001b[43m(\u001b[49m\u001b[43mspTEP_copy\u001b[49m\u001b[43m)\u001b[49m\n\u001b[1;32m      3\u001b[0m plot_gmfp(epochs_cleaned)\n",
      "Cell \u001b[0;32mIn[18], line 9\u001b[0m, in \u001b[0;36mpreprocess\u001b[0;34m(eeg_data)\u001b[0m\n\u001b[1;32m      7\u001b[0m epochs \u001b[38;5;241m=\u001b[39m demean_epochs(epochs)\n\u001b[1;32m      8\u001b[0m ICA_1(epochs)\n\u001b[0;32m----> 9\u001b[0m \u001b[43mbandpass_notch\u001b[49m\u001b[43m(\u001b[49m\u001b[43mepochs\u001b[49m\u001b[43m)\u001b[49m\n\u001b[1;32m     10\u001b[0m ICA_2(epochs)\n\u001b[1;32m     11\u001b[0m rereference(epochs)\n",
      "Cell \u001b[0;32mIn[13], line 7\u001b[0m, in \u001b[0;36mbandpass_notch\u001b[0;34m(epoch_data, low_freq, high_freq, notch_freqs)\u001b[0m\n\u001b[1;32m      5\u001b[0m \u001b[38;5;66;03m# Notch (only directly available on raw object, not on epochs)\u001b[39;00m\n\u001b[1;32m      6\u001b[0m data \u001b[38;5;241m=\u001b[39m epoch_data\u001b[38;5;241m.\u001b[39mget_data()\n\u001b[0;32m----> 7\u001b[0m notch_filtered \u001b[38;5;241m=\u001b[39m mne\u001b[38;5;241m.\u001b[39mfilter\u001b[38;5;241m.\u001b[39mnotch_filter(data, \u001b[43mepochs\u001b[49m\u001b[38;5;241m.\u001b[39minfo[\u001b[38;5;124m\"\u001b[39m\u001b[38;5;124msfreq\u001b[39m\u001b[38;5;124m\"\u001b[39m], notch_freqs)\n\u001b[1;32m      8\u001b[0m filtered_epochs \u001b[38;5;241m=\u001b[39m mne\u001b[38;5;241m.\u001b[39mepochs\u001b[38;5;241m.\u001b[39mEpochsArray(\n\u001b[1;32m      9\u001b[0m     notch_filtered, epochs\u001b[38;5;241m.\u001b[39minfo, events\u001b[38;5;241m=\u001b[39mepochs\u001b[38;5;241m.\u001b[39mevents, tmin\u001b[38;5;241m=\u001b[39mepochs\u001b[38;5;241m.\u001b[39mtmin\n\u001b[1;32m     10\u001b[0m )\n\u001b[1;32m     12\u001b[0m \u001b[38;5;28;01mreturn\u001b[39;00m filtered_epochs\n",
      "\u001b[0;31mNameError\u001b[0m: name 'epochs' is not defined"
     ]
    }
   ],
   "source": [
    "epochs_cleaned = preprocess(spTEP_copy)\n",
    "\n",
    "plot_gmfp(epochs_cleaned)"
   ]
  },
  {
   "cell_type": "markdown",
   "metadata": {},
   "source": [
    "## TODO\n",
    "\n",
    "Current biggest things to find out:\n",
    "\n",
    "- is there a way to further improve the filtering that ICA 1 is supposed to achieve? (Filtering out the residue of the TMS pulse)\n",
    "- how can time ranges be plot on the scalp topography? like in the comparative paper"
   ]
  }
 ],
 "metadata": {
  "kernelspec": {
   "display_name": "Python 3",
   "language": "python",
   "name": "python3"
  },
  "language_info": {
   "codemirror_mode": {
    "name": "ipython",
    "version": 3
   },
   "file_extension": ".py",
   "mimetype": "text/x-python",
   "name": "python",
   "nbconvert_exporter": "python",
   "pygments_lexer": "ipython3",
   "version": "3.12.0"
  }
 },
 "nbformat": 4,
 "nbformat_minor": 2
}
