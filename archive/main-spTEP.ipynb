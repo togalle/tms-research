{
 "cells": [
  {
   "cell_type": "code",
   "execution_count": null,
   "id": "fbd2728e",
   "metadata": {},
   "outputs": [],
   "source": [
    "# %conda env export > environment.yaml\n",
    "%conda env create -f environment.yaml"
   ]
  },
  {
   "cell_type": "code",
   "execution_count": null,
   "id": "d89ee1f5-3b07-43a8-b81c-ead4167b7d5c",
   "metadata": {
    "editable": true,
    "slideshow": {
     "slide_type": ""
    },
    "tags": []
   },
   "outputs": [],
   "source": [
    "# %pip install mne pandas numpy scikit-learn mne-icalabel\n",
    "%pip install ipywidgets"
   ]
  },
  {
   "cell_type": "markdown",
   "id": "d8b88bdf-108a-45cb-b86c-1bcb1d4de1c7",
   "metadata": {},
   "source": [
    "# TMS pipeline\n",
    "\n",
    "This notebook contains the full pipeline of the individual scripts. The pipeline goes as follows:\n",
    "\n",
    "- EDA\n",
    "- Prepocessing\n",
    "- Model training\n",
    "- Validation\n"
   ]
  },
  {
   "cell_type": "code",
   "execution_count": 1,
   "id": "c0b4e64d-7dac-4694-b134-63db73db9aaa",
   "metadata": {},
   "outputs": [],
   "source": [
    "# Imports\n",
    "import os\n",
    "import pandas as pd\n",
    "from ipywidgets import *\n",
    "import numpy as np\n",
    "import mne\n",
    "from mne.preprocessing import ICA\n",
    "\n",
    "# import torch\n",
    "from mne_icalabel import label_components\n",
    "\n",
    "import matplotlib.pyplot as plt\n",
    "from mne.preprocessing import ICA\n",
    "import scipy\n",
    "\n",
    "import preprocessing\n",
    "import utils\n",
    "\n",
    "# Specify graph rendering method\n",
    "# %matplotlib widget\n",
    "plt.switch_backend(\"TkAgg\")"
   ]
  },
  {
   "cell_type": "markdown",
   "id": "906ac487-c0de-4c3e-a268-c7357e646ed3",
   "metadata": {},
   "source": [
    "## Data loading\n",
    "\n",
    "Currently, only one session from one patient gets used for testing purposes. File names are as follows: \"**TMS-EEG-H_02_S1b_X_Y.Z**\", where:\n",
    "\n",
    "- X = **rsEEG** (resting state EEG) or **spTEP** (single pulse TMS Evoked Potential)\n",
    "- Y = **pre** or **post** (before or after the rTMS procedure)\n",
    "- Z = **vhdr**, **vmrk**, **eeg** or **mat** (files for the BrainVision format, and a MATLAB file)\n"
   ]
  },
  {
   "cell_type": "code",
   "execution_count": 2,
   "id": "2eb79a09-a920-4184-971f-b33180a9cb64",
   "metadata": {},
   "outputs": [
    {
     "name": "stdout",
     "output_type": "stream",
     "text": [
      "Extracting parameters from ./dataset\\TMS-EEG-H_02_S1b_spTEP_pre.vhdr...\n",
      "Setting channel info structure...\n",
      "Reading 0 ... 2696199  =      0.000 ...   539.240 secs...\n"
     ]
    },
    {
     "data": {
      "text/html": [
       "<details open>\n",
       "    <summary><strong>General</strong></summary>\n",
       "    <table class=\"table table-hover table-striped table-sm table-responsive small\">\n",
       "        <tr>\n",
       "            <th>Measurement date</th>\n",
       "            \n",
       "            <td>August 23, 2017  15:29:56 GMT</td>\n",
       "            \n",
       "        </tr>\n",
       "        <tr>\n",
       "            <th>Experimenter</th>\n",
       "            \n",
       "            <td>Unknown</td>\n",
       "            \n",
       "        </tr>\n",
       "        <tr>\n",
       "            <th>Participant</th>\n",
       "            \n",
       "            <td>Unknown</td>\n",
       "            \n",
       "        </tr>\n",
       "    </table>\n",
       "    </details>\n",
       "    <details open>\n",
       "        <summary><strong>Channels</strong></summary>\n",
       "        <table class=\"table table-hover table-striped table-sm table-responsive small\">\n",
       "            <tr>\n",
       "                <th>Digitized points</th>\n",
       "                \n",
       "                <td>67 points</td>\n",
       "                \n",
       "            </tr>\n",
       "            <tr>\n",
       "                <th>Good channels</th>\n",
       "                <td>62 EEG</td>\n",
       "            </tr>\n",
       "            <tr>\n",
       "                <th>Bad channels</th>\n",
       "                <td>None</td>\n",
       "            </tr>\n",
       "            <tr>\n",
       "                <th>EOG channels</th>\n",
       "                <td>Not available</td>\n",
       "            </tr>\n",
       "            <tr>\n",
       "                <th>ECG channels</th>\n",
       "                <td>Not available</td>\n",
       "            </tr>\n",
       "        </table>\n",
       "        </details>\n",
       "        <details open>\n",
       "            <summary><strong>Data</strong></summary>\n",
       "            <table class=\"table table-hover table-striped table-sm table-responsive small\">\n",
       "                \n",
       "                <tr>\n",
       "                    <th>Sampling frequency</th>\n",
       "                    <td>5000.00 Hz</td>\n",
       "                </tr>\n",
       "                \n",
       "                \n",
       "                <tr>\n",
       "                    <th>Highpass</th>\n",
       "                    <td>0.00 Hz</td>\n",
       "                </tr>\n",
       "                \n",
       "                \n",
       "                <tr>\n",
       "                    <th>Lowpass</th>\n",
       "                    <td>1000.00 Hz</td>\n",
       "                </tr>\n",
       "                \n",
       "                \n",
       "                \n",
       "                <tr>\n",
       "                    <th>Filenames</th>\n",
       "                    <td>TMS-EEG-H_02_S1b_spTEP_pre.eeg</td>\n",
       "                </tr>\n",
       "                \n",
       "                \n",
       "                <tr>\n",
       "                    <th>Duration</th>\n",
       "                    <td>00:08:60 (HH:MM:SS)</td>\n",
       "                </tr>\n",
       "                \n",
       "            </table>\n",
       "            </details>"
      ],
      "text/plain": [
       "<RawBrainVision | TMS-EEG-H_02_S1b_spTEP_pre.eeg, 62 x 2696200 (539.2 s), ~1.25 GB, data loaded>"
      ]
     },
     "execution_count": 2,
     "metadata": {},
     "output_type": "execute_result"
    }
   ],
   "source": [
    "# Currently for 1 patient, will be generalized into a pipeline for all patients\n",
    "\n",
    "DATASET_PATH = \"./dataset\"\n",
    "FILENAME_TEMPLATE = \"TMS-EEG-H_02_S1b_{}_{}.vhdr\"\n",
    "\n",
    "# rsEEG_pre_raw = mne.io.read_raw_brainvision(os.path.join(DATASET_PATH, FILENAME_TEMPLATE.format(\"rsEEG\", \"pre\")), preload=True)\n",
    "spTEP_pre_raw = mne.io.read_raw_brainvision(\n",
    "    os.path.join(DATASET_PATH, FILENAME_TEMPLATE.format(\"spTEP\", \"pre\")), preload=True\n",
    ")\n",
    "spTEP_pre_raw.drop_channels([\"HEOG\", \"VEOG\"])\n",
    "\n",
    "# rsEEG_post_raw = mne.io.read_raw_brainvision(os.path.join(DATASET_PATH, FILENAME_TEMPLATE.format(\"rsEEG\", \"post\")), preload=True)\n",
    "# spTEP_post_raw = mne.io.read_raw_brainvision(os.path.join(DATASET_PATH, FILENAME_TEMPLATE.format(\"spTEP\", \"post\")), preload=True)\n",
    "# spTEP_post_raw.drop_channels(['HEOG', 'VEOG'])"
   ]
  },
  {
   "cell_type": "markdown",
   "id": "0500cabe-c48b-4374-8cc2-244735e1c8dd",
   "metadata": {},
   "source": [
    "## EDA\n",
    "\n",
    "### EEG Visualization\n",
    "\n",
    "Visualizing the EEG graphs and electrodes for all the files gives a first impression of the data, and possible immediate preprocessing changes that can take place.\n",
    "\n",
    "spTEP_pre: TP9 is bad channel\n",
    "\n",
    "Perfect overlap on the Fp2 and VEOG channels, likely because the Fp2 was also used as a reference for VEOG. This overlap does result in errors, so it's better to remove the VEOG channel and keep this reference in mind.\n"
   ]
  },
  {
   "cell_type": "code",
   "execution_count": null,
   "id": "7fbbdd34",
   "metadata": {},
   "outputs": [],
   "source": [
    "spTEP_pre_raw.plot(start=60, duration=10, n_channels=20, scalings={\"eeg\": 50e-6})"
   ]
  },
  {
   "cell_type": "code",
   "execution_count": null,
   "id": "0f9723c3",
   "metadata": {},
   "outputs": [],
   "source": [
    "utils.plot_single_response(spTEP_pre_raw, channel=\"Pz\", tmin=-0.05, tmax=0.05)"
   ]
  },
  {
   "cell_type": "code",
   "execution_count": null,
   "id": "1e5b6e29-18af-4f24-a0d1-b758100eb1df",
   "metadata": {},
   "outputs": [],
   "source": [
    "print(spTEP_pre_raw.info)"
   ]
  },
  {
   "cell_type": "code",
   "execution_count": null,
   "id": "6090e8f4-b23f-4397-b0a5-5231bc8c4fa1",
   "metadata": {},
   "outputs": [],
   "source": [
    "utils.plot_average_response(spTEP_pre_raw, tmin=-0.01, tmax=0.05)"
   ]
  },
  {
   "cell_type": "code",
   "execution_count": null,
   "id": "285220e4",
   "metadata": {},
   "outputs": [],
   "source": [
    "# Clearly indicates where the coils were placed\n",
    "spTEP_pre_raw.compute_psd().plot_topomap()"
   ]
  },
  {
   "cell_type": "markdown",
   "id": "d903f214-5d46-41a9-89f8-bb6cf3052a3a",
   "metadata": {},
   "source": [
    "## Preprocessing\n"
   ]
  },
  {
   "cell_type": "code",
   "execution_count": 4,
   "id": "1127c7a6",
   "metadata": {},
   "outputs": [
    {
     "name": "stdout",
     "output_type": "stream",
     "text": [
      "Setting channel interpolation method to {'eeg': 'spline'}.\n",
      "Interpolating bad channels.\n",
      "    Automatic origin fit: head of radius 95.0 mm\n",
      "Computing interpolation matrix from 61 sensor positions\n",
      "Interpolating 1 sensors\n",
      "Used Annotations descriptions: ['New Segment/', 'Stimulus/S  1']\n",
      "Not setting metadata\n",
      "151 matching events found\n",
      "Applying baseline correction (mode: mean)\n",
      "0 projection items activated\n",
      "Using data from preloaded Raw for 151 events and 2001 original time points ...\n",
      "139 bad epochs dropped\n",
      "Fitting ICA to data using 62 channels (please be patient, this may take a while)\n",
      "Selecting by number: 20 components\n"
     ]
    },
    {
     "name": "stderr",
     "output_type": "stream",
     "text": [
      "d:\\Coding\\tms-research\\preprocessing.py:79: RuntimeWarning: The data has not been high-pass filtered. For good ICA performance, it should be high-pass filtered (e.g., with a 1.0 Hz lower bound) before fitting ICA.\n",
      "  ica.fit(epochs)\n",
      "d:\\Coding\\tms-research\\preprocessing.py:79: RuntimeWarning: The epochs you passed to ICA.fit() were baseline-corrected. However, we suggest to fit ICA only on data that has been high-pass filtered, but NOT baseline-corrected.\n",
      "  ica.fit(epochs)\n"
     ]
    },
    {
     "name": "stdout",
     "output_type": "stream",
     "text": [
      "Fitting ICA took 1.7s.\n",
      "Effective window size : 2.048 (s)\n",
      "Applying ICA to Raw instance\n",
      "    Transforming to ICA space (20 components)\n",
      "    Zeroing out 1 ICA component\n",
      "    Projecting back using 62 PCA components\n",
      "Filtering raw data in 1 contiguous segment\n",
      "Setting up band-pass filter from 1 - 90 Hz\n",
      "\n",
      "FIR filter parameters\n",
      "---------------------\n",
      "Designing a one-pass, zero-phase, non-causal bandpass filter:\n",
      "- Windowed time-domain design (firwin) method\n",
      "- Hamming window with 0.0194 passband ripple and 53 dB stopband attenuation\n",
      "- Lower passband edge: 1.00\n",
      "- Lower transition bandwidth: 1.00 Hz (-6 dB cutoff frequency: 0.50 Hz)\n",
      "- Upper passband edge: 90.00 Hz\n",
      "- Upper transition bandwidth: 22.50 Hz (-6 dB cutoff frequency: 101.25 Hz)\n",
      "- Filter length: 3301 samples (3.301 s)\n",
      "\n"
     ]
    },
    {
     "name": "stderr",
     "output_type": "stream",
     "text": [
      "[Parallel(n_jobs=1)]: Done  17 tasks      | elapsed:    0.2s\n"
     ]
    },
    {
     "name": "stdout",
     "output_type": "stream",
     "text": [
      "Filtering raw data in 1 contiguous segment\n",
      "Setting up band-stop filter from 49 - 51 Hz\n",
      "\n",
      "FIR filter parameters\n",
      "---------------------\n",
      "Designing a one-pass, zero-phase, non-causal bandstop filter:\n",
      "- Windowed time-domain design (firwin) method\n",
      "- Hamming window with 0.0194 passband ripple and 53 dB stopband attenuation\n",
      "- Lower passband edge: 49.38\n",
      "- Lower transition bandwidth: 0.50 Hz (-6 dB cutoff frequency: 49.12 Hz)\n",
      "- Upper passband edge: 50.62 Hz\n",
      "- Upper transition bandwidth: 0.50 Hz (-6 dB cutoff frequency: 50.88 Hz)\n",
      "- Filter length: 6601 samples (6.601 s)\n",
      "\n"
     ]
    },
    {
     "name": "stderr",
     "output_type": "stream",
     "text": [
      "[Parallel(n_jobs=1)]: Done  17 tasks      | elapsed:    0.2s\n"
     ]
    },
    {
     "name": "stdout",
     "output_type": "stream",
     "text": [
      "Not setting metadata\n",
      "151 matching events found\n",
      "Applying baseline correction (mode: mean)\n",
      "0 projection items activated\n",
      "Using data from preloaded Raw for 151 events and 2001 original time points ...\n",
      "139 bad epochs dropped\n",
      "Fitting ICA to data using 62 channels (please be patient, this may take a while)\n",
      "Selecting by number: 20 components\n"
     ]
    },
    {
     "name": "stderr",
     "output_type": "stream",
     "text": [
      "d:\\Coding\\tms-research\\preprocessing.py:79: RuntimeWarning: The epochs you passed to ICA.fit() were baseline-corrected. However, we suggest to fit ICA only on data that has been high-pass filtered, but NOT baseline-corrected.\n",
      "  ica.fit(epochs)\n"
     ]
    },
    {
     "name": "stdout",
     "output_type": "stream",
     "text": [
      "Fitting ICA took 0.5s.\n",
      "Effective window size : 2.048 (s)\n",
      "Applying ICA to Raw instance\n",
      "    Transforming to ICA space (20 components)\n",
      "    Zeroing out 0 ICA components\n",
      "    Projecting back using 62 PCA components\n",
      "EEG channel type selected for re-referencing\n",
      "Applying average reference.\n",
      "Applying a custom ('EEG',) reference.\n"
     ]
    }
   ],
   "source": [
    "# Preprocessing with interpolation\n",
    "spTEP_pre_raw.info[\"bads\"] = [\"TP9\"]\n",
    "spTEP_pre_raw.interpolate_bads(reset_bads=True)\n",
    "\n",
    "spTEP_pre = spTEP_pre_raw.copy()\n",
    "spTEP_pre = preprocessing.preprocess_spTEP(spTEP_pre)\n",
    "\n",
    "# spTEP_post = spTEP_post_raw.copy()\n",
    "# spTEP_post = preprocessing.preprocess(spTEP_post)"
   ]
  },
  {
   "cell_type": "code",
   "execution_count": 4,
   "id": "e4f7dbf6",
   "metadata": {},
   "outputs": [
    {
     "name": "stdout",
     "output_type": "stream",
     "text": [
      "Used Annotations descriptions: ['New Segment/', 'Stimulus/S  1']\n",
      "Not setting metadata\n",
      "151 matching events found\n",
      "No baseline correction applied\n",
      "0 projection items activated\n",
      "Using data from preloaded Raw for 151 events and 1026 original time points ...\n",
      "1 bad epochs dropped\n"
     ]
    }
   ],
   "source": [
    "utils.plot_average_response(spTEP_pre_raw, tmin=-0.005, tmax=0.2)"
   ]
  },
  {
   "cell_type": "code",
   "execution_count": 5,
   "id": "6866ef97",
   "metadata": {},
   "outputs": [
    {
     "name": "stdout",
     "output_type": "stream",
     "text": [
      "Used Annotations descriptions: ['New Segment/', 'Stimulus/S  1']\n",
      "Not setting metadata\n",
      "151 matching events found\n",
      "No baseline correction applied\n",
      "0 projection items activated\n",
      "Using data from preloaded Raw for 151 events and 251 original time points ...\n",
      "1 bad epochs dropped\n"
     ]
    }
   ],
   "source": [
    "# Full pipeline\n",
    "utils.plot_average_response(spTEP_pre, tmin=-0.05, tmax=0.2)\n",
    "# utils.plot_average_response(spTEP_post, tmin=-0.05, tmax=0.2)"
   ]
  },
  {
   "cell_type": "code",
   "execution_count": null,
   "id": "2d4bc2b0",
   "metadata": {},
   "outputs": [],
   "source": [
    "FILENAME_TEMPLATE = \"TMS-EEG-H_{:02d}_S{}_{}_{}\"\n",
    "filename = FILENAME_TEMPLATE.format(2, \"1b\", \"spTEP\", \"pre\")\n",
    "spTEP_pre.save(os.path.join(\".\", \"cleaned\", filename + \".fif\"), overwrite=True)"
   ]
  },
  {
   "cell_type": "code",
   "execution_count": null,
   "id": "f2463168",
   "metadata": {},
   "outputs": [],
   "source": [
    "# Apply preprocessing to all available data and save for later use\n",
    "\n",
    "DATASET_PATH_FULL = \"../neuroaa/datasets/raw/uz_gent\"\n",
    "FILENAME_TEMPLATE = \"TMS-EEG-H_{:02d}_S{}_{}_{}\"\n",
    "\n",
    "for patient in range(19):\n",
    "    for session in range(4):\n",
    "        for type in [\"spTEP\", \"rsEEG\"]:\n",
    "            for trial in [\"pre\", \"post\"]:\n",
    "                filename = FILENAME_TEMPLATE.format(patient, session, type, trial)\n",
    "                eeg_raw = mne.io.read_raw_brainvision(\n",
    "                    os.path.join(DATASET_PATH, filename + \".vhdr\"), preload=True\n",
    "                )\n",
    "                eeg_clean = eeg_raw.copy()\n",
    "                eeg_clean = preprocessing.preprocess(eeg_clean)\n",
    "                eeg_clean.save(\n",
    "                    os.path.join(\".\", \"cleaned_data\", filename + \".fif\"), overwrite=True\n",
    "                )"
   ]
  },
  {
   "cell_type": "markdown",
   "id": "2b42e2e6",
   "metadata": {},
   "source": [
    "## Feature extraction\n",
    "\n",
    "Features are per pulse (spTEP) or epoch (rsEEG)\n"
   ]
  },
  {
   "cell_type": "markdown",
   "id": "aa1cd8ef",
   "metadata": {},
   "source": [
    "### Time domain\n"
   ]
  },
  {
   "cell_type": "code",
   "execution_count": null,
   "id": "df7aa968",
   "metadata": {},
   "outputs": [],
   "source": [
    "# Peak amplitude, peak latency, and area under curve\n",
    "events, event_dict = mne.events_from_annotations(spTEP_pre)\n",
    "epochs = mne.Epochs(\n",
    "    spTEP_pre,\n",
    "    events,\n",
    "    event_id=event_dict,\n",
    "    tmin=-0.05,\n",
    "    tmax=0.2,\n",
    "    baseline=None,\n",
    "    preload=True,\n",
    ")\n",
    "\n",
    "features = []\n",
    "\n",
    "for epoch in epochs.get_data():\n",
    "    peak_amplitude = np.max(epoch)\n",
    "    peak_latency = np.argmax(epoch) / epochs.info[\"sfreq\"]\n",
    "    area_under_curve = np.mean(np.trapz(epoch))\n",
    "\n",
    "    features.append([peak_amplitude, peak_latency, area_under_curve])\n",
    "\n",
    "len(features)"
   ]
  },
  {
   "cell_type": "code",
   "execution_count": null,
   "id": "3edd0715",
   "metadata": {},
   "outputs": [],
   "source": [
    "# Plot difference of features between pre and post\n",
    "\n",
    "events, event_dict = mne.events_from_annotations(spTEP_pre)\n",
    "epochs = mne.Epochs(\n",
    "    spTEP_pre,\n",
    "    events,\n",
    "    event_id=event_dict,\n",
    "    tmin=-0.05,\n",
    "    tmax=0.2,\n",
    "    baseline=None,\n",
    "    preload=True,\n",
    ")\n",
    "data = epochs.get_data()\n",
    "average_response = epochs.average().data\n",
    "\n",
    "events_post, event_dict_post = mne.events_from_annotations(spTEP_post)\n",
    "epochs_post = mne.Epochs(\n",
    "    spTEP_post,\n",
    "    events_post,\n",
    "    event_id=event_dict_post,\n",
    "    tmin=-0.05,\n",
    "    tmax=0.2,\n",
    "    baseline=None,\n",
    "    preload=True,\n",
    ")\n",
    "data_post = epochs_post.get_data()\n",
    "average_response_post = epochs_post.average().data\n",
    "\n",
    "average_max = average_response.max(axis=1)\n",
    "mean = data.mean(axis=(0, 2))\n",
    "std_dev = data.std(axis=(0, 2))\n",
    "skewness = scipy.stats.skew(data, axis=(0, 2))\n",
    "kurtosis = scipy.stats.kurtosis(data, axis=(0, 2))\n",
    "\n",
    "average_max_post = average_response_post.max(axis=1)\n",
    "mean_post = data_post.mean(axis=(0, 2))\n",
    "std_dev_post = data_post.std(axis=(0, 2))\n",
    "skewness_post = scipy.stats.skew(data_post, axis=(0, 2))\n",
    "kurtosis_post = scipy.stats.kurtosis(data_post, axis=(0, 2))\n",
    "\n",
    "fig, axs = plt.subplots(3, 2)\n",
    "axs[0, 0].scatter(mean, mean_post)\n",
    "axs[0, 0].set_xlabel(\"Mean (pre)\")\n",
    "axs[0, 0].set_ylabel(\"Mean (post)\")\n",
    "\n",
    "axs[0, 1].scatter(std_dev, std_dev_post)\n",
    "axs[0, 1].set_xlabel(\"Standard Deviation (pre)\")\n",
    "axs[0, 1].set_ylabel(\"Standard Deviation (post)\")\n",
    "\n",
    "axs[1, 0].scatter(skewness, skewness_post)\n",
    "axs[1, 0].set_xlabel(\"Skewness (pre)\")\n",
    "axs[1, 0].set_ylabel(\"Skewness (post)\")\n",
    "\n",
    "axs[1, 1].scatter(kurtosis, kurtosis_post)\n",
    "axs[1, 1].set_xlabel(\"Kurtosis (pre)\")\n",
    "axs[1, 1].set_ylabel(\"Kurtosis (post)\")\n",
    "\n",
    "axs[2, 0].scatter(average_max, average_max_post)\n",
    "axs[2, 0].set_xlabel(\"Max Average Response (pre)\")\n",
    "axs[2, 0].set_ylabel(\"Max Average Response (post)\")\n",
    "\n",
    "# Remove the unused subplot\n",
    "fig.delaxes(axs[2, 1])\n",
    "\n",
    "plt.tight_layout()\n",
    "plt.show()"
   ]
  },
  {
   "cell_type": "markdown",
   "id": "67ce3f37",
   "metadata": {},
   "source": [
    "### Frequency domain\n"
   ]
  },
  {
   "cell_type": "code",
   "execution_count": null,
   "id": "858c5a3d",
   "metadata": {},
   "outputs": [],
   "source": [
    "bands = {\n",
    "    \"delta\": (0.5, 4),\n",
    "    \"theta\": (4, 8),\n",
    "    \"alpha\": (8, 12),\n",
    "    \"beta\": (12, 30),\n",
    "    \"gamma\": (30, 50),\n",
    "}"
   ]
  },
  {
   "cell_type": "code",
   "execution_count": null,
   "id": "cdb95fa6",
   "metadata": {},
   "outputs": [],
   "source": [
    "# Average power per frequency band\n",
    "psd = spTEP_pre.compute_psd(fmin=1.0, fmax=100.0)\n",
    "psd.plot(average=True)\n",
    "\n",
    "freqs = psd.freqs\n",
    "\n",
    "# Initialize a dictionary to hold the average power for each band\n",
    "avg_power = {}\n",
    "\n",
    "for band, (fmin, fmax) in bands.items():\n",
    "    band_indices = np.where((freqs >= fmin) & (freqs <= fmax))[0]\n",
    "    band_psd = psd.get_data()[:, band_indices]\n",
    "    avg_power[band] = np.mean(band_psd)\n",
    "\n",
    "print(avg_power)"
   ]
  },
  {
   "cell_type": "code",
   "execution_count": null,
   "id": "a67a1b43",
   "metadata": {},
   "outputs": [],
   "source": [
    "# Difference in average power\n",
    "psd_pre = epochs.compute_psd(fmin=1.0, fmax=100.0)\n",
    "psd_post = epochs_post.compute_psd(fmin=1.0, fmax=100.0)\n",
    "\n",
    "psd_pre_avg = psd_pre.average()\n",
    "psd_post_avg = psd_post.average()\n",
    "\n",
    "psd_diff = psd_post_avg.get_data() - psd_pre_avg.get_data()\n",
    "\n",
    "fig, ax = plt.subplots()\n",
    "\n",
    "# Plot the difference PSD\n",
    "ax.plot(psd_pre.freqs, psd_diff[0], label=\"Post - Pre\")\n",
    "\n",
    "# Add a legend\n",
    "ax.legend()\n",
    "\n",
    "# Show the plot\n",
    "plt.show()"
   ]
  },
  {
   "cell_type": "markdown",
   "id": "3f18ea99",
   "metadata": {},
   "source": [
    "### Time-frequency domain\n"
   ]
  },
  {
   "cell_type": "code",
   "execution_count": null,
   "id": "e6634a7d",
   "metadata": {},
   "outputs": [],
   "source": [
    "# Compute the wavelet transform of the data\n",
    "events, event_dict = mne.events_from_annotations(spTEP_pre)\n",
    "epochs = mne.Epochs(\n",
    "    spTEP_pre,\n",
    "    events,\n",
    "    event_id=event_dict,\n",
    "    tmin=0,\n",
    "    tmax=10,\n",
    "    baseline=None,\n",
    "    preload=True,\n",
    ")\n",
    "\n",
    "frequencies = np.arange(1, 100, 2)\n",
    "n_cycles = frequencies / 2\n",
    "\n",
    "interpolated_start = -0.002\n",
    "interpolated_end = 0.005\n",
    "interpolated_start_idx = int(interpolated_start * epochs.info[\"sfreq\"])\n",
    "interpolated_end_idx = int(interpolated_end * epochs.info[\"sfreq\"])\n",
    "\n",
    "epochs_data = epochs.get_data()[:, :, :interpolated_start_idx]\n",
    "epochs_data = np.concatenate(\n",
    "    [epochs_data, epochs.get_data()[:, :, interpolated_end_idx:]], axis=2\n",
    ")\n",
    "epochs_cleaned = mne.EpochsArray(epochs_data, epochs.info, events=epochs.events)\n",
    "\n",
    "\n",
    "wavelets = mne.time_frequency.tfr_morlet(\n",
    "    epochs_cleaned, freqs=frequencies, n_cycles=5, n_jobs=-1\n",
    ")"
   ]
  },
  {
   "cell_type": "code",
   "execution_count": null,
   "id": "b44c4a7b",
   "metadata": {},
   "outputs": [],
   "source": [
    "# Compute the wavelet transform of the data\n",
    "events, event_dict = mne.events_from_annotations(spTEP_pre)\n",
    "n_trials = 20\n",
    "epochs = mne.Epochs(\n",
    "    spTEP_pre,\n",
    "    events,\n",
    "    event_id=event_dict,\n",
    "    tmin=0,\n",
    "    tmax=n_trials,\n",
    "    baseline=None,\n",
    "    preload=True,\n",
    ")\n",
    "\n",
    "frequencies = np.arange(1, 100, 2)\n",
    "\n",
    "wavelets = mne.time_frequency.tfr_morlet(\n",
    "    epochs, freqs=frequencies, n_cycles=n_trials / 2, n_jobs=-1\n",
    ")"
   ]
  },
  {
   "cell_type": "code",
   "execution_count": null,
   "id": "879cb88b",
   "metadata": {},
   "outputs": [],
   "source": [
    "# INDIVIDUAL PLOTS\n",
    "\n",
    "power = wavelets[0].data\n",
    "avg_power = np.mean(power, axis=0)\n",
    "\n",
    "fig, ax = plt.subplots()\n",
    "\n",
    "# Create the heatmap\n",
    "cax = ax.imshow(avg_power, aspect=\"auto\", cmap=\"hot\", origin=\"lower\")\n",
    "\n",
    "# Add a colorbar\n",
    "fig.colorbar(cax)\n",
    "\n",
    "# Set the labels for the x and y axes and the title\n",
    "ax.set_xlabel(\"Time\")\n",
    "ax.set_ylabel(\"Frequency\")\n",
    "ax.set_title(\"Average Power\")\n",
    "\n",
    "# Show the plot\n",
    "plt.show()\n",
    "\n",
    "# GROUPED PLOTS\n",
    "freqs = wavelets[0].freqs\n",
    "\n",
    "n_rows = len(bands)\n",
    "n_cols = 1\n",
    "\n",
    "# Create a figure with multiple subplots\n",
    "fig, axs = plt.subplots(n_rows, n_cols, figsize=(10, 20))\n",
    "\n",
    "for ax, (band, (fmin, fmax)) in zip(axs, bands.items()):\n",
    "    # Find the indices that correspond to this frequency band\n",
    "    band_indices = np.where((freqs >= fmin) & (freqs <= fmax))[0]\n",
    "\n",
    "    # Slice the power data to include only these frequencies\n",
    "    band_power = power[:, band_indices, :]\n",
    "\n",
    "    # Compute the average power across electrodes\n",
    "    avg_power = np.mean(band_power, axis=0)\n",
    "\n",
    "    # Create the heatmap\n",
    "    cax = ax.imshow(avg_power, aspect=\"auto\", cmap=\"hot\", origin=\"lower\")\n",
    "\n",
    "    ax.set_xlim([None, 10000])\n",
    "\n",
    "    # Add a colorbar\n",
    "    fig.colorbar(cax, ax=ax)\n",
    "\n",
    "    # Set the labels for the x and y axes and the title\n",
    "    ax.set_xlabel(\"Time\")\n",
    "    ax.set_ylabel(\"Frequency\")\n",
    "    ax.set_title(f\"Average Power ({band} band)\")\n",
    "\n",
    "# Show the plot\n",
    "plt.tight_layout()\n",
    "plt.show()"
   ]
  },
  {
   "cell_type": "markdown",
   "id": "28248c77",
   "metadata": {},
   "source": [
    "## Clustering\n"
   ]
  },
  {
   "cell_type": "markdown",
   "id": "5361125b",
   "metadata": {},
   "source": []
  },
  {
   "cell_type": "code",
   "execution_count": 8,
   "id": "97b82c40",
   "metadata": {},
   "outputs": [
    {
     "name": "stdout",
     "output_type": "stream",
     "text": [
      "Used Annotations descriptions: ['New Segment/', 'Stimulus/S  1']\n"
     ]
    }
   ],
   "source": [
    "clone = spTEP_pre_raw.copy()\n",
    "\n",
    "sampling_rate = clone.info[\"sfreq\"]\n",
    "events, event_dict = mne.events_from_annotations(clone)\n",
    "tms_indices = [event[0] for event in events if event[2] == 1]"
   ]
  },
  {
   "cell_type": "code",
   "execution_count": 4,
   "id": "cce0cb91",
   "metadata": {},
   "outputs": [],
   "source": [
    "def remove_EOG(eeg_data):\n",
    "    if \"HEOG\" in eeg_data.ch_names:\n",
    "        eeg_data.drop_channels([\"HEOG\"])\n",
    "    if \"VEOG\" in eeg_data.ch_names:\n",
    "        eeg_data.drop_channels([\"VEOG\"])\n",
    "\n",
    "\n",
    "def remove_range(\n",
    "    eeg_data_raw, tms_indices, start, end, sampling_rate, interpolate=True\n",
    "):\n",
    "    \"\"\"Replace all the data in the range around the TMS pulse with 0\n",
    "\n",
    "    Args:\n",
    "        eeg_data (RawBrainVision): Raw EEG data\n",
    "        tms_indices (array): Timestamps of the TMS pulses\n",
    "        start (int): Time before the TMS pulse to start removing data\n",
    "        end (int): Time after the TMS pulse to stop removing data\n",
    "        sampling_rate (int): Rate at which the EEG was sampled\n",
    "\n",
    "    Returns:\n",
    "        np.array: Filtered data\n",
    "    \"\"\"\n",
    "    eeg_data = eeg_data_raw.get_data()\n",
    "    num_electrodes = eeg_data.shape[0]\n",
    "    if interpolate:\n",
    "        for tms_index in tms_indices:\n",
    "            start_index, end_index = calculate_range_indices(\n",
    "                tms_index, start, end, sampling_rate\n",
    "            )\n",
    "            for i in range(num_electrodes):\n",
    "                x = [start_index - 1, end_index + 1]\n",
    "                y = [eeg_data[i, start_index - 1], eeg_data[i, end_index + 1]]\n",
    "                x_new = np.arange(start_index, end_index + 1)\n",
    "                eeg_data[i, start_index : end_index + 1] = np.interp(x_new, x, y)\n",
    "\n",
    "    else:\n",
    "        for tms_index in tms_indices:\n",
    "            start_index, end_index = calculate_range_indices(\n",
    "                tms_index, start, end, sampling_rate\n",
    "            )\n",
    "            for i in range(num_electrodes):\n",
    "                eeg_data[i, start_index : end_index + 1] = 0\n",
    "\n",
    "    eeg_data_raw._data = eeg_data\n",
    "\n",
    "\n",
    "def downsample(eeg_data, sample_rate=1000):\n",
    "    eeg_data.resample(sample_rate, npad=\"auto\")\n",
    "\n",
    "\n",
    "def calculate_range_indices(tms_index, start, end, sampling_rate):\n",
    "    samples_before = int(start * sampling_rate)\n",
    "    samples_after = int(end * sampling_rate)\n",
    "\n",
    "    start_index = max(0, tms_index - samples_before)\n",
    "    end_index = tms_index + samples_after\n",
    "\n",
    "    return start_index, end_index\n",
    "\n",
    "\n",
    "def ICA_filter(eeg_data, events, event_dict, baseline=(-1, -0.002)):\n",
    "    epochs = mne.Epochs(\n",
    "        eeg_data,\n",
    "        events,\n",
    "        event_id=event_dict,\n",
    "        tmin=-1,\n",
    "        tmax=1,\n",
    "        baseline=baseline,\n",
    "        preload=True,\n",
    "    )\n",
    "    ica = mne.preprocessing.ICA(n_components=20, random_state=42)\n",
    "    ica.fit(epochs)\n",
    "    muscle_idx_auto, scores = ica.find_bads_muscle(eeg_data)\n",
    "    ica.exclude = muscle_idx_auto\n",
    "    eeg_data = ica.apply(eeg_data)\n",
    "\n",
    "\n",
    "def bandpass(eeg_data, low_freq=1, high_freq=90):\n",
    "    eeg_data.filter(low_freq, high_freq)\n",
    "\n",
    "\n",
    "def notch(eeg_data, freqs=[50]):\n",
    "    eeg_data.notch_filter(freqs)\n",
    "\n",
    "\n",
    "def rereference(eeg_data):\n",
    "    # mne.set_eeg_reference(eeg_data, ref_channels=['Cz'], projection=False)\n",
    "    mne.set_eeg_reference(eeg_data, ref_channels=\"average\")\n",
    "\n",
    "\n",
    "def preprocess_spTEP(eeg_data):\n",
    "    \"\"\"Filters the EEG data and removes artifacts. Changes the original data in place.\n",
    "\n",
    "    POSSIBLE IMPROVEMENT: demeaning instead of baseline correction\n",
    "\n",
    "    Args:\n",
    "        eeg_data (RawBrainVision): RawBrainVision object containing the EEG data\n",
    "\n",
    "    Returns:\n",
    "        np.array: numpy array of the preprocessed EEG data\n",
    "    \"\"\"\n",
    "    sampling_rate = eeg_data.info[\"sfreq\"]\n",
    "    events, event_dict = mne.events_from_annotations(eeg_data)\n",
    "    tms_indices = [event[0] for event in events if event[2] == 1]\n",
    "\n",
    "    remove_EOG(eeg_data)\n",
    "    remove_range(eeg_data, tms_indices, 0.002, 0.005, sampling_rate)\n",
    "    downsample(eeg_data)\n",
    "    ICA_filter(\n",
    "        eeg_data, events, event_dict\n",
    "    )  # TODO: apply ICA filter using a rule, not automatic detection\n",
    "    bandpass(eeg_data)\n",
    "    notch(eeg_data)\n",
    "    ICA_filter(eeg_data, events, event_dict)\n",
    "    rereference(eeg_data)\n",
    "    return eeg_data"
   ]
  },
  {
   "cell_type": "code",
   "execution_count": 9,
   "id": "a47b15f8",
   "metadata": {},
   "outputs": [
    {
     "name": "stdout",
     "output_type": "stream",
     "text": [
      "Used Annotations descriptions: ['New Segment/', 'Stimulus/S  1']\n",
      "Not setting metadata\n",
      "151 matching events found\n",
      "Applying baseline correction (mode: mean)\n",
      "0 projection items activated\n",
      "Using data from preloaded Raw for 151 events and 2001 original time points ...\n",
      "139 bad epochs dropped\n",
      "Fitting ICA to data using 62 channels (please be patient, this may take a while)\n",
      "Selecting by number: 20 components\n"
     ]
    },
    {
     "name": "stderr",
     "output_type": "stream",
     "text": [
      "C:\\Users\\Tomas\\AppData\\Local\\Temp\\ipykernel_22716\\1530077958.py:72: RuntimeWarning: The data has not been high-pass filtered. For good ICA performance, it should be high-pass filtered (e.g., with a 1.0 Hz lower bound) before fitting ICA.\n",
      "  ica.fit(epochs)\n",
      "C:\\Users\\Tomas\\AppData\\Local\\Temp\\ipykernel_22716\\1530077958.py:72: RuntimeWarning: The epochs you passed to ICA.fit() were baseline-corrected. However, we suggest to fit ICA only on data that has been high-pass filtered, but NOT baseline-corrected.\n",
      "  ica.fit(epochs)\n"
     ]
    },
    {
     "name": "stdout",
     "output_type": "stream",
     "text": [
      "Fitting ICA took 0.7s.\n",
      "Effective window size : 2.048 (s)\n",
      "Applying ICA to Raw instance\n",
      "    Transforming to ICA space (20 components)\n",
      "    Zeroing out 1 ICA component\n",
      "    Projecting back using 62 PCA components\n",
      "Filtering raw data in 1 contiguous segment\n",
      "Setting up band-pass filter from 1 - 90 Hz\n",
      "\n",
      "FIR filter parameters\n",
      "---------------------\n",
      "Designing a one-pass, zero-phase, non-causal bandpass filter:\n",
      "- Windowed time-domain design (firwin) method\n",
      "- Hamming window with 0.0194 passband ripple and 53 dB stopband attenuation\n",
      "- Lower passband edge: 1.00\n",
      "- Lower transition bandwidth: 1.00 Hz (-6 dB cutoff frequency: 0.50 Hz)\n",
      "- Upper passband edge: 90.00 Hz\n",
      "- Upper transition bandwidth: 22.50 Hz (-6 dB cutoff frequency: 101.25 Hz)\n",
      "- Filter length: 3301 samples (3.301 s)\n",
      "\n"
     ]
    },
    {
     "name": "stderr",
     "output_type": "stream",
     "text": [
      "[Parallel(n_jobs=1)]: Done  17 tasks      | elapsed:    0.2s\n"
     ]
    },
    {
     "name": "stdout",
     "output_type": "stream",
     "text": [
      "Filtering raw data in 1 contiguous segment\n",
      "Setting up band-stop filter from 49 - 51 Hz\n",
      "\n",
      "FIR filter parameters\n",
      "---------------------\n",
      "Designing a one-pass, zero-phase, non-causal bandstop filter:\n",
      "- Windowed time-domain design (firwin) method\n",
      "- Hamming window with 0.0194 passband ripple and 53 dB stopband attenuation\n",
      "- Lower passband edge: 49.38\n",
      "- Lower transition bandwidth: 0.50 Hz (-6 dB cutoff frequency: 49.12 Hz)\n",
      "- Upper passband edge: 50.62 Hz\n",
      "- Upper transition bandwidth: 0.50 Hz (-6 dB cutoff frequency: 50.88 Hz)\n",
      "- Filter length: 6601 samples (6.601 s)\n",
      "\n"
     ]
    },
    {
     "name": "stderr",
     "output_type": "stream",
     "text": [
      "[Parallel(n_jobs=1)]: Done  17 tasks      | elapsed:    0.3s\n"
     ]
    },
    {
     "name": "stdout",
     "output_type": "stream",
     "text": [
      "Not setting metadata\n",
      "151 matching events found\n",
      "Applying baseline correction (mode: mean)\n",
      "0 projection items activated\n",
      "Using data from preloaded Raw for 151 events and 2001 original time points ...\n",
      "139 bad epochs dropped\n",
      "Fitting ICA to data using 62 channels (please be patient, this may take a while)\n",
      "Selecting by number: 20 components\n"
     ]
    },
    {
     "name": "stderr",
     "output_type": "stream",
     "text": [
      "C:\\Users\\Tomas\\AppData\\Local\\Temp\\ipykernel_22716\\1530077958.py:72: RuntimeWarning: The epochs you passed to ICA.fit() were baseline-corrected. However, we suggest to fit ICA only on data that has been high-pass filtered, but NOT baseline-corrected.\n",
      "  ica.fit(epochs)\n"
     ]
    },
    {
     "name": "stdout",
     "output_type": "stream",
     "text": [
      "Fitting ICA took 0.6s.\n",
      "Effective window size : 2.048 (s)\n",
      "Applying ICA to Raw instance\n",
      "    Transforming to ICA space (20 components)\n",
      "    Zeroing out 0 ICA components\n",
      "    Projecting back using 62 PCA components\n",
      "EEG channel type selected for re-referencing\n",
      "Applying average reference.\n",
      "Applying a custom ('EEG',) reference.\n"
     ]
    }
   ],
   "source": [
    "clone = preprocess_spTEP(clone)"
   ]
  },
  {
   "cell_type": "markdown",
   "metadata": {},
   "source": [
    "```py\n",
    "remove_EOG(eeg_data)\n",
    "remove_range(eeg_data, tms_indices, 0.002, 0.005, sampling_rate)\n",
    "downsample(eeg_data)\n",
    "ICA_filter(\n",
    "    eeg_data, events, event_dict\n",
    ")  # TODO: apply ICA filter using a rule, not automatic detection\n",
    "bandpass(eeg_data)\n",
    "notch(eeg_data)\n",
    "ICA_filter(eeg_data, events, event_dict)\n",
    "rereference(eeg_data)\n",
    "```\n"
   ]
  },
  {
   "cell_type": "code",
   "execution_count": 13,
   "id": "387f4b9c",
   "metadata": {},
   "outputs": [
    {
     "name": "stdout",
     "output_type": "stream",
     "text": [
      "Filtering raw data in 1 contiguous segment\n",
      "Setting up band-pass filter from 1 - 90 Hz\n",
      "\n",
      "FIR filter parameters\n",
      "---------------------\n",
      "Designing a one-pass, zero-phase, non-causal bandpass filter:\n",
      "- Windowed time-domain design (firwin) method\n",
      "- Hamming window with 0.0194 passband ripple and 53 dB stopband attenuation\n",
      "- Lower passband edge: 1.00\n",
      "- Lower transition bandwidth: 1.00 Hz (-6 dB cutoff frequency: 0.50 Hz)\n",
      "- Upper passband edge: 90.00 Hz\n",
      "- Upper transition bandwidth: 22.50 Hz (-6 dB cutoff frequency: 101.25 Hz)\n",
      "- Filter length: 3301 samples (3.301 s)\n",
      "\n"
     ]
    },
    {
     "name": "stderr",
     "output_type": "stream",
     "text": [
      "[Parallel(n_jobs=1)]: Done  17 tasks      | elapsed:    0.3s\n"
     ]
    }
   ],
   "source": [
    "# remove_EOG(clone)\n",
    "# remove_range(clone, tms_indices, 0.002, 0.005, sampling_rate)\n",
    "# downsample(clone)\n",
    "# ICA_filter(clone, events, event_dict)\n",
    "# bandpass(clone)"
   ]
  },
  {
   "cell_type": "code",
   "execution_count": 15,
   "id": "117f66c5",
   "metadata": {},
   "outputs": [
    {
     "name": "stdout",
     "output_type": "stream",
     "text": [
      "Used Annotations descriptions: ['New Segment/', 'Stimulus/S  1']\n",
      "Not setting metadata\n",
      "151 matching events found\n",
      "No baseline correction applied\n",
      "0 projection items activated\n",
      "Using data from preloaded Raw for 151 events and 251 original time points ...\n",
      "1 bad epochs dropped\n"
     ]
    }
   ],
   "source": [
    "utils.plot_average_response(clone, tmin=-0.05, tmax=0.2)"
   ]
  },
  {
   "cell_type": "code",
   "execution_count": null,
   "id": "832b5143",
   "metadata": {},
   "outputs": [],
   "source": []
  }
 ],
 "metadata": {
  "kernelspec": {
   "display_name": "Python 3 (ipykernel)",
   "language": "python",
   "name": "python3"
  },
  "language_info": {
   "codemirror_mode": {
    "name": "ipython",
    "version": 3
   },
   "file_extension": ".py",
   "mimetype": "text/x-python",
   "name": "python",
   "nbconvert_exporter": "python",
   "pygments_lexer": "ipython3",
   "version": "3.12.0"
  }
 },
 "nbformat": 4,
 "nbformat_minor": 5
}
