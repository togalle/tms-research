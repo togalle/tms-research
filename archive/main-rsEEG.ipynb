{
 "cells": [
  {
   "cell_type": "code",
   "execution_count": null,
   "metadata": {},
   "outputs": [],
   "source": [
    "%pip install mne scikit-learn mne-icalabel torch"
   ]
  },
  {
   "cell_type": "code",
   "execution_count": null,
   "metadata": {},
   "outputs": [],
   "source": [
    "# Imports\n",
    "import os\n",
    "import pandas as pd\n",
    "from ipywidgets import *\n",
    "import numpy as np\n",
    "import mne\n",
    "from mne.preprocessing import ICA\n",
    "\n",
    "# import torch\n",
    "from mne_icalabel import label_components\n",
    "\n",
    "import matplotlib.pyplot as plt\n",
    "from mne.preprocessing import ICA\n",
    "import scipy\n",
    "\n",
    "import preprocessing\n",
    "import utils\n",
    "\n",
    "# Specify graph rendering method\n",
    "# %matplotlib widget\n",
    "plt.switch_backend(\"TkAgg\")"
   ]
  },
  {
   "cell_type": "code",
   "execution_count": null,
   "metadata": {},
   "outputs": [],
   "source": [
    "# Currently for 1 patient, will be generalized into a pipeline for all patients\n",
    "\n",
    "DATASET_PATH = \"./dataset\"\n",
    "FILENAME_TEMPLATE = \"TMS-EEG-H_02_S1b_{}_{}.vhdr\"\n",
    "\n",
    "rsEEG_pre_raw = mne.io.read_raw_brainvision(\n",
    "    os.path.join(DATASET_PATH, FILENAME_TEMPLATE.format(\"rsEEG\", \"pre\")), preload=True\n",
    ")\n",
    "\n",
    "# rsEEG_post_raw = mne.io.read_raw_brainvision(os.path.join(DATASET_PATH, FILENAME_TEMPLATE.format(\"rsEEG\", \"post\")), preload=True)"
   ]
  },
  {
   "cell_type": "code",
   "execution_count": null,
   "metadata": {},
   "outputs": [],
   "source": [
    "rsEEG_pre_raw.plot()"
   ]
  },
  {
   "cell_type": "code",
   "execution_count": null,
   "metadata": {},
   "outputs": [],
   "source": [
    "clone = rsEEG_pre_raw.copy()"
   ]
  },
  {
   "cell_type": "code",
   "execution_count": null,
   "metadata": {},
   "outputs": [],
   "source": [
    "clone = preprocessing.preprocess_rsEEG(clone)"
   ]
  },
  {
   "cell_type": "code",
   "execution_count": null,
   "metadata": {},
   "outputs": [],
   "source": [
    "clone.plot()"
   ]
  },
  {
   "cell_type": "code",
   "execution_count": null,
   "metadata": {},
   "outputs": [],
   "source": [
    "data = clone.get_data()\n",
    "\n",
    "widths = np.arange(1, 31)\n",
    "\n",
    "cwtmatr = [scipy.signal.cwt(channel, scipy.signal.ricker, widths) for channel in data]"
   ]
  },
  {
   "cell_type": "code",
   "execution_count": null,
   "metadata": {},
   "outputs": [],
   "source": [
    "cwtmatr"
   ]
  },
  {
   "cell_type": "code",
   "execution_count": null,
   "metadata": {},
   "outputs": [],
   "source": [
    "import matplotlib.pyplot as plt\n",
    "\n",
    "# Assume cwtmatr is the result of the wavelet transform\n",
    "# Let's visualize the transform for the first channel\n",
    "channel_number = 0\n",
    "plt.imshow(\n",
    "    np.abs(cwtmatr[channel_number]),\n",
    "    aspect=\"auto\",\n",
    "    cmap=\"hot\",\n",
    "    extent=[-1, 1, 1, max(widths)],\n",
    ")\n",
    "plt.colorbar(label=\"Magnitude\")\n",
    "plt.xlabel(\"Time (s)\")\n",
    "plt.ylabel(\"Scale\")\n",
    "plt.title(\"Wavelet transform of channel {}\".format(channel_number + 1))\n",
    "plt.show()"
   ]
  },
  {
   "cell_type": "code",
   "execution_count": null,
   "metadata": {},
   "outputs": [],
   "source": [
    "# Compute the wavelet transform of the data\n",
    "epoch_duration = 5\n",
    "overlap = 1\n",
    "sfreq = clone.info[\"sfreq\"]\n",
    "duration_samples = int(epoch_duration * sfreq)\n",
    "overlap_samples = int(overlap * sfreq)\n",
    "\n",
    "onset = np.arange(\n",
    "    0,\n",
    "    clone.times[-1] * sfreq - duration_samples,\n",
    "    duration_samples - overlap_samples,\n",
    ")\n",
    "\n",
    "events = np.vstack((onset, np.zeros_like(onset), np.ones_like(onset))).T.astype(int)\n",
    "event_id = 1\n",
    "epochs = mne.Epochs(\n",
    "    clone,\n",
    "    events,\n",
    "    event_id=event_id,\n",
    "    tmin=0,\n",
    "    tmax=epoch_duration,\n",
    "    baseline=None,\n",
    "    preload=True,\n",
    ")\n",
    "\n",
    "frequencies = np.arange(1, 100)\n",
    "\n",
    "wavelets = mne.time_frequency.tfr_morlet(\n",
    "    epochs, freqs=frequencies, n_cycles=5, n_jobs=-1\n",
    ")"
   ]
  },
  {
   "cell_type": "code",
   "execution_count": null,
   "metadata": {},
   "outputs": [],
   "source": [
    "# INDIVIDUAL PLOTS\n",
    "bands = {\n",
    "    \"delta\": (0.5, 4),\n",
    "    \"theta\": (4, 8),\n",
    "    \"alpha\": (8, 12),\n",
    "    \"beta\": (12, 30),\n",
    "    \"gamma\": (30, 50),\n",
    "}\n",
    "power = wavelets[0].data\n",
    "avg_power = np.mean(power, axis=0)\n",
    "\n",
    "fig, ax = plt.subplots()\n",
    "\n",
    "# Create the heatmap\n",
    "cax = ax.imshow(avg_power, aspect=\"auto\", cmap=\"hot\", origin=\"lower\")\n",
    "\n",
    "# Add a colorbar\n",
    "fig.colorbar(cax)\n",
    "\n",
    "# Set the labels for the x and y axes and the title\n",
    "ax.set_xlabel(\"Time\")\n",
    "ax.set_ylabel(\"Frequency\")\n",
    "ax.set_title(\"Average Power\")\n",
    "\n",
    "# Show the plot\n",
    "plt.show()\n",
    "\n",
    "# GROUPED PLOTS\n",
    "freqs = wavelets[0].freqs\n",
    "\n",
    "n_rows = len(bands)\n",
    "n_cols = 1\n",
    "\n",
    "# Create a figure with multiple subplots\n",
    "fig, axs = plt.subplots(n_rows, n_cols, figsize=(10, 20))\n",
    "\n",
    "for ax, (band, (fmin, fmax)) in zip(axs, bands.items()):\n",
    "    # Find the indices that correspond to this frequency band\n",
    "    band_indices = np.where((freqs >= fmin) & (freqs <= fmax))[0]\n",
    "\n",
    "    # Slice the power data to include only these frequencies\n",
    "    band_power = power[:, band_indices, :]\n",
    "\n",
    "    # Compute the average power across electrodes\n",
    "    avg_power = np.mean(band_power, axis=0)\n",
    "\n",
    "    # Create the heatmap\n",
    "    cax = ax.imshow(avg_power, aspect=\"auto\", cmap=\"hot\", origin=\"lower\")\n",
    "\n",
    "    ax.set_xlim([None, 200])\n",
    "\n",
    "    # Add a colorbar\n",
    "    fig.colorbar(cax, ax=ax)\n",
    "\n",
    "    # Set the labels for the x and y axes and the title\n",
    "    ax.set_xlabel(\"Time\")\n",
    "    ax.set_ylabel(\"Frequency\")\n",
    "    ax.set_title(f\"Average Power ({band} band)\")\n",
    "\n",
    "# Show the plot\n",
    "plt.tight_layout()\n",
    "plt.show()"
   ]
  },
  {
   "cell_type": "code",
   "execution_count": null,
   "metadata": {},
   "outputs": [],
   "source": []
  }
 ],
 "metadata": {
  "kernelspec": {
   "display_name": "tms",
   "language": "python",
   "name": "python3"
  },
  "language_info": {
   "codemirror_mode": {
    "name": "ipython",
    "version": 3
   },
   "file_extension": ".py",
   "mimetype": "text/x-python",
   "name": "python",
   "nbconvert_exporter": "python",
   "pygments_lexer": "ipython3",
   "version": "3.12.0"
  }
 },
 "nbformat": 4,
 "nbformat_minor": 2
}
