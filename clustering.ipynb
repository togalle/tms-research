{
 "cells": [
  {
   "cell_type": "markdown",
   "metadata": {},
   "source": [
    "# Clustering\n",
    "When the features have been extracted, there's now a list of files containing one entry per epoch. Clustering can be applied in 3 main ways to check any patterns in the data:\n",
    "1. Patients\n",
    "2. Pre/Post procedure\n",
    "3. cTBS/iTBS/sham"
   ]
  },
  {
   "cell_type": "code",
   "execution_count": null,
   "metadata": {},
   "outputs": [],
   "source": [
    "import pandas as pd\n",
    "from sklearn.cluster import KMeans\n",
    "from sklearn import metrics\n",
    "import os"
   ]
  },
  {
   "cell_type": "code",
   "execution_count": null,
   "metadata": {},
   "outputs": [],
   "source": [
    "# List of CSV files\n",
    "csv_files = [\n",
    "    \"features_test_1.csv\",\n",
    "    \"features_test_2.csv\"\n",
    "    ]\n",
    "df = pd.concat((pd.read_csv(f, header=[0, 1]) for f in csv_files))\n",
    "# print(f\"Combined DataFrame shape: {df.shape}\")\n",
    "\n",
    "# print(df) # (n_samples, n_features * n_channels)\n",
    "\n",
    "# # Apply KMeans clustering\n",
    "kmeans = KMeans(n_clusters=2)\n",
    "clusters = kmeans.fit_predict(df)\n",
    "\n",
    "# # Evaluate the clustering results\n",
    "# score = metrics.adjusted_rand_score(your_labels, clusters)\n",
    "\n",
    "from sklearn.decomposition import PCA\n",
    "import matplotlib.pyplot as plt\n",
    "\n",
    "pca = PCA(n_components=2)\n",
    "df_reduced = pca.fit_transform(df)\n",
    "\n",
    "plt.scatter(df_reduced[:, 0], df_reduced[:, 1], c=clusters, cmap='viridis')\n",
    "plt.title(\"PCA of Clusters\")\n",
    "plt.xlabel(\"Principal Component 1\")\n",
    "plt.ylabel(\"Principal Component 2\")\n",
    "plt.colorbar(label='Cluster Label')\n",
    "plt.show()\n"
   ]
  },
  {
   "cell_type": "code",
   "execution_count": null,
   "metadata": {},
   "outputs": [],
   "source": [
    "feature_files = os.listdir(\"features\")\n",
    "\n",
    "feature_files = [file for file in feature_files if \"TMS-EEG-H\" in file and \"rsEEG_pre-epo.fif\" in file]\n",
    "\n",
    "dfs = [pd.read_csv(os.path.join(\"features\", file)) for file in feature_files]\n",
    "\n",
    "print(feature_files)\n",
    "\n",
    "df = pd.concat(dfs)\n",
    "\n",
    "\n",
    "# # Apply KMeans clustering\n",
    "kmeans = KMeans(n_clusters=4)\n",
    "clusters = kmeans.fit_predict(df)\n",
    "\n",
    "# # Evaluate the clustering results\n",
    "# score = metrics.adjusted_rand_score(your_labels, clusters)\n",
    "\n",
    "from sklearn.decomposition import PCA\n",
    "import matplotlib.pyplot as plt\n",
    "\n",
    "pca = PCA(n_components=2)\n",
    "df_reduced = pca.fit_transform(df)\n",
    "\n",
    "plt.scatter(df_reduced[:, 0], df_reduced[:, 1], c=clusters, cmap='viridis')\n",
    "plt.title(\"PCA of Clusters\")\n",
    "plt.xlabel(\"Principal Component 1\")\n",
    "plt.ylabel(\"Principal Component 2\")\n",
    "plt.colorbar(label='Cluster Label')\n",
    "plt.show()"
   ]
  },
  {
   "cell_type": "code",
   "execution_count": null,
   "metadata": {},
   "outputs": [],
   "source": []
  }
 ],
 "metadata": {
  "kernelspec": {
   "display_name": "tms",
   "language": "python",
   "name": "python3"
  },
  "language_info": {
   "codemirror_mode": {
    "name": "ipython",
    "version": 3
   },
   "file_extension": ".py",
   "mimetype": "text/x-python",
   "name": "python",
   "nbconvert_exporter": "python",
   "pygments_lexer": "ipython3",
   "version": "3.12.0"
  }
 },
 "nbformat": 4,
 "nbformat_minor": 2
}
