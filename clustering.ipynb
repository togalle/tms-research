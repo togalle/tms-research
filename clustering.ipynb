{
 "cells": [
  {
   "cell_type": "markdown",
   "metadata": {},
   "source": [
    "# Clustering\n",
    "When the features have been extracted, there's now a list of files containing one entry per epoch. Clustering can be applied in 3 main ways to check any patterns in the data:\n",
    "1. Patients\n",
    "2. Pre/Post procedure\n",
    "3. cTBS/iTBS/sham"
   ]
  },
  {
   "cell_type": "code",
   "execution_count": 3,
   "metadata": {},
   "outputs": [],
   "source": [
    "import pandas as pd\n",
    "from sklearn.cluster import KMeans\n",
    "from sklearn import metrics"
   ]
  },
  {
   "cell_type": "code",
   "execution_count": 17,
   "metadata": {},
   "outputs": [
    {
     "name": "stdout",
     "output_type": "stream",
     "text": [
      "features_test_1.csv shape: (296, 124)\n",
      "features_test_2.csv shape: (317, 124)\n",
      "Combined DataFrame shape: (613, 124)\n",
      "         variance                                                          \\\n",
      "                0             1             2             3             4   \n",
      "0    2.207529e-10  1.740383e-10  1.695626e-10  1.562115e-10  1.493576e-10   \n",
      "1    1.917251e-10  1.696784e-10  1.679655e-10  1.602538e-10  1.533463e-10   \n",
      "2    3.605470e-11  4.930622e-11  3.319117e-11  2.885917e-11  5.188137e-11   \n",
      "3    1.680861e-10  1.435800e-10  1.418973e-10  1.362965e-10  1.177417e-10   \n",
      "4    2.944722e-11  3.961010e-11  2.339927e-11  1.835749e-11  3.633309e-11   \n",
      "..            ...           ...           ...           ...           ...   \n",
      "312  6.459162e-11  5.897869e-11  5.240706e-11  5.547596e-11  7.274785e-11   \n",
      "313  9.519563e-11  1.010768e-10  8.840140e-11  9.755105e-11  1.104553e-10   \n",
      "314  1.164130e-10  1.090147e-10  1.013230e-10  1.210561e-10  1.109526e-10   \n",
      "315  1.673056e-10  1.491268e-10  1.366254e-10  1.378585e-10  1.547462e-10   \n",
      "316  1.187604e-10  9.927885e-11  9.028902e-11  9.469325e-11  9.924643e-11   \n",
      "\n",
      "                                                                           \\\n",
      "                5             6             7             8             9   \n",
      "0    1.114457e-10  1.056786e-10  1.133917e-10  1.349869e-10  1.154194e-10   \n",
      "1    1.289902e-10  1.271677e-10  1.309332e-10  1.526508e-10  1.235321e-10   \n",
      "2    3.142817e-11  2.246137e-11  2.416186e-11  2.617601e-11  2.992351e-11   \n",
      "3    1.021404e-10  1.085941e-10  1.211849e-10  1.403864e-10  9.012096e-11   \n",
      "4    1.556137e-11  1.342434e-11  1.632492e-11  2.547091e-11  2.179291e-11   \n",
      "..            ...           ...           ...           ...           ...   \n",
      "312  5.727099e-11  4.997160e-11  5.026356e-11  5.241713e-11  4.476790e-11   \n",
      "313  9.138677e-11  7.446169e-11  7.986475e-11  9.360800e-11  6.778511e-11   \n",
      "314  1.005068e-10  8.389468e-11  9.438947e-11  1.162111e-10  6.762108e-11   \n",
      "315  1.280058e-10  1.043900e-10  1.147068e-10  1.213896e-10  1.033495e-10   \n",
      "316  7.023566e-11  5.633298e-11  7.293489e-11  1.064593e-10  6.732983e-11   \n",
      "\n",
      "     ...       std                                                    \\\n",
      "     ...        52        53        54        55        56        57   \n",
      "0    ...  0.000008  0.000008  0.000008  0.000009  0.000021  0.000019   \n",
      "1    ...  0.000011  0.000011  0.000011  0.000011  0.000026  0.000027   \n",
      "2    ...  0.000004  0.000003  0.000004  0.000004  0.000006  0.000006   \n",
      "3    ...  0.000008  0.000009  0.000009  0.000010  0.000024  0.000023   \n",
      "4    ...  0.000003  0.000002  0.000003  0.000003  0.000004  0.000004   \n",
      "..   ...       ...       ...       ...       ...       ...       ...   \n",
      "312  ...  0.000007  0.000006  0.000005  0.000005  0.000008  0.000008   \n",
      "313  ...  0.000008  0.000007  0.000008  0.000008  0.000011  0.000011   \n",
      "314  ...  0.000007  0.000008  0.000011  0.000011  0.000015  0.000015   \n",
      "315  ...  0.000009  0.000010  0.000012  0.000011  0.000017  0.000016   \n",
      "316  ...  0.000007  0.000008  0.000009  0.000008  0.000013  0.000013   \n",
      "\n",
      "                                             \n",
      "           58        59        60        61  \n",
      "0    0.000020  0.000031  0.000035  0.000030  \n",
      "1    0.000027  0.000037  0.000043  0.000037  \n",
      "2    0.000006  0.000011  0.000010  0.000011  \n",
      "3    0.000023  0.000034  0.000039  0.000034  \n",
      "4    0.000004  0.000007  0.000006  0.000006  \n",
      "..        ...       ...       ...       ...  \n",
      "312  0.000008  0.000009  0.000010  0.000010  \n",
      "313  0.000012  0.000013  0.000015  0.000015  \n",
      "314  0.000018  0.000020  0.000023  0.000023  \n",
      "315  0.000019  0.000020  0.000024  0.000023  \n",
      "316  0.000015  0.000017  0.000019  0.000018  \n",
      "\n",
      "[613 rows x 124 columns]\n"
     ]
    }
   ],
   "source": [
    "# List of CSV files\n",
    "csv_files = [\n",
    "    \"features_test_1.csv\",\n",
    "    \"features_test_2.csv\"\n",
    "    ]\n",
    "\n",
    "# Read all data into a DataFrame\n",
    "for f in csv_files:\n",
    "    df_temp = pd.read_csv(f, header=[0, 1])\n",
    "    print(f\"{f} shape: {df_temp.shape}\")\n",
    "\n",
    "df = pd.concat((pd.read_csv(f, header=[0, 1]) for f in csv_files))\n",
    "print(f\"Combined DataFrame shape: {df.shape}\")\n",
    "\n",
    "print(df) # (n_samples, n_features * n_channels)\n",
    "\n",
    "# # Apply KMeans clustering\n",
    "kmeans = KMeans(n_clusters=2)\n",
    "clusters = kmeans.fit_predict(df)\n",
    "\n",
    "# # Evaluate the clustering results\n",
    "score = metrics.adjusted_rand_score(your_labels, clusters)"
   ]
  },
  {
   "cell_type": "code",
   "execution_count": null,
   "metadata": {},
   "outputs": [],
   "source": []
  }
 ],
 "metadata": {
  "kernelspec": {
   "display_name": "tms",
   "language": "python",
   "name": "python3"
  },
  "language_info": {
   "codemirror_mode": {
    "name": "ipython",
    "version": 3
   },
   "file_extension": ".py",
   "mimetype": "text/x-python",
   "name": "python",
   "nbconvert_exporter": "python",
   "pygments_lexer": "ipython3",
   "version": "3.12.0"
  }
 },
 "nbformat": 4,
 "nbformat_minor": 2
}
