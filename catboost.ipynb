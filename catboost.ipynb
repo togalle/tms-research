{
 "cells": [
  {
   "cell_type": "code",
   "execution_count": null,
   "metadata": {},
   "outputs": [],
   "source": [
    "%pip install catboost"
   ]
  },
  {
   "cell_type": "code",
   "execution_count": null,
   "metadata": {},
   "outputs": [],
   "source": [
    "import pandas as pd\n",
    "import numpy as np\n",
    "import os\n",
    "import re"
   ]
  },
  {
   "cell_type": "code",
   "execution_count": null,
   "metadata": {},
   "outputs": [],
   "source": [
    "# test catboost\n",
    "\n",
    "import numpy\n",
    "from catboost import CatBoostRegressor\n",
    "\n",
    "dataset = numpy.array([[1,4,5,6],[4,5,6,7],[30,40,50,60],[20,15,85,60]])\n",
    "train_labels = [1.2,3.4,9.5,24.5]\n",
    "model = CatBoostRegressor(learning_rate=1, depth=6, loss_function='RMSE')\n",
    "fit_model = model.fit(dataset, train_labels)\n",
    "\n",
    "print(fit_model.get_params())"
   ]
  },
  {
   "cell_type": "code",
   "execution_count": null,
   "metadata": {},
   "outputs": [],
   "source": [
    "def get_labels(directory, metadata_csv):\n",
    "    metadata = pd.read_csv(metadata_csv, index_col=0, header=None)\n",
    "\n",
    "    labels = {0: 'sham', 1: 'ctbs', 2: 'itbs'}\n",
    "    data = []\n",
    "\n",
    "    for filename in os.listdir(directory):\n",
    "        # note that the s can be upper or lower case and that the letter b can be behind the session number\n",
    "        match = re.match(r'TMS-EEG-H_(\\d+)_(S|s)(\\w+)(b?)_(rsEEG|spTEP)_(pre|post)-epo.fif', filename)\n",
    "        if match:\n",
    "            patient_id, _, session, _, eeg_type, pre_post = match.groups()\n",
    "            session = int(session.rstrip('b'))\n",
    "\n",
    "            # Get the procedure for the session from the metadata\n",
    "            procedure = labels[metadata.loc[f'H{patient_id}'][session]]\n",
    "\n",
    "            data.append([filename, procedure, patient_id, eeg_type, pre_post])\n",
    "\n",
    "    df = pd.DataFrame(data, columns=['filename', 'procedure', 'patient_id', 'eeg_type', 'pre_post'])\n",
    "    return df\n",
    "\n",
    "get_labels(\"dataset-cleaned\", \"Randomisatielijst.csv\")"
   ]
  },
  {
   "cell_type": "code",
   "execution_count": null,
   "metadata": {},
   "outputs": [],
   "source": [
    "from sklearn.model_selection import train_test_split\n",
    "\n",
    "def get_train_test_split(directory, test_size=0.2):\n",
    "    # Dictionary to hold participant IDs as keys and a list of corresponding filenames as values\n",
    "    participants_files = {}\n",
    "\n",
    "    # List all files in the directory\n",
    "    for filename in os.listdir(directory):\n",
    "        # Extract participant ID from the filename\n",
    "        match = re.search(r'H_\\d+', filename)\n",
    "        if match:\n",
    "            participant_id = match.group(0)\n",
    "            if participant_id not in participants_files:\n",
    "                participants_files[participant_id] = []\n",
    "            participants_files[participant_id].append(filename)\n",
    "\n",
    "    train_files = []\n",
    "    test_files = []\n",
    "\n",
    "    # Split files for each participant into training and testing\n",
    "    for participant_id, files in participants_files.items():\n",
    "        train, test = train_test_split(files, test_size=test_size, random_state=42)\n",
    "        train_files.extend(train)\n",
    "        test_files.extend(test)\n",
    "\n",
    "    return train_files, test_files\n",
    "\n",
    "train_files, test_files = get_train_test_split(\"./dataset-cleaned\")"
   ]
  },
  {
   "cell_type": "code",
   "execution_count": null,
   "metadata": {},
   "outputs": [],
   "source": [
    "def get_data(directory, filenames):\n",
    "    \"\"\"Returns a df containing all rows from the given feature files.\"\"\"\n",
    "    data = []\n",
    "    for filename in filenames:\n",
    "        df = pd.read_csv(os.path.join(directory, filename), header=[0,1])\n",
    "        data.append(df)\n",
    "    df = pd.concat(data)\n",
    "    return df\n",
    "\n",
    "def get_labels(label_name, label_df, filenames):\n",
    "    \"\"\"Returns a df column containg the labels for the given filenames. This is achieved by repeating the respective label for each row in the feature file.\"\"\"\n",
    "    labels = []\n",
    "    print(filenames)\n",
    "    for filename in filenames:\n",
    "        df = pd.read_csv(os.path.join(\"features\", filename), header=[0,1])\n",
    "        rows = df.shape[0]\n",
    "        filename = filename.split(\".\")[0]\n",
    "        label = label_df[label_df['filename'] == filename][label_name].values[0]\n",
    "        print(f'rows: {rows}, label: {label}')\n",
    "        # add label * rows times\n",
    "        labels.extend([label] * rows)\n",
    "    df = pd.DataFrame(labels, columns=[label_name])\n",
    "    return df\n",
    "\n",
    "files = []\n",
    "requirements = [\"rsEEG\"]\n",
    "for filename in os.listdir(\"features\"):\n",
    "    if all(x in filename for x in requirements):\n",
    "        files.append(filename)\n",
    "\n",
    "data_df = get_data(\"features\", files)\n",
    "\n",
    "label_df = pd.read_csv(\"labels.csv\")\n",
    "label_df = get_labels(\"timing\", label_df, files)\n",
    "\n",
    "label_df"
   ]
  },
  {
   "cell_type": "code",
   "execution_count": null,
   "metadata": {},
   "outputs": [],
   "source": [
    "import numpy as np\n",
    "\n",
    "from catboost import CatBoostClassifier, Pool\n",
    "\n",
    "# initialize data\n",
    "train_data = data_df\n",
    "\n",
    "train_labels = label_df\n",
    "\n",
    "test_data = catboost_pool = Pool(train_data,\n",
    "                                 train_labels)\n",
    "\n",
    "model = CatBoostClassifier(iterations=5,\n",
    "                           depth=2,\n",
    "                           learning_rate=1,\n",
    "                           loss_function='Logloss',\n",
    "                           verbose=True)\n",
    "# train the model\n",
    "model.fit(train_data, train_labels)\n",
    "# make the prediction using the resulting model\n",
    "preds_class = model.predict(test_data)\n",
    "preds_proba = model.predict_proba(test_data)\n",
    "print(\"class = \", preds_class)\n",
    "print(\"proba = \", preds_proba)\n"
   ]
  },
  {
   "cell_type": "code",
   "execution_count": null,
   "metadata": {},
   "outputs": [],
   "source": []
  }
 ],
 "metadata": {
  "kernelspec": {
   "display_name": "tms",
   "language": "python",
   "name": "python3"
  },
  "language_info": {
   "codemirror_mode": {
    "name": "ipython",
    "version": 3
   },
   "file_extension": ".py",
   "mimetype": "text/x-python",
   "name": "python",
   "nbconvert_exporter": "python",
   "pygments_lexer": "ipython3",
   "version": "3.12.0"
  }
 },
 "nbformat": 4,
 "nbformat_minor": 2
}
